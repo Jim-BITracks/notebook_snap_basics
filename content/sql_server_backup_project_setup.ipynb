{
    "metadata": {
        "kernelspec": {
            "name": "SQL",
            "display_name": "SQL",
            "language": "sql"
        },
        "language_info": {
            "name": "sql",
            "version": ""
        }
    },
    "nbformat_minor": 2,
    "nbformat": 4,
    "cells": [
        {
            "cell_type": "markdown",
            "source": [
                "# SQL Server Backup (Project Setup)\r\n",
                "\r\n",
                "This notebook contains the SQL Set-up scripts for the eltSnap project \"SQL Server Backup\". This project setup will also reference the notebook: (see: [PowerShell Utilities](powershell_utilities.ipynb)) to copy the backup files to another location.\r\n",
                "\r\n",
                "These scripts needs to be run **after** running the notebook called **Ingest ADS Notebook Files (Project)**\r\n",
                "\r\n",
                "> To run these SQL scripts, first connect to your SQL Server instance of **eltsnap_v2**"
            ],
            "metadata": {
                "azdata_cell_guid": "d6c1fe58-248d-4109-96d4-92cada3fff68"
            }
        },
        {
            "cell_type": "markdown",
            "source": [
                "## Add a Connection for the SQL Server that you want to Backup\r\n",
                "\r\n",
                "Verify the Parameter Values in the EXEC statement below. You may need to _replace_ 'localhost' with your _server_name_\r\n",
                "\r\n",
                "> Note: Initial Parameter Values can be substituted at runtime"
            ],
            "metadata": {
                "azdata_cell_guid": "553ecc46-ce65-4944-819e-be9995c84dad"
            }
        },
        {
            "cell_type": "code",
            "source": [
                "EXEC [elt].[Save Connection by Name] \r\n",
                "     @connection_name = 'sql_server'\r\n",
                "   , @server_name = 'localhost'\r\n",
                "   , @database_name = 'master'\r\n",
                "   , @provider = 'SQL Server Native Client 11.0'"
            ],
            "metadata": {
                "azdata_cell_guid": "809e7389-ccc1-4ce0-a90a-f57ad7c5c9a9"
            },
            "outputs": [],
            "execution_count": null
        },
        {
            "cell_type": "markdown",
            "source": [
                "## Insert Project Cell Rows\r\n",
                "\r\n",
                "Since we are referencing more than one notebook in this Project, we will need to first populate rows in table: [ads].[project_cells] which will provide our _Project Definition_:"
            ],
            "metadata": {
                "azdata_cell_guid": "27009272-1e6e-4e20-bca4-72d75f2630c5"
            }
        },
        {
            "cell_type": "code",
            "source": [
                "\r\n",
                "DELETE FROM [ads].[project_cells] WHERE [project_name] = 'SQL Server Backup';\r\n",
                "\r\n",
                "INSERT [ads].[project_cells] ([project_name], [full_name], [cell_name], [sequence_number], [parallel_executions]) VALUES (N'SQL Server Backup', N'notebook_snap_basics\\content\\sql_server_backup_project.ipynb', N'Backup Databases', 100, NULL);\r\n",
                "INSERT [ads].[project_cells] ([project_name], [full_name], [cell_name], [sequence_number], [parallel_executions]) VALUES (N'SQL Server Backup', N'notebook_snap_basics\\content\\powershell_utilities.ipynb', N'Copy All Files in a Folder to another Location', 200, NULL);\r\n",
                ""
            ],
            "metadata": {
                "azdata_cell_guid": "ddcfc176-2f98-41b2-a5d0-821c0b401959"
            },
            "outputs": [],
            "execution_count": null
        },
        {
            "cell_type": "markdown",
            "source": [
                "## Check Impact of Importing this \"Notebook Based\" Project\r\n",
                "\r\n",
                "Because the eltSnap_v2 database contains re-usable objects (i.e., Connections, Parameters, Packages), you can run this procedure to see the _impact_ that 'Importing' this project may have in relation to currently defined projects."
            ],
            "metadata": {
                "azdata_cell_guid": "8bce232b-619b-4c6e-87b7-4cc008fc20a1"
            }
        },
        {
            "cell_type": "code",
            "source": [
                "EXEC [ads].[Impact Check from ADS] 'SQL Server Backup';"
            ],
            "metadata": {
                "azdata_cell_guid": "5e01f9d9-2ee5-4a93-bde9-f7ffbd8d61e7"
            },
            "outputs": [],
            "execution_count": null
        },
        {
            "cell_type": "markdown",
            "source": [
                "## Project Import\r\n",
                "\r\n",
                "The following script is used to _Import_ the custom defined project: **SQL Server Backup** "
            ],
            "metadata": {
                "azdata_cell_guid": "95c7dc69-4f5b-4bfb-b896-168899752c8c"
            }
        },
        {
            "cell_type": "code",
            "source": [
                "EXEC [ads].[Import Project from ADS] 'SQL Server Backup'"
            ],
            "metadata": {
                "azdata_cell_guid": "b6675b66-2453-475a-ba9c-0b3b67a10cf6"
            },
            "outputs": [],
            "execution_count": null
        }
    ]
}