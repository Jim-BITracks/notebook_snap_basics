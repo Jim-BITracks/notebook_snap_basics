{
    "metadata": {
        "kernelspec": {
            "name": "powershell",
            "display_name": "PowerShell",
            "language": "powershell"
        },
        "language_info": {
            "name": "powershell",
            "codemirror_mode": "shell",
            "mimetype": "text/x-sh",
            "file_extension": ".ps1"
        }
    },
    "nbformat_minor": 2,
    "nbformat": 4,
    "cells": [
        {
            "cell_type": "markdown",
            "source": [
                "# Ingest ADS Notebook Files (Project)\r\n",
                "\r\n",
                "![files_to_database](files_to_database.png)\r\n",
                "\r\n",
                "This Notebook will load selected files (from a local or networked file system) into a SQL Server database.\r\n",
                "\r\n",
                "> For best results, use this notebook to create an **eltSnap** project"
            ],
            "metadata": {
                "azdata_cell_guid": "44841f01-e6e1-4161-af48-7ee86eb0deb3"
            }
        },
        {
            "cell_type": "markdown",
            "source": [
                "## Reset staging table"
            ],
            "metadata": {
                "azdata_cell_guid": "9ef7bc0e-a20b-4517-9606-6072bbdb50ba"
            }
        },
        {
            "cell_type": "code",
            "source": [
                "Invoke-Sqlcmd -ServerInstance <#${eltsnap_v2_Server}#>'localhost'<##> -Database <#${eltsnap_v2_Database}#>'eltsnap_v2'<##> -Query 'TRUNCATE TABLE [stg].[files]'"
            ],
            "metadata": {
                "azdata_cell_guid": "70ed5c4a-8ccf-4836-b546-b89504a5723f",
                "tags": [],
                "notebooksnap": {
                    "pattern": "Execute Process",
                    "cell_name": "Ingest files - Reset staging table",
                    "executable": "PWSH",
                    "working_directory": "${powershell_script_path}"
                }
            },
            "outputs": [
                {
                    "output_type": "stream",
                    "name": "stdout",
                    "text": ""
                }
            ],
            "execution_count": 1
        },
        {
            "cell_type": "markdown",
            "source": [
                "## Load Files into table: [stg].[files]\r\n",
                ""
            ],
            "metadata": {
                "azdata_cell_guid": "b5890a08-b92b-4174-aebd-b6fd83ee6431"
            }
        },
        {
            "cell_type": "code",
            "source": [
                "Get-ChildItem -Path <#${notebook_repos}#>'C:\\ADS\\Repository\\'<##> -Recurse -Include *.ipynb | Select-Object @{l='FullName';e={($_.FullName).Replace(<#${notebook_repos}#>'C:\\ADS\\Repository\\'<##>,'')}}, BaseName, @{l='Extension';e={($_.Extension).Replace('.','')}}, LastWriteTime, Length, @{l='Contents';e={(Get-Content $_ -Raw).ToString()}} | Write-SqlTableData -ServerInstance <#${eltsnap_v2_Server}#>'localhost'<##> -DatabaseName <#${eltsnap_v2_Database}#>'eltsnap_v2'<##> -SchemaName 'stg' -TableName 'files'"
            ],
            "metadata": {
                "azdata_cell_guid": "6c1ff060-bc28-42c6-a0d9-d44b392c3da6",
                "tags": [],
                "notebooksnap": {
                    "pattern": "Execute Process",
                    "cell_name": "Ingest files - Stage Files in Database",
                    "executable": "PWSH",
                    "working_directory": "${powershell_script_path}"
                }
            },
            "outputs": [
                {
                    "output_type": "stream",
                    "name": "stdout",
                    "text": ""
                }
            ],
            "execution_count": 2
        },
        {
            "cell_type": "markdown",
            "source": [
                "## Merge table: [stg].[files] into: [ads].[files]"
            ],
            "metadata": {
                "azdata_cell_guid": "7ad29fea-1586-49ab-87e4-7aa579558a10"
            }
        },
        {
            "cell_type": "code",
            "source": [
                "Invoke-Sqlcmd -ServerInstance <#${eltsnap_v2_Server}#>'localhost'<##> -Database <#${eltsnap_v2_Database}#>'eltsnap_v2'<##> -Query \"EXEC [ads].[Merge Staged Files];\""
            ],
            "metadata": {
                "azdata_cell_guid": "f4720c1d-f350-489d-b076-43fdde02bfef",
                "notebooksnap": {
                    "pattern": "Execute Process",
                    "cell_name": "Ingest files - Merge Staged Files",
                    "executable": "PWSH",
                    "working_directory": "${powershell_script_path}"
                }
            },
            "outputs": [
                {
                    "output_type": "stream",
                    "name": "stdout",
                    "text": "\nrow_count\n---------\n        9\n\n\n"
                }
            ],
            "execution_count": 3
        },
        {
            "cell_type": "markdown",
            "source": [
                "## Ingest all Notebooks Files into table: [ads].[notebooks]"
            ],
            "metadata": {
                "azdata_cell_guid": "0b12ef7f-2eb7-4aa0-a303-b0e964e1487e"
            }
        },
        {
            "cell_type": "code",
            "source": [
                "Invoke-Sqlcmd -ServerInstance <#${eltsnap_v2_Server}#>'localhost'<##> -Database <#${eltsnap_v2_Database}#>'eltsnap_v2'<##> -Query \"EXEC [ads].[Ingest All Notebooks];\""
            ],
            "metadata": {
                "azdata_cell_guid": "3b9b9f9b-9ef3-4259-8889-8d2ebbcac470",
                "notebooksnap": {
                    "pattern": "Execute Process",
                    "cell_name": "Ingest files - Notebook Contents",
                    "executable": "PWSH",
                    "working_directory": "${powershell_script_path}"
                }
            },
            "outputs": [
                {
                    "output_type": "stream",
                    "name": "stdout",
                    "text": ""
                }
            ],
            "execution_count": 4
        }
    ]
}