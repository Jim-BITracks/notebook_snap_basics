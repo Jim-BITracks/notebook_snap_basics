{
    "cells": [
        {
            "cell_type": "markdown",
            "metadata": {
                "azdata_cell_guid": "2d0fd733-e104-40b2-b21f-85cdac9f46ca"
            },
            "source": [
                "# Build and Execute Merge with Destination Fix - Snowflake"
            ]
        },
        {
            "cell_type": "markdown",
            "metadata": {},
            "source": [
                "## Import Python Libraries"
            ]
        },
        {
            "cell_type": "code",
            "execution_count": 8,
            "metadata": {},
            "outputs": [],
            "source": [
                "import snowflake.connector\n",
                "import os\n",
                "import sys\n",
                "import pandas as pd\n",
                "import numpy as np\n",
                "import pandas as pd\n",
                "import pyarrow as pa\n",
                "# pd.set_option('max_columns', 40)"
            ]
        },
        {
            "cell_type": "markdown",
            "metadata": {},
            "source": [
                "## Set Snowflake Variables"
            ]
        },
        {
            "cell_type": "code",
            "execution_count": 9,
            "metadata": {},
            "outputs": [
                {
                    "name": "stdout",
                    "output_type": "stream",
                    "text": [
                        "Using Notebook Variables:\n",
                        "snowflake_user: JMILLER\n",
                        "snowflake_password: ***************\n",
                        "snowflake_account: eh69371.east-us-2.azure\n",
                        "snowflake_role: SYSADMIN\n",
                        "snowflake_warehouse: COMPUTE_WH\n",
                        "snowflake_database: UTIL_DB\n",
                        "snowflake_schema: METADATA\n"
                    ]
                }
            ],
            "source": [
                "# snowflake connection variables\n",
                "snowflake_user = 'JMILLER'\n",
                "snowflake_password = os.environ['BISNOWPASS']\n",
                "snowflake_account = 'eh69371.east-us-2.azure'\n",
                "snowflake_role = 'SYSADMIN'\n",
                "snowflake_warehouse = 'COMPUTE_WH'\n",
                "\n",
                "# # database and schema for metadata objects\n",
                "snowflake_database = 'UTIL_DB'\n",
                "snowflake_schema = 'METADATA'\n",
                "\n",
                "print('Using Notebook Variables:')\n",
                "print('snowflake_user: ' + snowflake_user)\n",
                "print('snowflake_password: ' + '***************')\n",
                "print('snowflake_account: ' + snowflake_account)\n",
                "print('snowflake_role: ' + snowflake_role)\n",
                "print('snowflake_warehouse: ' + snowflake_warehouse)\n",
                "print('snowflake_database: ' + snowflake_database)\n",
                "print('snowflake_schema: ' + snowflake_schema)"
            ]
        },
        {
            "cell_type": "markdown",
            "metadata": {},
            "source": [
                "## Set Notebook Variables"
            ]
        },
        {
            "cell_type": "code",
            "execution_count": 10,
            "metadata": {},
            "outputs": [
                {
                    "name": "stdout",
                    "output_type": "stream",
                    "text": [
                        "Using Notebook Variables:\n",
                        "src_table_full: \"UTIL_DB\".\"INFORMATION_SCHEMA\".\"DATABASES\"\n",
                        "tgt_table_full: \"UTIL_DB\".\"METADATA\".\"D_DATABASES\"\n",
                        "added_dim_column_names_tag: standard_uc\n",
                        "natural_key_columns: DATABASE_NAME\n",
                        "type_2_columns: DATABASE_OWNER,RETENTION_TIME\n",
                        "type_0_columns: \n"
                    ]
                }
            ],
            "source": [
                "# notebook variables\n",
                "src_database = 'UTIL_DB'\n",
                "tgt_database = 'UTIL_DB'\n",
                "src_schema = 'INFORMATION_SCHEMA'\n",
                "tgt_schema = 'METADATA'\n",
                "src_table = 'DATABASES'\n",
                "tgt_table = 'D_DATABASES'\n",
                "added_dim_column_names_tag = 'standard_uc'\n",
                "natural_key_columns = 'DATABASE_NAME'\n",
                "type_2_columns = 'DATABASE_OWNER,RETENTION_TIME'\n",
                "type_0_columns = ''\n",
                "\n",
                "src_table_full = '\"' + src_database + '\".\"' + src_schema + '\".\"' + src_table + '\"'\n",
                "if not src_database:\n",
                "        src_table_full = '\"' + src_schema + '\".\"' + src_table + '\"'\n",
                "\n",
                "tgt_table_full = '\"' + tgt_database + '\".\"' + tgt_schema + '\".\"' + tgt_table + '\"'\n",
                "if not tgt_database:\n",
                "        src_table_full = '\"' + tgt_schema + '\".\"' + tgt_table + '\"'\n",
                "\n",
                "print('Using Notebook Variables:')\n",
                "print('src_table_full: ' + src_table_full)\n",
                "print('tgt_table_full: ' + tgt_table_full)\n",
                "print('added_dim_column_names_tag: ' + added_dim_column_names_tag)\n",
                "print('natural_key_columns: ' + natural_key_columns)\n",
                "print('type_2_columns: ' + type_2_columns)\n",
                "print('type_0_columns: ' + type_0_columns)\n"
            ]
        },
        {
            "cell_type": "markdown",
            "metadata": {},
            "source": [
                "## Check for Required values"
            ]
        },
        {
            "cell_type": "code",
            "execution_count": 11,
            "metadata": {},
            "outputs": [],
            "source": [
                "if not src_schema:\n",
                "    sys.exit(\"src_schema is required\")\n",
                "\n",
                "if not tgt_schema:\n",
                "    sys.exit(\"tgt_schema is required\")\n",
                "\n",
                "if not src_table:\n",
                "    sys.exit(\"src_table is required\")\n",
                "\n",
                "if not tgt_table:\n",
                "    sys.exit(\"tgt_table is required\")\n",
                "\n",
                "if not added_dim_column_names_tag:\n",
                "    sys.exit(\"added_dim_column_names_tag is required\")\n",
                "\n",
                "if not natural_key_columns:\n",
                "    sys.exit(\"natural_key_columns is required\")"
            ]
        },
        {
            "cell_type": "markdown",
            "metadata": {},
            "source": [
                "## Establish Snowflake Connection"
            ]
        },
        {
            "cell_type": "code",
            "execution_count": 12,
            "metadata": {
                "azdata_cell_guid": "bdca4781-9494-4f61-940d-9c004032a582"
            },
            "outputs": [
                {
                    "name": "stdout",
                    "output_type": "stream",
                    "text": [
                        "Snowflake Connection Successful\n",
                        "PythonConnector 2.6.0\n"
                    ]
                }
            ],
            "source": [
                "ctx = snowflake.connector.connect(\n",
                "    user = snowflake_user,\n",
                "    password = snowflake_password,\n",
                "    account = snowflake_account,\n",
                "    role = snowflake_role,\n",
                "    warehouse = snowflake_warehouse\n",
                "    )\n",
                "cur = ctx.cursor()\n",
                "\n",
                "# Return Client\n",
                "cur.execute(\"select CURRENT_CLIENT()\")\n",
                "one_row = cur.fetchone()\n",
                "print('Snowflake Connection Successful')\n",
                "print(one_row[0])"
            ]
        },
        {
            "cell_type": "markdown",
            "metadata": {},
            "source": [
                "## Set Snowflake Database and Schema Context"
            ]
        },
        {
            "cell_type": "code",
            "execution_count": 13,
            "metadata": {},
            "outputs": [
                {
                    "name": "stdout",
                    "output_type": "stream",
                    "text": [
                        "use database UTIL_DB;\n",
                        "use schema METADATA;\n"
                    ]
                },
                {
                    "data": {
                        "text/plain": [
                            "<snowflake.connector.cursor.SnowflakeCursor at 0x1ff08b70b80>"
                        ]
                    },
                    "execution_count": 13,
                    "metadata": {},
                    "output_type": "execute_result"
                }
            ],
            "source": [
                "sql = \"use database \" + snowflake_database + \";\"\n",
                "print(sql)\n",
                "cur.execute(sql)\n",
                "\n",
                "sql = \"use schema \" + snowflake_schema + \";\"\n",
                "print(sql)\n",
                "cur.execute(sql)"
            ]
        },
        {
            "cell_type": "markdown",
            "metadata": {},
            "source": [
                "## Get names for supplemental dimension columns"
            ]
        },
        {
            "cell_type": "code",
            "execution_count": 14,
            "metadata": {},
            "outputs": [
                {
                    "name": "stdout",
                    "output_type": "stream",
                    "text": [
                        "\n",
                        "SELECT ROW_IS_CURRENT, ROW_EFFECTIVE_DATE, ROW_EXPIRATION_DATE, ROW_INSERT_DATE, ROW_UPDATE_DATE \n",
                        "  FROM ADDED_DIM_COLUMN_NAMES \n",
                        " WHERE ADDED_DIM_COLUMN_NAMES_TAG  = 'standard_uc' \n",
                        "\n",
                        "row_is_current: ROW_IS_CURRENT\n",
                        "row_effective_date: ROW_EFFECTIVE_DATE\n",
                        "row_expiration_date: ROW_EXPIRATION_DATE\n",
                        "row_insert_date: ROW_INSERT_DATE\n",
                        "row_update_date: ROW_UPDATE_DATE\n"
                    ]
                }
            ],
            "source": [
                "sql = \"\"\"\n",
                "SELECT ROW_IS_CURRENT, ROW_EFFECTIVE_DATE, ROW_EXPIRATION_DATE, ROW_INSERT_DATE, ROW_UPDATE_DATE \n",
                "  FROM ADDED_DIM_COLUMN_NAMES \n",
                " WHERE ADDED_DIM_COLUMN_NAMES_TAG  = '\"\"\" + added_dim_column_names_tag + \"\"\"' \n",
                "\"\"\"\n",
                "print(sql)\n",
                "cur.execute(sql)\n",
                "one_row = cur.fetchone()\n",
                "row_is_current = one_row[0]\n",
                "row_effective_date = one_row[1]\n",
                "row_expiration_date = one_row[2]\n",
                "row_insert_date = one_row[3]\n",
                "row_update_date = one_row[4]\n",
                "\n",
                "print('row_is_current:', row_is_current)\n",
                "print('row_effective_date:', row_effective_date)\n",
                "print('row_expiration_date:', row_expiration_date)\n",
                "print('row_insert_date:', row_insert_date)\n",
                "print('row_update_date:', row_update_date)"
            ]
        }
    ],
    "metadata": {
        "extensions": {
            "azuredatastudio": {
                "version": 1,
                "views": []
            }
        },
        "interpreter": {
            "hash": "63fd5069d213b44bf678585dea6b12cceca9941eaf7f819626cde1f2670de90d"
        },
        "kernelspec": {
            "display_name": "Python 3.9.6 64-bit",
            "name": "python3"
        },
        "language_info": {
            "codemirror_mode": {
                "name": "ipython",
                "version": 3
            },
            "file_extension": ".py",
            "mimetype": "text/x-python",
            "name": "python",
            "nbconvert_exporter": "python",
            "pygments_lexer": "ipython3",
            "version": "3.9.6"
        }
    },
    "nbformat": 4,
    "nbformat_minor": 2
}
