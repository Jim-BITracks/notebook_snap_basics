{
    "metadata": {
        "kernelspec": {
            "name": "SQL",
            "display_name": "SQL",
            "language": "sql"
        },
        "language_info": {
            "name": "sql",
            "version": ""
        }
    },
    "nbformat_minor": 2,
    "nbformat": 4,
    "cells": [
        {
            "cell_type": "markdown",
            "source": [
                "# Metadata Refresh for Snowflake (Project Setup)\n",
                "\n",
                "This notebook contains the SQL Set-up scripts for the eltSnap project \"Metadata Refresh for SQL Server\"\n",
                "\n",
                "These script needs to be run **after** running the notebook called **Ingest ADS Notebook Files (Project)**\n",
                "\n",
                "> Important: Requires the Project **\"Metadata Refresh v2\"** to also be ingested since this project re-uses some code cells\n",
                "\n",
                "> To run these SQL scripts, first connect to your SQL Server instance of **eltsnap\\_v2**"
            ],
            "metadata": {
                "azdata_cell_guid": "79fec498-f45d-45ee-bfdb-1bc73a11e4c4"
            }
        },
        {
            "cell_type": "markdown",
            "source": [
                "## This project requires a free Snowflake ODBC driver \r\n",
                "\r\n",
                "> The Snowflake ODBC driver can be downloaded [here](https://docs.snowflake.com/en/user-guide/odbc.html)"
            ],
            "metadata": {
                "azdata_cell_guid": "c88c1b47-aeed-4bc1-9fe3-f74cb9200677"
            }
        },
        {
            "cell_type": "markdown",
            "source": [
                "## Create a DSN using the ODBC Data Source application\n",
                "\n",
                "### 1\\. Navigate to the 'System DSN' tab and click 'Add' to create a new DSN\n",
                "\n",
                "![System DSN](.\\odbc_app.png)\n",
                "\n",
                "### 2\\. Choose 'SnowflakeDSIIDriver' and click 'Finish'\n",
                "\n",
                "![Add Data Source](.\\add_odbc_data_source.png)\n",
                "\n",
                "### 3\\. Configure the connection settings\n",
                "\n",
                "Use the following connection settings\n",
                "\n",
                "| Property | Description |\n",
                "| --- | --- |\n",
                "| Data Source | Friendly name of the data source |\n",
                "| User | User name to access the Snowflake database |\n",
                "| Password | Password to access the Snowflake database |\n",
                "| Server | Domain name of your Snowflake account |\n",
                "| Database | Name of the Snowflake database |\n",
                "| Schema | Name of the Snowflake schema |\n",
                "| Warehouse | Name of the Snowflake warehouse |\n",
                "| Role | The Snowflake role assigned to the user |\n",
                "| Tracing (0-6) | Sets the amount of detail shown in the log file |\n",
                "```\n",
                "Tracing levels\n",
                "- 0. Disable Tracing\n",
                "- 1. Fatal error tracing\n",
                "- 2. Error tracing\n",
                "- 3. Warning tracing\n",
                "- 4. Info tracing\n",
                "- 5. Debug tracing\n",
                "- 6. Detailed tracing\n",
                "```\n",
                "The following image shows the dialog box where you can input the connection settings\n",
                "\n",
                "![Configuration Dialog](.\\odbc_config.png)\n",
                "\n",
                "> For more information a Snowflake ODBC user guide can be found [here](https://docs.snowflake.com/en/user-guide/odbc-parameters.html)\n",
                "\n",
                "### 4\\. Add password to Registry Editor\n",
                "\n",
                "The password in the ODBC configuration dialog will not persist. Adding the password using the Registry Editor will remedy this issue:\n",
                "\n",
                "![Configuration Dialog](.\\regedit_password.png)"
            ],
            "metadata": {
                "azdata_cell_guid": "0a0d94ce-536c-46d2-b6a5-8c8ba37f04d6"
            }
        },
        {
            "cell_type": "markdown",
            "source": [
                "## Add a Connection for the Snowflake database to Extract Metadata (Source)\r\n",
                "\r\n",
                "Verify the Parameter Values in the EXEC statement below. You may need to _replace_ 'localhost' with your _server_name_\r\n",
                "\r\n",
                "> Note: Initial Parameter Values can be substituted at runtime"
            ],
            "metadata": {
                "azdata_cell_guid": "553ecc46-ce65-4944-819e-be9995c84dad"
            }
        },
        {
            "cell_type": "code",
            "source": [
                "EXEC [elt].[Save Connection by Name] \r\n",
                "     @connection_name = 'snowflake-demo'\r\n",
                "   , @server_name = 'snowflake-demo'\r\n",
                "   , @database_name = 'CAR_CRASH'\r\n",
                "   , @provider = 'odbc'\r\n",
                "   , @project_name = 'Metadata Refresh (Snowflake)'\r\n",
                "   , @custom_connect_string = 'DSN=snowflake-demo'"
            ],
            "metadata": {
                "azdata_cell_guid": "809e7389-ccc1-4ce0-a90a-f57ad7c5c9a9"
            },
            "outputs": [],
            "execution_count": null
        },
        {
            "cell_type": "markdown",
            "source": [
                "## Metadata Refresh (Snowflake) - Project Import\n",
                "\n",
                "The following script is used to populate the table: [ads].[project_cells] with the desired sequence numbers and file resources, along with the command used to Import this project\n",
                "\n",
                "> Important: Requires the Project \"Metadata Refresh v2\" to first be Imported since this project re-uses some code cells"
            ],
            "metadata": {
                "azdata_cell_guid": "baa80723-a33c-4798-9439-90bc1737ce3c"
            }
        },
        {
            "cell_type": "code",
            "source": [
                "DELETE FROM [ads].[project_cells] WHERE [project_name] = 'Metadata Refresh (Snowflake)'\r\n",
                "\r\n",
                "INSERT [ads].[project_cells] ([project_name], [full_name], [cell_name], [sequence_number], [parallel_executions]) VALUES (N'Metadata Refresh (Snowflake)',\tN'notebook_snap_basics\\content\\metadata_refresh_for_snowflake_project.ipynb',\tN'Insert Metadata Server Name (snowflake)', 100, NULL)\r\n",
                "INSERT [ads].[project_cells] ([project_name], [full_name], [cell_name], [sequence_number], [parallel_executions]) VALUES (N'Metadata Refresh (Snowflake)',\tN'notebook_snap_basics\\content\\metadata_refresh_for_sql_server_project.ipynb',\tN'Truncate STG tables', 110, NULL)\r\n",
                "INSERT [ads].[project_cells] ([project_name], [full_name], [cell_name], [sequence_number], [parallel_executions]) VALUES (N'Metadata Refresh (Snowflake)',\tN'notebook_snap_basics\\content\\refresh_database_names_snowflake.sql',\t        N'Refresh Database Names (snowflake)', 120,\tNULL)\r\n",
                "INSERT [ads].[project_cells] ([project_name], [full_name], [cell_name], [sequence_number], [parallel_executions]) VALUES (N'Metadata Refresh (Snowflake)',\tN'notebook_snap_basics\\content\\metadata_refresh_for_snowflake_project.ipynb',\tN'Merge stg to meta schema (snowflake) - dim_database', 130, NULL)\r\n",
                "INSERT [ads].[project_cells] ([project_name], [full_name], [cell_name], [sequence_number], [parallel_executions]) VALUES (N'Metadata Refresh (Snowflake)',\tN'notebook_snap_basics\\content\\refresh_table_names_snowflake.sql',\t            N'src to stg - snowflake tables', 140, NULL)\r\n",
                "INSERT [ads].[project_cells] ([project_name], [full_name], [cell_name], [sequence_number], [parallel_executions]) VALUES (N'Metadata Refresh (Snowflake)',\tN'notebook_snap_basics\\content\\refresh_column_names_snowflake.sql',\t            N'src to stg - Snowflake columns', 150, NULL)\r\n",
                "INSERT [ads].[project_cells] ([project_name], [full_name], [cell_name], [sequence_number], [parallel_executions]) VALUES (N'Metadata Refresh (Snowflake)',\tN'notebook_snap_basics\\content\\metadata_refresh_for_snowflake_project.ipynb',\tN'Merge stg to meta schema - dim_table (snowflake)', 160, NULL)\r\n",
                "INSERT [ads].[project_cells] ([project_name], [full_name], [cell_name], [sequence_number], [parallel_executions]) VALUES (N'Metadata Refresh (Snowflake)',\tN'notebook_snap_basics\\content\\metadata_refresh_for_snowflake_project.ipynb',\tN'Merge stg to meta schema - dim_column (snowflake)', 170, NULL)\r\n",
                "INSERT [ads].[project_cells] ([project_name], [full_name], [cell_name], [sequence_number], [parallel_executions]) VALUES (N'Metadata Refresh (Snowflake)',\tN'notebook_snap_basics\\content\\metadata_refresh_for_sql_server_project.ipynb',\tN'Merge stg to dbo schema - dim_table', 180, NULL)\r\n",
                "INSERT [ads].[project_cells] ([project_name], [full_name], [cell_name], [sequence_number], [parallel_executions]) VALUES (N'Metadata Refresh (Snowflake)',\tN'notebook_snap_basics\\content\\metadata_refresh_for_sql_server_project.ipynb',\tN'Merge stg to dbo schema - dim_column', 190, NULL)\r\n",
                "INSERT [ads].[project_cells] ([project_name], [full_name], [cell_name], [sequence_number], [parallel_executions]) VALUES (N'Metadata Refresh (Snowflake)',\tN'notebook_snap_basics\\content\\metadata_refresh_for_sql_server_project.ipynb',\tN'dim delete - dbo - dim_table', 200, NULL)\r\n",
                "INSERT [ads].[project_cells] ([project_name], [full_name], [cell_name], [sequence_number], [parallel_executions]) VALUES (N'Metadata Refresh (Snowflake)',\tN'notebook_snap_basics\\content\\metadata_refresh_for_sql_server_project.ipynb',\tN'dim delete - dbo - dim_column', 210, NULL)"
            ],
            "metadata": {
                "azdata_cell_guid": "aa8d878a-fa34-4934-ac4a-fa3ddf1d6a18"
            },
            "outputs": [],
            "execution_count": null
        },
        {
            "cell_type": "markdown",
            "source": [
                "## Check Impact of Importing Project "
            ],
            "metadata": {
                "azdata_cell_guid": "7673756f-656c-4aca-ac07-327e694f526b"
            }
        },
        {
            "cell_type": "code",
            "source": [
                "EXEC [ads].[Impact Check from ADS] 'Metadata Refresh (Snowflake)', NULL;"
            ],
            "metadata": {
                "azdata_cell_guid": "ee2a88aa-c216-411c-ad12-a8de92e2e4a5"
            },
            "outputs": [],
            "execution_count": null
        },
        {
            "cell_type": "markdown",
            "source": [
                "## Import project from ADS"
            ],
            "metadata": {
                "azdata_cell_guid": "a6bd66df-fef9-4d86-9f3a-3fe519d8ce8e"
            }
        },
        {
            "cell_type": "code",
            "source": [
                "EXEC [ads].[Import Project from ADS] 'Metadata Refresh (Snowflake)';"
            ],
            "metadata": {
                "azdata_cell_guid": "ef2b1bfa-e72f-4968-8781-e916b3d9e4f1"
            },
            "outputs": [],
            "execution_count": null
        },
        {
            "cell_type": "markdown",
            "source": [
                "## Prevent Job from Running Concurrently (Recommended)\r\n",
                "\r\n",
                "To prevent this job from running concurrently (_including other related Metadata Refresh jobs_), the following script can be run to apply the needed 'runtime' constraint"
            ],
            "metadata": {
                "azdata_cell_guid": "bedb8693-113f-4d15-a59b-0f11577d97fa"
            }
        },
        {
            "cell_type": "code",
            "source": [
                "DECLARE @project_name_match NVARCHAR(128) = 'Metadata Refresh%'\r\n",
                "\t  , @rule NVARCHAR(128) = 'Cannot Run While Any'\r\n",
                "\t  , @rule_qualifier NVARCHAR(128) = 'Is Running';\r\n",
                "\r\n",
                "/* Delete prior constraints if exists */\r\n",
                "DELETE [elt].[project_rule_constraints]\r\n",
                " WHERE [project_id] IN \r\n",
                "     ( SELECT [project_id]\r\n",
                "\t     FROM [elt].[project]\r\n",
                "        WHERE [project_name] LIKE @project_name_match\r\n",
                "     )\r\n",
                "   AND [rule_id] =\r\n",
                "     ( SELECT [rule_id]\r\n",
                "\t     FROM [elt].[project_rule]\r\n",
                "\t\tWHERE [rule] = @rule AND [rule_qualifier] = @rule_qualifier\r\n",
                "\t );\r\n",
                "\r\n",
                "/* Add constraints to prevent concurrent runs */\r\n",
                "WITH [prj_id_grp] AS\r\n",
                "(\r\n",
                "SELECT (SELECT STRING_AGG([project_id], ',') WITHIN GROUP (ORDER BY [project_id])) AS [referenced_projects]\r\n",
                "  FROM [elt].[project]\r\n",
                " WHERE [project_name] LIKE @project_name_match\r\n",
                ")\r\n",
                "INSERT INTO [elt].[project_rule_constraints]\r\n",
                "SELECT NEWID() AS [id]\r\n",
                "     , 1 AS [wait_time_quantity]\r\n",
                "\t , 'Minutes' AS [wait_time_unit]\r\n",
                "\t , [project_id]\r\n",
                "\t , (SELECT [rule_id] FROM [elt].[project_rule] WHERE [rule] = @rule AND [rule_qualifier] = @rule_qualifier) AS [rule_id]\r\n",
                "\t , [referenced_projects]\r\n",
                "\t , NULL AS [rule_quantity]\r\n",
                "\t , NULL AS [rule_date_part]\r\n",
                "  FROM [elt].[project]\r\n",
                "     , [prj_id_grp]\r\n",
                " WHERE [project_name] LIKE @project_name_match;"
            ],
            "metadata": {
                "azdata_cell_guid": "97144e3c-bf5f-40d6-82cd-a9c67c16b340"
            },
            "outputs": [],
            "execution_count": null
        }
    ]
}