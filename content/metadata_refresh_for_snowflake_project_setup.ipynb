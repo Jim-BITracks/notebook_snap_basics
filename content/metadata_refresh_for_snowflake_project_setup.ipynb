{
    "metadata": {
        "kernelspec": {
            "name": "SQL",
            "display_name": "SQL",
            "language": "sql"
        },
        "language_info": {
            "name": "sql",
            "version": ""
        }
    },
    "nbformat_minor": 2,
    "nbformat": 4,
    "cells": [
        {
            "cell_type": "markdown",
            "source": [
                "# Metadata Refresh for Snowflake (Project Setup)\r\n",
                "\r\n",
                "This notebook contains the SQL Set-up scripts for the eltSnap project \"Metadata Refresh for SQL Server\"\r\n",
                "\r\n",
                "These script needs to be run **after** ingesting the notebook called **Ingest ADS Notebook Files (Project)**\r\n",
                "\r\n",
                "> To run these SQL scripts, first connect to your SQL Server instance of **eltsnap_v2**"
            ],
            "metadata": {
                "azdata_cell_guid": "79fec498-f45d-45ee-bfdb-1bc73a11e4c4"
            }
        },
        {
            "cell_type": "markdown",
            "source": [
                "## Add a Connection for the Snowflake database to Extract Metadata (Source)\r\n",
                "\r\n",
                "Verify the Parameter Values in the EXEC statement below. You may need to _replace_ 'localhost' with your _server_name_\r\n",
                "\r\n",
                "> Note: Initial Parameter Values can be substituted at runtime"
            ],
            "metadata": {
                "azdata_cell_guid": "553ecc46-ce65-4944-819e-be9995c84dad"
            }
        },
        {
            "cell_type": "code",
            "source": [
                "EXEC [elt].[Save Connection by Name] \r\n",
                "     @connection_name = 'snowflake-demo'\r\n",
                "   , @server_name = 'snowflake-demo'\r\n",
                "   , @database_name = 'CAR_CRASH'\r\n",
                "   , @provider = 'odbc'\r\n",
                "   , @project_name = 'Metadata Refresh (Snowflake)'\r\n",
                "   , @custom_connect_string = 'DSN=snowflake-demo'"
            ],
            "metadata": {
                "azdata_cell_guid": "809e7389-ccc1-4ce0-a90a-f57ad7c5c9a9"
            },
            "outputs": [],
            "execution_count": 1
        },
        {
            "cell_type": "markdown",
            "source": [
                "## Metadata Refresh (Snowflake) - Project Import\n",
                "\n",
                "The following script is used to populate the table: [ads].[project_cells] with the desired sequence numbers and file resources, along with the command used to Import this project\n",
                "\n",
                "> Important: Requires the Project \"Metadata Refresh v2\" to first be Imported since this project re-uses some code cells"
            ],
            "metadata": {
                "azdata_cell_guid": "baa80723-a33c-4798-9439-90bc1737ce3c"
            }
        },
        {
            "cell_type": "code",
            "source": [
                "DELETE FROM [ads].[project_cells] WHERE [project_name] = 'Metadata Refresh (Snowflake)'\r\n",
                "\r\n",
                "INSERT [ads].[project_cells] ([project_name], [full_name], [cell_name], [sequence_number], [parallel_executions]) VALUES (N'Metadata Refresh (Snowflake)',\tN'notebook_snap_basics\\content\\metadata_refresh_for_snowflake_project.ipynb',\tN'Insert Metadata Server Name (snowflake)', 100, NULL)\r\n",
                "INSERT [ads].[project_cells] ([project_name], [full_name], [cell_name], [sequence_number], [parallel_executions]) VALUES (N'Metadata Refresh (Snowflake)',\tN'notebook_snap_basics\\content\\metadata_refresh_for_sql_server_project.ipynb',\tN'Truncate STG tables', 110, NULL)\r\n",
                "INSERT [ads].[project_cells] ([project_name], [full_name], [cell_name], [sequence_number], [parallel_executions]) VALUES (N'Metadata Refresh (Snowflake)',\tN'notebook_snap_basics\\content\\refresh_database_names_snowflake.sql',\t        N'Refresh Database Names (snowflake)', 120,\tNULL)\r\n",
                "INSERT [ads].[project_cells] ([project_name], [full_name], [cell_name], [sequence_number], [parallel_executions]) VALUES (N'Metadata Refresh (Snowflake)',\tN'notebook_snap_basics\\content\\metadata_refresh_for_snowflake_project.ipynb',\tN'Merge stg to meta schema (snowflake) - dim_database', 130, NULL)\r\n",
                "INSERT [ads].[project_cells] ([project_name], [full_name], [cell_name], [sequence_number], [parallel_executions]) VALUES (N'Metadata Refresh (Snowflake)',\tN'notebook_snap_basics\\content\\src_to_stg_snowflake_tables.sql',\t            N'src to stg - snowflake tables', 140, NULL)\r\n",
                "INSERT [ads].[project_cells] ([project_name], [full_name], [cell_name], [sequence_number], [parallel_executions]) VALUES (N'Metadata Refresh (Snowflake)',\tN'notebook_snap_basics\\content\\src_to_stg_snowflake_columns.sql',\t            N'src to stg - Snowflake columns', 150, NULL)\r\n",
                "INSERT [ads].[project_cells] ([project_name], [full_name], [cell_name], [sequence_number], [parallel_executions]) VALUES (N'Metadata Refresh (Snowflake)',\tN'notebook_snap_basics\\content\\metadata_refresh_for_snowflake_project.ipynb',\tN'Merge stg to meta schema - dim_table (snowflake)', 160, NULL)\r\n",
                "INSERT [ads].[project_cells] ([project_name], [full_name], [cell_name], [sequence_number], [parallel_executions]) VALUES (N'Metadata Refresh (Snowflake)',\tN'notebook_snap_basics\\content\\metadata_refresh_for_snowflake_project.ipynb',\tN'Merge stg to meta schema - dim_column (snowflake)', 170, NULL)\r\n",
                "INSERT [ads].[project_cells] ([project_name], [full_name], [cell_name], [sequence_number], [parallel_executions]) VALUES (N'Metadata Refresh (Snowflake)',\tN'notebook_snap_basics\\content\\metadata_refresh_for_sql_server_project.ipynb',\tN'Merge stg to dbo schema - dim_table', 180, NULL)\r\n",
                "INSERT [ads].[project_cells] ([project_name], [full_name], [cell_name], [sequence_number], [parallel_executions]) VALUES (N'Metadata Refresh (Snowflake)',\tN'notebook_snap_basics\\content\\metadata_refresh_for_sql_server_project.ipynb',\tN'Merge stg to dbo schema - dim_column', 190, NULL)\r\n",
                "INSERT [ads].[project_cells] ([project_name], [full_name], [cell_name], [sequence_number], [parallel_executions]) VALUES (N'Metadata Refresh (Snowflake)',\tN'notebook_snap_basics\\content\\metadata_refresh_for_sql_server_project.ipynb',\tN'dim delete - dbo - dim_table', 200, NULL)\r\n",
                "INSERT [ads].[project_cells] ([project_name], [full_name], [cell_name], [sequence_number], [parallel_executions]) VALUES (N'Metadata Refresh (Snowflake)',\tN'notebook_snap_basics\\content\\metadata_refresh_for_sql_server_project.ipynb',\tN'dim delete - dbo - dim_column', 210, NULL)\r\n",
                "\r\n",
                "EXEC [ads].[Import Project from ADS] 'Metadata Refresh (Snowflake)';"
            ],
            "metadata": {
                "azdata_cell_guid": "aa8d878a-fa34-4934-ac4a-fa3ddf1d6a18"
            },
            "outputs": [],
            "execution_count": null
        }
    ]
}