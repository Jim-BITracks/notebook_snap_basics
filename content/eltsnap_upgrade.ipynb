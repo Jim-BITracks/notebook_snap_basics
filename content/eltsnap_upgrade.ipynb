{
    "metadata": {
        "kernelspec": {
            "name": "SQL",
            "display_name": "SQL",
            "language": "sql"
        },
        "language_info": {
            "name": "sql",
            "version": ""
        }
    },
    "nbformat_minor": 2,
    "nbformat": 4,
    "cells": [
        {
            "cell_type": "markdown",
            "source": [
                "# eltsnap upgrade"
            ],
            "metadata": {
                "azdata_cell_guid": "5ca3cf97-465c-4eab-8552-f9ede789d62c"
            }
        },
        {
            "cell_type": "markdown",
            "source": [
                "## elt.added_dim_column_names dataflow"
            ],
            "metadata": {
                "azdata_cell_guid": "0421362c-6b23-4409-b661-fe943c4f4019"
            }
        },
        {
            "cell_type": "code",
            "source": [
                "SELECT * FROM [elt].[added_dim_column_names] "
            ],
            "metadata": {
                "azdata_cell_guid": "5435756b-e674-43b3-9860-d03c9bed07be",
                "notebooksnap": {
                    "pattern": "Dataflow",
                    "cell_name": "elt.added_dim_column_names",
                    "src_connection": "eltsnap_v2 upgrade src",
                    "dst_connection": "eltsnap_v2a upgrade dest",
                    "dst_schema": "elt",
                    "dst_table": "added_dim_column_names",
                    "truncate_dst": "Y",
                    "identity_insert": "N",
                    "batch_size": "0"
                }
            },
            "outputs": [],
            "execution_count": 1
        },
        {
            "cell_type": "markdown",
            "source": [
                "## elt.dim_table_merge_config dataflow"
            ],
            "metadata": {
                "azdata_cell_guid": "657d3cf9-dd27-46e5-a4a9-f005854f5740"
            }
        },
        {
            "cell_type": "code",
            "source": [
                "SELECT * FROM elt.dim_table_merge_config"
            ],
            "metadata": {
                "azdata_cell_guid": "7ed3a765-7ada-408e-a7a0-ca6af7e1b372",
                "notebooksnap": {
                    "pattern": "Dataflow",
                    "cell_name": "elt.dim_table_merge_config",
                    "src_connection": "eltsnap_v2 upgrade src",
                    "dst_connection": "eltsnap_v2a upgrade dest",
                    "dst_schema": "elt",
                    "dst_table": "dim_table_merge_config",
                    "truncate_dst": "Y",
                    "identity_insert": "N",
                    "batch_size": "0"
                }
            },
            "outputs": [],
            "execution_count": 4
        },
        {
            "cell_type": "markdown",
            "source": [
                "## elt.environment dataflow"
            ],
            "metadata": {
                "azdata_cell_guid": "1cdf1e95-d20b-450f-8079-f0f6ae7b3770"
            }
        },
        {
            "cell_type": "code",
            "source": [
                "SELECT * FROM elt.environment "
            ],
            "metadata": {
                "azdata_cell_guid": "d81adcf8-93a7-4f0f-8c69-c72403d5152b",
                "notebooksnap": {
                    "pattern": "Dataflow",
                    "cell_name": "elt.environment ",
                    "src_connection": "eltsnap_v2 upgrade src",
                    "dst_connection": "eltsnap_v2a upgrade dest",
                    "dst_schema": "elt",
                    "dst_table": "environment ",
                    "truncate_dst": "Y",
                    "identity_insert": "N",
                    "batch_size": "0"
                }
            },
            "outputs": [],
            "execution_count": 5
        },
        {
            "cell_type": "markdown",
            "source": [
                "## elt.environment_parameter dataflow"
            ],
            "metadata": {
                "azdata_cell_guid": "10c6b92f-6d5e-4f45-9bfd-ca1d856c58ba"
            }
        },
        {
            "cell_type": "code",
            "source": [
                "SELECT * FROM elt.environment_parameter"
            ],
            "metadata": {
                "azdata_cell_guid": "646c9c1f-4bc1-4602-b1a9-28b5e814d44d",
                "notebooksnap": {
                    "pattern": "Dataflow",
                    "cell_name": "elt.environment_parameter",
                    "src_connection": "eltsnap_v2 upgrade src",
                    "dst_connection": "eltsnap_v2a upgrade dest",
                    "dst_schema": "elt",
                    "dst_table": "environment_parameter",
                    "truncate_dst": "Y",
                    "identity_insert": "N",
                    "batch_size": "0"
                }
            },
            "outputs": [],
            "execution_count": 6
        },
        {
            "cell_type": "markdown",
            "source": [
                "## elt.oledb\\_connection dataflow"
            ],
            "metadata": {
                "azdata_cell_guid": "7476b15b-04df-4cbb-8c8e-869b6a720f7e"
            }
        },
        {
            "cell_type": "code",
            "source": [
                "SELECT [connection_name]\r\n",
                "      ,[server_name]\r\n",
                "      ,[database_name]\r\n",
                "      ,[provider]\r\n",
                "      ,[custom_connect_string]\r\n",
                "      , NULL AS [ads_connection_id]\r\n",
                "FROM elt.oledb_connection"
            ],
            "metadata": {
                "azdata_cell_guid": "b41189a3-036a-49d9-928b-91e871841534",
                "notebooksnap": {
                    "pattern": "Dataflow",
                    "cell_name": "elt.oledb_connection",
                    "src_connection": "eltsnap_v2 upgrade src",
                    "dst_connection": "eltsnap_v2a upgrade dest",
                    "dst_schema": "elt",
                    "dst_table": "oledb_connection",
                    "truncate_dst": "Y",
                    "identity_insert": "N",
                    "batch_size": "0"
                }
            },
            "outputs": [],
            "execution_count": null
        },
        {
            "cell_type": "markdown",
            "source": [
                "## elt.parameter dataflow"
            ],
            "metadata": {
                "azdata_cell_guid": "c2b7fcb7-8763-4b8a-b3ea-cf6135b67915"
            }
        },
        {
            "cell_type": "code",
            "source": [
                "SELECT [parameter_name]\r\n",
                "      ,[parameter_value]\r\n",
                "      ,[parameter_type]\r\n",
                "      ,[key_vault_name]\r\n",
                "      ,[is_sensitive]\r\n",
                "  FROM [elt].[parameter]"
            ],
            "metadata": {
                "azdata_cell_guid": "1e202b39-628e-4e2d-8317-e6899623ae32",
                "notebooksnap": {
                    "pattern": "Dataflow",
                    "cell_name": "elt.parameter",
                    "src_connection": "eltsnap_v2 upgrade src",
                    "dst_connection": "eltsnap_v2a upgrade dest",
                    "dst_schema": "elt",
                    "dst_table": "parameter",
                    "truncate_dst": "Y",
                    "identity_insert": "N",
                    "batch_size": "0"
                }
            },
            "outputs": [],
            "execution_count": null
        },
        {
            "cell_type": "markdown",
            "source": [
                "## elt.project dataflow"
            ],
            "metadata": {
                "azdata_cell_guid": "36852a2d-283a-41f1-ad6d-3d2627043134"
            }
        },
        {
            "cell_type": "code",
            "source": [
                "SELECT * FROM elt.project "
            ],
            "metadata": {
                "azdata_cell_guid": "7db4babe-c5ce-4718-9ed5-35aa767a9927",
                "notebooksnap": {
                    "pattern": "Dataflow",
                    "cell_name": "elt.project ",
                    "src_connection": "eltsnap_v2 upgrade src",
                    "dst_connection": "eltsnap_v2a upgrade dest",
                    "dst_schema": "elt",
                    "dst_table": "project ",
                    "truncate_dst": "Y",
                    "identity_insert": "Y",
                    "batch_size": "1000"
                }
            },
            "outputs": [],
            "execution_count": null
        },
        {
            "cell_type": "markdown",
            "source": [
                "## elt.project\\_environment dataflow"
            ],
            "metadata": {
                "azdata_cell_guid": "f8b0a826-dc68-400a-a3f6-a913132361f5"
            }
        },
        {
            "cell_type": "code",
            "source": [
                "SELECT * FROM elt.project_environment"
            ],
            "metadata": {
                "azdata_cell_guid": "e24497de-b147-4d60-8a7e-2663bb1b00f8",
                "notebooksnap": {
                    "pattern": "Dataflow",
                    "cell_name": "elt.project_environment",
                    "src_connection": "eltsnap_v2 upgrade src",
                    "dst_connection": "eltsnap_v2a upgrade dest",
                    "dst_schema": "elt",
                    "dst_table": "project_environment",
                    "truncate_dst": "Y",
                    "identity_insert": "N",
                    "batch_size": "0"
                }
            },
            "outputs": [],
            "execution_count": null
        },
        {
            "cell_type": "markdown",
            "source": [
                "## elt.project\\_oledb\\_connection dataflow"
            ],
            "metadata": {
                "azdata_cell_guid": "43df2fd8-6310-45c3-a78f-810c459090fc"
            }
        },
        {
            "cell_type": "code",
            "source": [
                "SELECT * FROM elt.project_oledb_connection "
            ],
            "metadata": {
                "azdata_cell_guid": "b15692c6-1943-4d25-aac1-a7cd32230562",
                "notebooksnap": {
                    "pattern": "Dataflow",
                    "cell_name": "elt.project_oledb_connection",
                    "src_connection": "eltsnap_v2 upgrade src",
                    "dst_connection": "eltsnap_v2a upgrade dest",
                    "dst_schema": "elt",
                    "dst_table": "project_oledb_connection",
                    "truncate_dst": "Y",
                    "identity_insert": "N",
                    "batch_size": "0"
                }
            },
            "outputs": [],
            "execution_count": null
        },
        {
            "cell_type": "markdown",
            "source": [
                "## elt.project\\_package dataflow"
            ],
            "metadata": {
                "azdata_cell_guid": "222cb592-9923-4496-80ce-0e94eb088999"
            }
        },
        {
            "cell_type": "code",
            "source": [
                "SELECT * FROM elt.project_package"
            ],
            "metadata": {
                "azdata_cell_guid": "03b63614-031a-41ff-8e66-695ff1cd814b",
                "notebooksnap": {
                    "pattern": "Dataflow",
                    "cell_name": "elt.project_package",
                    "src_connection": "eltsnap_v2 upgrade src",
                    "dst_connection": "eltsnap_v2a upgrade dest",
                    "dst_schema": "elt",
                    "dst_table": "project_package",
                    "truncate_dst": "Y",
                    "identity_insert": "N",
                    "batch_size": "0"
                }
            },
            "outputs": [],
            "execution_count": null
        },
        {
            "cell_type": "markdown",
            "source": [
                "## elt.project\\_parameter dataflow"
            ],
            "metadata": {
                "azdata_cell_guid": "0120900f-138b-41fe-b241-845822038b15"
            }
        },
        {
            "cell_type": "code",
            "source": [
                "SELECT * FROM elt.project_parameter"
            ],
            "metadata": {
                "azdata_cell_guid": "cbb8ab42-8b80-4df1-8745-dc25923cbfed",
                "notebooksnap": {
                    "pattern": "Dataflow",
                    "cell_name": "elt.project_parameter",
                    "src_connection": "eltsnap_v2 upgrade src",
                    "dst_connection": "eltsnap_v2a upgrade dest",
                    "dst_schema": "elt",
                    "dst_table": "project_parameter",
                    "truncate_dst": "Y",
                    "identity_insert": "N",
                    "batch_size": "0"
                }
            },
            "outputs": [],
            "execution_count": null
        },
        {
            "cell_type": "markdown",
            "source": [
                "## elt.project\\_rule dataflow"
            ],
            "metadata": {
                "azdata_cell_guid": "dd5dd442-0930-4ee0-b297-6576345b2a8f"
            }
        },
        {
            "cell_type": "markdown",
            "source": [
                "## elt.project\\_rule\\_constraints dataflow"
            ],
            "metadata": {
                "azdata_cell_guid": "7fbc5343-6fee-4fc2-9140-2f0f79eac9fb"
            }
        },
        {
            "cell_type": "code",
            "source": [
                "SELECT * FROM elt.project_rule_constraints"
            ],
            "metadata": {
                "azdata_cell_guid": "2bac4a19-60bb-454a-b10e-09f235e17661",
                "notebooksnap": {
                    "pattern": "Dataflow",
                    "cell_name": "elt.project_rule_constraints",
                    "src_connection": "eltsnap_v2 upgrade src",
                    "dst_connection": "eltsnap_v2a upgrade dest",
                    "dst_schema": "elt",
                    "dst_table": "project_rule_constraints",
                    "truncate_dst": "Y",
                    "identity_insert": "N",
                    "batch_size": "0"
                }
            },
            "outputs": [],
            "execution_count": null
        },
        {
            "cell_type": "markdown",
            "source": [
                "## elt.project\\_smtp\\_connection dataflow"
            ],
            "metadata": {
                "azdata_cell_guid": "29ba90dd-36f6-40ae-abf7-562042ced048"
            }
        },
        {
            "cell_type": "code",
            "source": [
                "SELECT * FROM elt.project_smtp_connection"
            ],
            "metadata": {
                "azdata_cell_guid": "6133d9e3-9121-4b72-9de8-82df5332d26d",
                "notebooksnap": {
                    "pattern": "Dataflow",
                    "cell_name": "elt.project_smtp_connection",
                    "src_connection": "eltsnap_v2 upgrade src",
                    "dst_connection": "eltsnap_v2a upgrade dest",
                    "dst_schema": "elt",
                    "dst_table": "project_smtp_connection",
                    "truncate_dst": "Y",
                    "identity_insert": "N",
                    "batch_size": "0"
                }
            },
            "outputs": [],
            "execution_count": null
        },
        {
            "cell_type": "markdown",
            "source": [
                "## elt.query\\_history dataflow"
            ],
            "metadata": {
                "azdata_cell_guid": "66c6c473-ae05-4f24-a1f4-2da8d9a49068"
            }
        },
        {
            "cell_type": "markdown",
            "source": [
                "## elt.smtp\\_connection dataflow"
            ],
            "metadata": {
                "azdata_cell_guid": "aa0b3108-3f71-453f-bb55-74005bd65f89"
            }
        },
        {
            "cell_type": "code",
            "source": [
                "SELECT [connection_name]\r\n",
                "      ,[server_name]\r\n",
                "      ,[smtp_username]\r\n",
                "      ,[smtp_password]\r\n",
                "  FROM [elt].[smtp_connection]"
            ],
            "metadata": {
                "azdata_cell_guid": "72ef738e-f932-48a2-b3f4-eeb8947f6742",
                "notebooksnap": {
                    "pattern": "Dataflow",
                    "cell_name": "elt.smtp_connection",
                    "src_connection": "eltsnap_v2 upgrade src",
                    "dst_connection": "eltsnap_v2a upgrade dest",
                    "dst_schema": "elt",
                    "dst_table": "smtp_connection",
                    "truncate_dst": "Y",
                    "identity_insert": "N",
                    "batch_size": "0"
                }
            },
            "outputs": [],
            "execution_count": null
        },
        {
            "cell_type": "markdown",
            "source": [
                "## elt.system\\_variables dataflow"
            ],
            "metadata": {
                "azdata_cell_guid": "0b705f66-e9d4-4ccf-abcb-85758ea80b25"
            }
        },
        {
            "cell_type": "code",
            "source": [
                "SELECT * FROM elt.system_variables "
            ],
            "metadata": {
                "azdata_cell_guid": "ed3b2d5f-dab2-42f2-8460-f0317505095f",
                "notebooksnap": {
                    "pattern": "Dataflow",
                    "cell_name": "elt.system_variables ",
                    "src_connection": "eltsnap_v2 upgrade src",
                    "dst_connection": "eltsnap_v2a upgrade dest",
                    "dst_schema": "elt",
                    "dst_table": "system_variables ",
                    "truncate_dst": "Y",
                    "identity_insert": "N",
                    "batch_size": "0"
                }
            },
            "outputs": [],
            "execution_count": null
        },
        {
            "cell_type": "markdown",
            "source": [
                "## elt.package\\_config\\_data\\_flow dataflow"
            ],
            "metadata": {
                "azdata_cell_guid": "5f7736bb-0c46-4a21-8124-23e4601f7e11"
            }
        },
        {
            "cell_type": "code",
            "source": [
                "SELECT [src_connection]\r\n",
                "      ,[src_query]\r\n",
                "      ,[is_expression]\r\n",
                "      ,[package_qualifier]\r\n",
                "      ,[dst_connection]\r\n",
                "      ,[dst_schema]\r\n",
                "      ,[dst_table]\r\n",
                "      ,[dst_truncate]\r\n",
                "      ,[keep_identity]\r\n",
                "      ,[use_bulk_copy]\r\n",
                "      ,[batch_size]\r\n",
                "  FROM [elt].[package_config_data_flow]\r\n",
                ""
            ],
            "metadata": {
                "azdata_cell_guid": "4a9de416-b3dd-44ca-b228-7d5b4b6e35db",
                "notebooksnap": {
                    "pattern": "Dataflow",
                    "cell_name": "elt.package_config_data_flow",
                    "src_connection": "eltsnap_v2 upgrade src",
                    "dst_connection": "eltsnap_v2a upgrade dest",
                    "dst_schema": "elt",
                    "dst_table": "package_config_data_flow",
                    "truncate_dst": "Y",
                    "identity_insert": "N",
                    "batch_size": "0"
                }
            },
            "outputs": [],
            "execution_count": null
        },
        {
            "cell_type": "markdown",
            "source": [
                "## elt.package_config_execute_sql dataflow"
            ],
            "metadata": {
                "azdata_cell_guid": "9b598c93-5e13-45e1-90a6-aa7298bbccec"
            }
        },
        {
            "cell_type": "code",
            "source": [
                "SELECT [connection_manager]\r\n",
                "      ,[package_qualifier]\r\n",
                "      ,[query]\r\n",
                "      ,[is_expression]\r\n",
                "      ,[return_row_count]\r\n",
                "  FROM [elt].[package_config_execute_sql]"
            ],
            "metadata": {
                "azdata_cell_guid": "63cd2f18-d823-4e0a-b958-7ed7dc1b8b4e",
                "tags": [],
                "notebooksnap": {
                    "pattern": "Dataflow",
                    "cell_name": "elt.package_config_execute_sql",
                    "src_connection": "eltsnap_v2 upgrade src",
                    "dst_connection": "eltsnap_v2a upgrade dest",
                    "dst_schema": "elt",
                    "dst_table": "package_config_execute_sql",
                    "truncate_dst": "Y",
                    "identity_insert": "N",
                    "batch_size": "0"
                }
            },
            "outputs": [],
            "execution_count": null
        },
        {
            "cell_type": "markdown",
            "source": [
                "## elt.package\\_config\\_execute\\_process dataflow"
            ],
            "metadata": {
                "azdata_cell_guid": "13857324-7da6-41cd-80f3-99a199dcd7b1"
            }
        },
        {
            "cell_type": "code",
            "source": [
                "SELECT DISTINCT [package_qualifier]\r\n",
                "      ,[executable_expr]\r\n",
                "      ,[arguments_expr]\r\n",
                "      ,[working_directory]\r\n",
                "      ,[place_values_in_ELT_Data]\r\n",
                "      ,epv.[variable_value] AS [source_query]\r\n",
                "  FROM [elt].[package_config_execute_process] ep\r\n",
                "  JOIN [elt].[package_config_execute_process_variable] epv\r\n",
                "    ON ep.[package_name] = epv.[package_name]\r\n",
                "WHERE epv.name = 'execute_sql'"
            ],
            "metadata": {
                "azdata_cell_guid": "6dda4be8-262c-43f6-ae2a-dc7e56de8d87",
                "notebooksnap": {
                    "pattern": "Dataflow",
                    "cell_name": "elt.package_config_execute_process",
                    "src_connection": "eltsnap_v2 upgrade src",
                    "dst_connection": "eltsnap_v2a upgrade dest",
                    "dst_schema": "elt",
                    "dst_table": "package_config_execute_process",
                    "truncate_dst": "Y",
                    "identity_insert": "N",
                    "batch_size": "0"
                }
            },
            "outputs": [],
            "execution_count": null
        },
        {
            "cell_type": "markdown",
            "source": [
                "## elt.project\\_flatfile\\_connection dataflow"
            ],
            "metadata": {
                "azdata_cell_guid": "d03c0320-c325-434a-94a5-914d580c206d"
            }
        },
        {
            "cell_type": "code",
            "source": [
                "SELECT * FROM elt.project_flatfile_connection"
            ],
            "metadata": {
                "azdata_cell_guid": "343ebc39-8261-4a04-b62c-1b300b9f68fc",
                "notebooksnap": {
                    "pattern": "Dataflow",
                    "cell_name": "elt.project_flatfile_connection",
                    "src_connection": "eltsnap_v2 upgrade src",
                    "dst_connection": "eltsnap_v2a upgrade dest",
                    "dst_schema": "elt",
                    "dst_table": "project_flatfile_connection",
                    "truncate_dst": "Y",
                    "identity_insert": "N",
                    "batch_size": "0"
                }
            },
            "outputs": [],
            "execution_count": null
        },
        {
            "cell_type": "markdown",
            "source": [
                "## elt.query\\_repository dataflow"
            ],
            "metadata": {
                "azdata_cell_guid": "9f3a23ac-d198-4dc6-a197-ddbe795fdd26"
            }
        },
        {
            "cell_type": "code",
            "source": [
                "SELECT * FROM elt.query_repository"
            ],
            "metadata": {
                "azdata_cell_guid": "aa88df66-91d4-4c33-966b-15c42cbd93c8",
                "notebooksnap": {
                    "pattern": "Dataflow",
                    "cell_name": "elt.query_repository",
                    "src_connection": "eltsnap_v2 upgrade src",
                    "dst_connection": "eltsnap_v2a upgrade dest",
                    "dst_schema": "elt",
                    "dst_table": "query_repository",
                    "truncate_dst": "Y",
                    "identity_insert": "N",
                    "batch_size": "0"
                }
            },
            "outputs": [],
            "execution_count": null
        },
        {
            "cell_type": "markdown",
            "source": [
                "## dbo.application_error_log"
            ],
            "metadata": {
                "azdata_cell_guid": "f90a766d-c2b5-420f-9027-dd13ff99903a"
            }
        },
        {
            "cell_type": "code",
            "source": [
                "SELECT * FROM dbo.application_error_log"
            ],
            "metadata": {
                "azdata_cell_guid": "d4d2bcf3-6c82-45f9-8312-63d68603b4ab",
                "notebooksnap": {
                    "pattern": "Dataflow",
                    "cell_name": "dbo.application_error_log",
                    "src_connection": "eltsnap_v2 upgrade src",
                    "dst_connection": "eltsnap_v2a upgrade dest",
                    "dst_schema": "dbo",
                    "dst_table": "application_error_log",
                    "truncate_dst": "Y",
                    "identity_insert": "Y",
                    "batch_size": "1000"
                }
            },
            "outputs": [],
            "execution_count": null
        },
        {
            "cell_type": "markdown",
            "source": [
                "## dbo.dim_column"
            ],
            "metadata": {
                "azdata_cell_guid": "e92e1b23-912f-4405-b832-fb5a689e1f1c"
            }
        },
        {
            "cell_type": "code",
            "source": [
                "SELECT * FROM dbo.dim_column"
            ],
            "metadata": {
                "azdata_cell_guid": "65f7aff2-46f0-4487-8170-b323dcc3f7c7",
                "notebooksnap": {
                    "pattern": "Dataflow",
                    "cell_name": "dbo.dim_column",
                    "src_connection": "eltsnap_v2 upgrade src",
                    "dst_connection": "eltsnap_v2a upgrade dest",
                    "dst_schema": "dbo",
                    "dst_table": "dim_column",
                    "truncate_dst": "Y",
                    "identity_insert": "Y",
                    "batch_size": "1000"
                }
            },
            "outputs": [],
            "execution_count": null
        },
        {
            "cell_type": "markdown",
            "source": [
                "## dbo.dim_table"
            ],
            "metadata": {
                "azdata_cell_guid": "1ca8cdb5-4331-4783-b7c7-2c63a76d1494"
            }
        },
        {
            "cell_type": "code",
            "source": [
                "SELECT * FROM dbo.dim_table"
            ],
            "metadata": {
                "azdata_cell_guid": "c7d3bd17-7e0d-4e36-ae5d-7465ef3d0dc3",
                "notebooksnap": {
                    "pattern": "Dataflow",
                    "cell_name": "dbo.dim_table",
                    "src_connection": "eltsnap_v2 upgrade src",
                    "dst_connection": "eltsnap_v2a upgrade dest",
                    "dst_schema": "dbo",
                    "dst_table": "dim_table",
                    "truncate_dst": "Y",
                    "identity_insert": "Y",
                    "batch_size": "1000"
                }
            },
            "outputs": [],
            "execution_count": null
        },
        {
            "cell_type": "markdown",
            "source": [
                "## meta.dim_column"
            ],
            "metadata": {
                "azdata_cell_guid": "2166be60-e985-4023-b166-5735b4084985"
            }
        },
        {
            "cell_type": "code",
            "source": [
                "SELECT * FROM meta.dim_column"
            ],
            "metadata": {
                "azdata_cell_guid": "f7799b2c-c264-4e93-b86d-166501a5912f",
                "notebooksnap": {
                    "pattern": "Dataflow",
                    "cell_name": "meta.dim_column",
                    "src_connection": "eltsnap_v2 upgrade src",
                    "dst_connection": "eltsnap_v2a upgrade dest",
                    "dst_schema": "meta",
                    "dst_table": "dim_column",
                    "truncate_dst": "Y",
                    "identity_insert": "N",
                    "batch_size": "1000"
                }
            },
            "outputs": [],
            "execution_count": null
        },
        {
            "cell_type": "markdown",
            "source": [
                "## meta.dim_database"
            ],
            "metadata": {
                "azdata_cell_guid": "caf27621-1a90-418d-af64-9adf9598b15c"
            }
        },
        {
            "cell_type": "code",
            "source": [
                "SELECT * FROM meta.dim_database"
            ],
            "metadata": {
                "azdata_cell_guid": "cea262db-d1f1-4042-856a-d01ffb626e3a",
                "notebooksnap": {
                    "pattern": "Dataflow",
                    "cell_name": "meta.dim_database",
                    "src_connection": "eltsnap_v2 upgrade src",
                    "dst_connection": "eltsnap_v2a upgrade dest",
                    "dst_schema": "meta",
                    "dst_table": "dim_database",
                    "truncate_dst": "Y",
                    "identity_insert": "N",
                    "batch_size": "1000"
                }
            },
            "outputs": [],
            "execution_count": null
        },
        {
            "cell_type": "markdown",
            "source": [
                "## meta.dim_server"
            ],
            "metadata": {
                "azdata_cell_guid": "f08c3b2a-dfe6-4ccb-a6c5-784f15dc9fe3"
            }
        },
        {
            "cell_type": "code",
            "source": [
                "SELECT * FROM meta.dim_server"
            ],
            "metadata": {
                "azdata_cell_guid": "a39877d7-c733-436b-a093-51a33b798dea",
                "notebooksnap": {
                    "pattern": "Dataflow",
                    "cell_name": "meta.dim_server",
                    "src_connection": "eltsnap_v2 upgrade src",
                    "dst_connection": "eltsnap_v2a upgrade dest",
                    "dst_schema": "meta",
                    "dst_table": "dim_server",
                    "truncate_dst": "Y",
                    "identity_insert": "N",
                    "batch_size": "1000"
                }
            },
            "outputs": [],
            "execution_count": null
        },
        {
            "cell_type": "markdown",
            "source": [
                "## meta.dim_table"
            ],
            "metadata": {
                "azdata_cell_guid": "c22bd139-45b5-496a-979d-8e0fd761d5cc"
            }
        },
        {
            "cell_type": "code",
            "source": [
                "SELECT * FROM meta.dim_table"
            ],
            "metadata": {
                "azdata_cell_guid": "260f3d83-ee5c-45f6-b86b-91c8bf147940",
                "notebooksnap": {
                    "pattern": "Dataflow",
                    "cell_name": "meta.dim_table",
                    "src_connection": "eltsnap_v2 upgrade src",
                    "dst_connection": "eltsnap_v2a upgrade dest",
                    "dst_schema": "meta",
                    "dst_table": "dim_table",
                    "truncate_dst": "Y",
                    "identity_insert": "N",
                    "batch_size": "1000"
                }
            },
            "outputs": [],
            "execution_count": null
        }
    ]
}