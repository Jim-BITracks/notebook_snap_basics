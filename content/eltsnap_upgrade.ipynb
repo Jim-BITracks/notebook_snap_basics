{
    "metadata": {
        "kernelspec": {
            "name": "SQL",
            "display_name": "SQL",
            "language": "sql"
        },
        "language_info": {
            "name": "sql",
            "version": ""
        }
    },
    "nbformat_minor": 2,
    "nbformat": 4,
    "cells": [
        {
            "cell_type": "markdown",
            "source": [
                "# eltsnap upgrade"
            ],
            "metadata": {
                "azdata_cell_guid": "5ca3cf97-465c-4eab-8552-f9ede789d62c"
            }
        },
        {
            "cell_type": "markdown",
            "source": [
                "## elt.added_dim_column_names dataflow"
            ],
            "metadata": {
                "azdata_cell_guid": "0421362c-6b23-4409-b661-fe943c4f4019"
            }
        },
        {
            "cell_type": "code",
            "source": [
                "SELECT * FROM [elt].[added_dim_column_names]"
            ],
            "metadata": {
                "azdata_cell_guid": "5435756b-e674-43b3-9860-d03c9bed07be",
                "notebooksnap": {
                    "pattern": "Dataflow",
                    "cell_name": "elt.added_dim_column_names",
                    "src_connection": "eltsnap_v2",
                    "dst_connection": "eltsnap-upgrade eltsnap_v2a",
                    "dst_schema": "elt",
                    "dst_table": "added_dim_column_names",
                    "truncate_dst": "Y",
                    "identity_insert": "N",
                    "batch_size": "0"
                }
            },
            "outputs": [],
            "execution_count": null
        },
        {
            "cell_type": "markdown",
            "source": [
                "## elt.application\\_config dataflow"
            ],
            "metadata": {
                "azdata_cell_guid": "878c84e7-9419-4da3-916e-3752416761f3"
            }
        },
        {
            "cell_type": "code",
            "source": [
                "SELECT * FROM elt.application_config"
            ],
            "metadata": {
                "azdata_cell_guid": "efb0b428-718f-4c8b-b0dc-85cc0df1cedb"
            },
            "outputs": [],
            "execution_count": null
        },
        {
            "cell_type": "markdown",
            "source": [
                "## elt.dim_table_merge_config dataflow"
            ],
            "metadata": {
                "azdata_cell_guid": "657d3cf9-dd27-46e5-a4a9-f005854f5740"
            }
        },
        {
            "cell_type": "code",
            "source": [
                "SELECT * FROM elt.dim_table_merge_config"
            ],
            "metadata": {
                "azdata_cell_guid": "7ed3a765-7ada-408e-a7a0-ca6af7e1b372"
            },
            "outputs": [],
            "execution_count": null
        },
        {
            "cell_type": "markdown",
            "source": [
                "## elt.environment dataflow"
            ],
            "metadata": {
                "azdata_cell_guid": "1cdf1e95-d20b-450f-8079-f0f6ae7b3770"
            }
        },
        {
            "cell_type": "code",
            "source": [
                "SELECT * FROM elt.environment "
            ],
            "metadata": {
                "azdata_cell_guid": "d81adcf8-93a7-4f0f-8c69-c72403d5152b"
            },
            "outputs": [],
            "execution_count": null
        },
        {
            "cell_type": "markdown",
            "source": [
                "## elt.environment_parameter dataflow"
            ],
            "metadata": {
                "azdata_cell_guid": "10c6b92f-6d5e-4f45-9bfd-ca1d856c58ba"
            }
        },
        {
            "cell_type": "code",
            "source": [
                "SELECT * FROM elt.environment_parameter"
            ],
            "metadata": {
                "azdata_cell_guid": "646c9c1f-4bc1-4602-b1a9-28b5e814d44d"
            },
            "outputs": [],
            "execution_count": null
        },
        {
            "cell_type": "markdown",
            "source": [
                "## elt.oledb\\_connection dataflow"
            ],
            "metadata": {
                "azdata_cell_guid": "7476b15b-04df-4cbb-8c8e-869b6a720f7e"
            }
        },
        {
            "cell_type": "code",
            "source": [
                "SELECT * FROM elt.oledb_connection"
            ],
            "metadata": {
                "azdata_cell_guid": "b41189a3-036a-49d9-928b-91e871841534"
            },
            "outputs": [],
            "execution_count": null
        },
        {
            "cell_type": "markdown",
            "source": [
                "## elt.parameter dataflow"
            ],
            "metadata": {
                "azdata_cell_guid": "c2b7fcb7-8763-4b8a-b3ea-cf6135b67915"
            }
        },
        {
            "cell_type": "code",
            "source": [
                "SELECT * FROM elt.parameter"
            ],
            "metadata": {
                "azdata_cell_guid": "1e202b39-628e-4e2d-8317-e6899623ae32"
            },
            "outputs": [],
            "execution_count": null
        },
        {
            "cell_type": "markdown",
            "source": [
                "## elt.project dataflow"
            ],
            "metadata": {
                "azdata_cell_guid": "36852a2d-283a-41f1-ad6d-3d2627043134"
            }
        },
        {
            "cell_type": "code",
            "source": [
                "SELECT * FROM elt.project "
            ],
            "metadata": {
                "azdata_cell_guid": "7db4babe-c5ce-4718-9ed5-35aa767a9927"
            },
            "outputs": [],
            "execution_count": null
        },
        {
            "cell_type": "markdown",
            "source": [
                "## elt.project\\_environment dataflow"
            ],
            "metadata": {
                "azdata_cell_guid": "f8b0a826-dc68-400a-a3f6-a913132361f5"
            }
        },
        {
            "cell_type": "code",
            "source": [
                "SELECT * FROM elt.project_environment"
            ],
            "metadata": {
                "azdata_cell_guid": "e24497de-b147-4d60-8a7e-2663bb1b00f8"
            },
            "outputs": [],
            "execution_count": null
        },
        {
            "cell_type": "markdown",
            "source": [
                "## elt.project\\_oledb\\_connection dataflow"
            ],
            "metadata": {
                "azdata_cell_guid": "43df2fd8-6310-45c3-a78f-810c459090fc"
            }
        },
        {
            "cell_type": "code",
            "source": [
                "SELECT * FROM elt.project_oledb_connection"
            ],
            "metadata": {
                "azdata_cell_guid": "b15692c6-1943-4d25-aac1-a7cd32230562"
            },
            "outputs": [],
            "execution_count": null
        },
        {
            "cell_type": "markdown",
            "source": [
                "## elt.project\\_package dataflow"
            ],
            "metadata": {
                "azdata_cell_guid": "222cb592-9923-4496-80ce-0e94eb088999"
            }
        },
        {
            "cell_type": "code",
            "source": [
                "SELECT * FROM elt.project_package"
            ],
            "metadata": {
                "azdata_cell_guid": "03b63614-031a-41ff-8e66-695ff1cd814b"
            },
            "outputs": [],
            "execution_count": null
        },
        {
            "cell_type": "markdown",
            "source": [
                "## elt.project\\_parameter dataflow"
            ],
            "metadata": {
                "azdata_cell_guid": "0120900f-138b-41fe-b241-845822038b15"
            }
        },
        {
            "cell_type": "code",
            "source": [
                "SELECT * FROM elt.project_parameter"
            ],
            "metadata": {
                "azdata_cell_guid": "cbb8ab42-8b80-4df1-8745-dc25923cbfed"
            },
            "outputs": [],
            "execution_count": null
        },
        {
            "cell_type": "markdown",
            "source": [
                "## elt.project\\_rule dataflow"
            ],
            "metadata": {
                "azdata_cell_guid": "dd5dd442-0930-4ee0-b297-6576345b2a8f"
            }
        },
        {
            "cell_type": "code",
            "source": [
                "SELECT * FROM elt.project_rule"
            ],
            "metadata": {
                "azdata_cell_guid": "7b3aa3f5-b1e6-4337-ade5-3e842befcc01"
            },
            "outputs": [],
            "execution_count": null
        },
        {
            "cell_type": "markdown",
            "source": [
                "## elt.project\\_rule\\_constraints dataflow"
            ],
            "metadata": {
                "azdata_cell_guid": "7fbc5343-6fee-4fc2-9140-2f0f79eac9fb"
            }
        },
        {
            "cell_type": "code",
            "source": [
                "SELECT * FROM elt.project_rule_constraints"
            ],
            "metadata": {
                "azdata_cell_guid": "2bac4a19-60bb-454a-b10e-09f235e17661"
            },
            "outputs": [],
            "execution_count": null
        },
        {
            "cell_type": "markdown",
            "source": [
                "## elt.project\\_smtp\\_connection dataflow"
            ],
            "metadata": {
                "azdata_cell_guid": "29ba90dd-36f6-40ae-abf7-562042ced048"
            }
        },
        {
            "cell_type": "code",
            "source": [
                "SELECT * FROM elt.project_smtp_connection"
            ],
            "metadata": {
                "azdata_cell_guid": "6133d9e3-9121-4b72-9de8-82df5332d26d"
            },
            "outputs": [],
            "execution_count": null
        },
        {
            "cell_type": "markdown",
            "source": [
                "## elt.query\\_history dataflow"
            ],
            "metadata": {
                "azdata_cell_guid": "66c6c473-ae05-4f24-a1f4-2da8d9a49068"
            }
        },
        {
            "cell_type": "code",
            "source": [
                "SELECT * FROM elt.query_history"
            ],
            "metadata": {
                "azdata_cell_guid": "05a1f057-9f7f-498e-83b1-aac1b832b061"
            },
            "outputs": [],
            "execution_count": null
        },
        {
            "cell_type": "markdown",
            "source": [
                "## elt.smtp\\_connection dataflow"
            ],
            "metadata": {
                "azdata_cell_guid": "aa0b3108-3f71-453f-bb55-74005bd65f89"
            }
        },
        {
            "cell_type": "code",
            "source": [
                "SELECT * FROM elt.smtp_connection"
            ],
            "metadata": {
                "azdata_cell_guid": "72ef738e-f932-48a2-b3f4-eeb8947f6742"
            },
            "outputs": [],
            "execution_count": null
        },
        {
            "cell_type": "markdown",
            "source": [
                "## elt.system\\_variables dataflow"
            ],
            "metadata": {
                "azdata_cell_guid": "0b705f66-e9d4-4ccf-abcb-85758ea80b25"
            }
        },
        {
            "cell_type": "code",
            "source": [
                "SELECT * FROM elt.system_variables "
            ],
            "metadata": {
                "azdata_cell_guid": "ed3b2d5f-dab2-42f2-8460-f0317505095f"
            },
            "outputs": [],
            "execution_count": null
        },
        {
            "cell_type": "markdown",
            "source": [
                "## elt.package\\_config\\_data\\_flow dataflow"
            ],
            "metadata": {
                "azdata_cell_guid": "5f7736bb-0c46-4a21-8124-23e4601f7e11"
            }
        },
        {
            "cell_type": "code",
            "source": [
                "SELECT [src_connection]\r\n",
                "      ,[src_query]\r\n",
                "      ,[is_expression]\r\n",
                "      ,[package_qualifier]\r\n",
                "      ,[dst_connection]\r\n",
                "      ,[dst_schema]\r\n",
                "      ,[dst_table]\r\n",
                "      ,[dst_truncate]\r\n",
                "      ,[keep_identity]\r\n",
                "      ,[package_name]\r\n",
                "      ,[use_bulk_copy]\r\n",
                "      ,[batch_size]\r\n",
                "\t  , NULL AS [comment]\r\n",
                "      , NULL AS [package_source_control]\r\n",
                "  FROM [elt].[package_config_data_flow]\r\n",
                ""
            ],
            "metadata": {
                "azdata_cell_guid": "4a9de416-b3dd-44ca-b228-7d5b4b6e35db"
            },
            "outputs": [],
            "execution_count": null
        },
        {
            "cell_type": "markdown",
            "source": [
                "## elt.package_config_execute_sql dataflow"
            ],
            "metadata": {
                "azdata_cell_guid": "9b598c93-5e13-45e1-90a6-aa7298bbccec"
            }
        },
        {
            "cell_type": "code",
            "source": [
                "SELECT [connection_manager]\r\n",
                "      ,[package_qualifier]\r\n",
                "      ,[query]\r\n",
                "      ,[is_expression]\r\n",
                "      ,[return_row_count]\r\n",
                "      ,[package_name]\r\n",
                "      ,NULL AS [comment]\r\n",
                "      ,NULL AS [package_source_control]\r\n",
                "  FROM [elt].[package_config_execute_sql]"
            ],
            "metadata": {
                "azdata_cell_guid": "63cd2f18-d823-4e0a-b958-7ed7dc1b8b4e",
                "tags": []
            },
            "outputs": [],
            "execution_count": null
        },
        {
            "cell_type": "markdown",
            "source": [
                "## elt.package\\_config\\_execute\\_process dataflow"
            ],
            "metadata": {
                "azdata_cell_guid": "13857324-7da6-41cd-80f3-99a199dcd7b1"
            }
        },
        {
            "cell_type": "code",
            "source": [
                "SELECT * FROM "
            ],
            "metadata": {
                "azdata_cell_guid": "6dda4be8-262c-43f6-ae2a-dc7e56de8d87"
            },
            "outputs": [],
            "execution_count": null
        },
        {
            "cell_type": "markdown",
            "source": [
                "## elt. dataflow"
            ],
            "metadata": {
                "azdata_cell_guid": "d03c0320-c325-434a-94a5-914d580c206d"
            }
        },
        {
            "cell_type": "code",
            "source": [
                "SELECT * FROM "
            ],
            "metadata": {
                "azdata_cell_guid": "343ebc39-8261-4a04-b62c-1b300b9f68fc"
            },
            "outputs": [],
            "execution_count": null
        },
        {
            "cell_type": "markdown",
            "source": [
                "## elt. dataflow"
            ],
            "metadata": {
                "azdata_cell_guid": "9f3a23ac-d198-4dc6-a197-ddbe795fdd26"
            }
        },
        {
            "cell_type": "code",
            "source": [
                "SELECT * FROM "
            ],
            "metadata": {
                "azdata_cell_guid": "be23b578-6d6e-4766-9b0a-6eb29480527d"
            },
            "outputs": [],
            "execution_count": null
        },
        {
            "cell_type": "markdown",
            "source": [
                "## elt. dataflow"
            ],
            "metadata": {
                "azdata_cell_guid": "c5d65bc7-c9cc-4317-b50e-fb62086c3421"
            }
        },
        {
            "cell_type": "code",
            "source": [
                "SELECT * FROM "
            ],
            "metadata": {
                "azdata_cell_guid": "785b549a-1a52-4336-adb6-49c97356e080"
            },
            "outputs": [],
            "execution_count": null
        },
        {
            "cell_type": "markdown",
            "source": [
                "## elt. dataflow"
            ],
            "metadata": {
                "azdata_cell_guid": "f7c2ca1a-af6d-41a0-8db2-a8dce81e61e1"
            }
        },
        {
            "cell_type": "code",
            "source": [
                "SELECT * FROM "
            ],
            "metadata": {
                "azdata_cell_guid": "067889f8-11fd-4874-9f7f-ec182c6b4fcc"
            },
            "outputs": [],
            "execution_count": null
        },
        {
            "cell_type": "markdown",
            "source": [
                "## elt. dataflow"
            ],
            "metadata": {
                "azdata_cell_guid": "b41ed64e-2fdb-4816-973c-30eff591dcd9"
            }
        },
        {
            "cell_type": "code",
            "source": [
                "SELECT * FROM "
            ],
            "metadata": {
                "azdata_cell_guid": "6cbf0aad-cb40-46a8-a1d5-ff254db0914a"
            },
            "outputs": [],
            "execution_count": null
        },
        {
            "cell_type": "markdown",
            "source": [
                "## elt. dataflow"
            ],
            "metadata": {
                "azdata_cell_guid": "b38a722f-a1fe-48c1-a5c6-4eb95f37bfeb"
            }
        },
        {
            "cell_type": "code",
            "source": [
                "SELECT * FROM "
            ],
            "metadata": {
                "azdata_cell_guid": "d43a92d5-29ba-42b6-9a8c-b6b02692d245"
            },
            "outputs": [],
            "execution_count": null
        },
        {
            "cell_type": "markdown",
            "source": [
                "## elt. dataflow"
            ],
            "metadata": {
                "azdata_cell_guid": "043f8c17-ca06-4e0f-967f-bce1add4fa1d"
            }
        },
        {
            "cell_type": "code",
            "source": [
                "SELECT * FROM "
            ],
            "metadata": {
                "azdata_cell_guid": "5687d1ab-e761-4e50-95e6-e44b7f440c77"
            },
            "outputs": [],
            "execution_count": null
        },
        {
            "cell_type": "markdown",
            "source": [
                "## elt. dataflow"
            ],
            "metadata": {
                "azdata_cell_guid": "bf847f52-45be-473f-b9ea-96967c2efbc2"
            }
        },
        {
            "cell_type": "code",
            "source": [
                "SELECT * FROM "
            ],
            "metadata": {
                "azdata_cell_guid": "82f00dba-0076-4f64-83c8-7ad69ec3a885"
            },
            "outputs": [],
            "execution_count": null
        },
        {
            "cell_type": "markdown",
            "source": [
                "## elt. dataflow"
            ],
            "metadata": {
                "azdata_cell_guid": "e80a5c73-547e-446e-9b4f-9039915153f1"
            }
        },
        {
            "cell_type": "code",
            "source": [
                "SELECT * FROM "
            ],
            "metadata": {
                "azdata_cell_guid": "a37bb1b0-d89c-43ee-833b-6f5d60417efb"
            },
            "outputs": [],
            "execution_count": null
        },
        {
            "cell_type": "markdown",
            "source": [
                "## elt. dataflow"
            ],
            "metadata": {
                "azdata_cell_guid": "f11322a3-b520-4c54-a7ce-ebb48f8d898b"
            }
        },
        {
            "cell_type": "code",
            "source": [
                "SELECT * FROM "
            ],
            "metadata": {
                "azdata_cell_guid": "8fc1d1e4-1991-41d7-9a77-2e042cbf0702"
            },
            "outputs": [],
            "execution_count": null
        },
        {
            "cell_type": "markdown",
            "source": [
                "## elt. dataflow"
            ],
            "metadata": {
                "azdata_cell_guid": "f3e49c2d-0fd4-4b43-815c-210d5e2a7399"
            }
        },
        {
            "cell_type": "code",
            "source": [
                "SELECT * FROM "
            ],
            "metadata": {
                "azdata_cell_guid": "aa88df66-91d4-4c33-966b-15c42cbd93c8"
            },
            "outputs": [],
            "execution_count": null
        },
        {
            "cell_type": "markdown",
            "source": [
                "## elt. dataflow"
            ],
            "metadata": {
                "azdata_cell_guid": "ac2686cf-5d4a-48c1-8ed8-a9791ee7f3dc"
            }
        },
        {
            "cell_type": "code",
            "source": [
                "SELECT * FROM "
            ],
            "metadata": {
                "azdata_cell_guid": "12533106-ca9c-4e57-a5e6-7ed1e620d9ea"
            },
            "outputs": [],
            "execution_count": null
        },
        {
            "cell_type": "markdown",
            "source": [
                "## elt. dataflow"
            ],
            "metadata": {
                "azdata_cell_guid": "3d82c227-3c7c-4e3f-821b-6373e6fd2476"
            }
        },
        {
            "cell_type": "code",
            "source": [
                "SELECT * FROM "
            ],
            "metadata": {
                "azdata_cell_guid": "ab719626-e258-4905-b34a-765c6b60d5d1"
            },
            "outputs": [],
            "execution_count": null
        },
        {
            "cell_type": "markdown",
            "source": [
                "## elt. dataflow"
            ],
            "metadata": {
                "azdata_cell_guid": "9abaf859-f4e7-4f76-869a-f8f46c436ad8"
            }
        },
        {
            "cell_type": "code",
            "source": [
                "SELECT * FROM "
            ],
            "metadata": {
                "azdata_cell_guid": "a772f8bb-a42d-4783-95d0-fa23c07aa2dc"
            },
            "outputs": [],
            "execution_count": null
        }
    ]
}