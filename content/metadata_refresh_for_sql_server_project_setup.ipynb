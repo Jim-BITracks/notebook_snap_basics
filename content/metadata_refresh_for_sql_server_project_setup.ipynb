{
    "metadata": {
        "kernelspec": {
            "name": "SQL",
            "display_name": "SQL",
            "language": "sql"
        },
        "language_info": {
            "name": "sql",
            "version": ""
        }
    },
    "nbformat_minor": 2,
    "nbformat": 4,
    "cells": [
        {
            "cell_type": "markdown",
            "source": [
                "# Metadata Refresh for SQL Server (Project Setup)\r\n",
                "\r\n",
                "This notebook contains the SQL Set-up scripts for the eltSnap project \"Metadata Refresh for SQL Server\"\r\n",
                "\r\n",
                "These script needs to be run **after** ingesting the notebook called **Ingest ADS Notebook Files (Project)**\r\n",
                "\r\n",
                "> To run these SQL scripts, first connect to your SQL Server instance of **eltsnap_v2**"
            ],
            "metadata": {
                "azdata_cell_guid": "79fec498-f45d-45ee-bfdb-1bc73a11e4c4"
            }
        },
        {
            "cell_type": "markdown",
            "source": [
                "## Add a Connection for the SQL Server where you want to Extract Metadata (Source)\r\n",
                "\r\n",
                "Verify the Parameter Values in the EXEC statement below. You may need to _replace_ 'localhost' with your _server_name_\r\n",
                "\r\n",
                "> Note: Initial Parameter Values can be substituted at runtime"
            ],
            "metadata": {
                "azdata_cell_guid": "553ecc46-ce65-4944-819e-be9995c84dad"
            }
        },
        {
            "cell_type": "code",
            "source": [
                "EXEC [elt].[Save Connection by Name] \r\n",
                "     @connection_name = 'sql_server'\r\n",
                "   , @server_name = 'localhost'\r\n",
                "   , @database_name = 'master'\r\n",
                "   , @provider = 'SQL Server Native Client 11.0'"
            ],
            "metadata": {
                "azdata_cell_guid": "809e7389-ccc1-4ce0-a90a-f57ad7c5c9a9"
            },
            "outputs": [],
            "execution_count": null
        },
        {
            "cell_type": "markdown",
            "source": [
                "## Import the \"Notebook Based\" Project into eltSnap\r\n",
                "\r\n",
                "This will refresh the cooresponding logic used by eltSnap based on the _Ingested_ Notebook code"
            ],
            "metadata": {
                "azdata_cell_guid": "baa80723-a33c-4798-9439-90bc1737ce3c"
            }
        },
        {
            "cell_type": "code",
            "source": [
                "EXEC [ads].[Import Project from ADS Notebooks] 'Metadata Refresh v2', 'notebook_snap_basics\\content\\metadata_refresh_for_sql_server_project.ipynb';"
            ],
            "metadata": {
                "azdata_cell_guid": "aa8d878a-fa34-4934-ac4a-fa3ddf1d6a18"
            },
            "outputs": [],
            "execution_count": null
        }
    ]
}