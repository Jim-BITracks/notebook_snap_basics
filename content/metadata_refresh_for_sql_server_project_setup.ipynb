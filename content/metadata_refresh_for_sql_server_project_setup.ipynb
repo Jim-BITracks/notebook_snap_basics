{
    "metadata": {
        "kernelspec": {
            "name": "SQL",
            "display_name": "SQL",
            "language": "sql"
        },
        "language_info": {
            "name": "sql",
            "version": ""
        }
    },
    "nbformat_minor": 2,
    "nbformat": 4,
    "cells": [
        {
            "cell_type": "markdown",
            "source": [
                "# Metadata Refresh for SQL Server (Project Setup)\n",
                "\n",
                "This notebook contains the SQL Set-up scripts for the eltSnap project \"Metadata Refresh for SQL Server\"\n",
                "\n",
                "> To run these SQL scripts, first connect to your SQL Server instance of **eltsnap\\_v2**"
            ],
            "metadata": {
                "azdata_cell_guid": "79fec498-f45d-45ee-bfdb-1bc73a11e4c4"
            },
            "attachments": {}
        },
        {
            "cell_type": "markdown",
            "source": [
                "## Add a Connection for the SQL Server where you want to Extract Metadata (Source)\r\n",
                "\r\n",
                "Verify the Parameter Values in the EXEC statement below. **Note:** You will **first** want to _replace_ 'localhost' with your _server_name_ and 'master' with your _target database_\r\n",
                "\r\n",
                "> Note: Initial Parameter Values can be substituted at runtime"
            ],
            "metadata": {
                "azdata_cell_guid": "553ecc46-ce65-4944-819e-be9995c84dad"
            },
            "attachments": {}
        },
        {
            "cell_type": "code",
            "source": [
                "IF NOT EXISTS (SELECT 1 FROM [elt].[oledb_connection] WHERE [connection_name] = 'sql_server')\r\n",
                "  EXEC [elt].[Save Connection by Name] \r\n",
                "      @connection_name = 'sql_server'\r\n",
                "    , @server_name = 'localhost'\r\n",
                "    , @database_name = 'master'\r\n",
                "    , @provider = 'SQL Server Native Client 11.0'"
            ],
            "metadata": {
                "azdata_cell_guid": "809e7389-ccc1-4ce0-a90a-f57ad7c5c9a9"
            },
            "outputs": [],
            "execution_count": null
        },
        {
            "cell_type": "markdown",
            "source": [
                "## Check Impact of Importing \"Notebook Based\" Project (Optional)"
            ],
            "metadata": {
                "azdata_cell_guid": "8bce232b-619b-4c6e-87b7-4cc008fc20a1"
            },
            "attachments": {}
        },
        {
            "cell_type": "code",
            "source": [
                "EXEC [ads].[Impact Check from ADS] 'Metadata Refresh v2', 'notebook_snap_basics\\content\\metadata_refresh_for_sql_server_project.ipynb';"
            ],
            "metadata": {
                "azdata_cell_guid": "5e01f9d9-2ee5-4a93-bde9-f7ffbd8d61e7"
            },
            "outputs": [],
            "execution_count": null
        },
        {
            "cell_type": "markdown",
            "source": [
                "## Import the \"Notebook Based\" Project into eltSnap\n",
                "\n",
                "The following script is used to Import the project"
            ],
            "metadata": {
                "azdata_cell_guid": "95c7dc69-4f5b-4bfb-b896-168899752c8c"
            },
            "attachments": {}
        },
        {
            "cell_type": "code",
            "source": [
                "EXEC [ads].[Import Project from ADS] 'Metadata Refresh v2';"
            ],
            "metadata": {
                "azdata_cell_guid": "b6675b66-2453-475a-ba9c-0b3b67a10cf6"
            },
            "outputs": [],
            "execution_count": null
        },
        {
            "cell_type": "markdown",
            "source": [
                "## Prevent Job from Running Concurrently (Recommended)\r\n",
                "\r\n",
                "To prevent this job from running concurrently (_including other related Metadata Refresh jobs_), the following script can be run to apply the needed 'runtime' constraint"
            ],
            "metadata": {
                "azdata_cell_guid": "1b785fe0-e9f1-4e65-a86f-73237bca5a89"
            }
        },
        {
            "cell_type": "code",
            "source": [
                "DECLARE @project_name_match NVARCHAR(128) = 'Metadata Refresh%'\r\n",
                "\t  , @rule NVARCHAR(128) = 'Cannot Run While Any'\r\n",
                "\t  , @rule_qualifier NVARCHAR(128) = 'Is Running';\r\n",
                "\r\n",
                "/* Delete prior constraints if exists */\r\n",
                "DELETE [elt].[project_rule_constraints]\r\n",
                " WHERE [project_id] IN \r\n",
                "     ( SELECT [project_id]\r\n",
                "\t     FROM [elt].[project]\r\n",
                "        WHERE [project_name] LIKE @project_name_match\r\n",
                "     )\r\n",
                "   AND [rule_id] =\r\n",
                "     ( SELECT [rule_id]\r\n",
                "\t     FROM [elt].[project_rule]\r\n",
                "\t\tWHERE [rule] = @rule AND [rule_qualifier] = @rule_qualifier\r\n",
                "\t );\r\n",
                "\r\n",
                "/* Add constraints to prevent concurrent runs */\r\n",
                "WITH [prj_id_grp] AS\r\n",
                "(\r\n",
                "SELECT (SELECT STRING_AGG([project_id], ',') WITHIN GROUP (ORDER BY [project_id])) AS [referenced_projects]\r\n",
                "  FROM [elt].[project]\r\n",
                " WHERE [project_name] LIKE @project_name_match\r\n",
                ")\r\n",
                "INSERT INTO [elt].[project_rule_constraints]\r\n",
                "SELECT NEWID() AS [id]\r\n",
                "     , 1 AS [wait_time_quantity]\r\n",
                "\t , 'Minutes' AS [wait_time_unit]\r\n",
                "\t , [project_id]\r\n",
                "\t , (SELECT [rule_id] FROM [elt].[project_rule] WHERE [rule] = @rule AND [rule_qualifier] = @rule_qualifier) AS [rule_id]\r\n",
                "\t , [referenced_projects]\r\n",
                "\t , NULL AS [rule_quantity]\r\n",
                "\t , NULL AS [rule_date_part]\r\n",
                "  FROM [elt].[project]\r\n",
                "     , [prj_id_grp]\r\n",
                " WHERE [project_name] LIKE @project_name_match;"
            ],
            "metadata": {
                "azdata_cell_guid": "3f1aa282-3f56-4df3-8925-e603d435812a"
            },
            "outputs": [],
            "execution_count": null
        }
    ]
}