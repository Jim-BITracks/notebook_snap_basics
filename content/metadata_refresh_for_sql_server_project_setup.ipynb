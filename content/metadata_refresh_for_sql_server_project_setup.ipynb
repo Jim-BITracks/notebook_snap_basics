{
    "metadata": {
        "kernelspec": {
            "name": "SQL",
            "display_name": "SQL",
            "language": "sql"
        },
        "language_info": {
            "name": "sql",
            "version": ""
        }
    },
    "nbformat_minor": 2,
    "nbformat": 4,
    "cells": [
        {
            "cell_type": "markdown",
            "source": [
                "# Metadata Refresh for SQL Server (Project Setup)\r\n",
                "\r\n",
                "This notebook contains the SQL Set-up scripts for the eltSnap project \"Metadata Refresh for SQL Server\"\r\n",
                "\r\n",
                "These script needs to be run **after** ingesting the notebook called **Ingest ADS Notebook Files (Project)**\r\n",
                "\r\n",
                "> To run these SQL scripts, first connect to your SQL Server instance of **eltsnap_v2**"
            ],
            "metadata": {
                "azdata_cell_guid": "79fec498-f45d-45ee-bfdb-1bc73a11e4c4"
            }
        },
        {
            "cell_type": "markdown",
            "source": [
                "## Add a Connection for the SQL Server where you want to Extract Metadata (Source)\r\n",
                "\r\n",
                "Verify the Parameter Values in the EXEC statement below. You may need to _replace_ 'localhost' with your _server_name_\r\n",
                "\r\n",
                "> Note: Initial Parameter Values can be substituted at runtime"
            ],
            "metadata": {
                "azdata_cell_guid": "553ecc46-ce65-4944-819e-be9995c84dad"
            }
        },
        {
            "cell_type": "code",
            "source": [
                "EXEC [elt].[Save Connection by Name] \r\n",
                "     @connection_name = 'sql_server'\r\n",
                "   , @server_name = 'localhost'\r\n",
                "   , @database_name = 'master'\r\n",
                "   , @provider = 'SQL Server Native Client 11.0'"
            ],
            "metadata": {
                "azdata_cell_guid": "809e7389-ccc1-4ce0-a90a-f57ad7c5c9a9"
            },
            "outputs": [],
            "execution_count": null
        },
        {
            "cell_type": "markdown",
            "source": [
                "## Check Impact of Importing \"Notebook Based\" Project"
            ],
            "metadata": {
                "azdata_cell_guid": "8bce232b-619b-4c6e-87b7-4cc008fc20a1"
            }
        },
        {
            "cell_type": "code",
            "source": [
                "EXEC [ads].[Impact Check from ADS] 'Metadata Refresh v2', 'notebook_snap_basics\\content\\metadata_refresh_for_sql_server_project.ipynb';"
            ],
            "metadata": {
                "azdata_cell_guid": "5e01f9d9-2ee5-4a93-bde9-f7ffbd8d61e7"
            },
            "outputs": [],
            "execution_count": null
        },
        {
            "cell_type": "markdown",
            "source": [
                "## Import the \"Notebook Based\" Project into eltSnap\r\n",
                "\r\n",
                "This will refresh the cooresponding logic used by eltSnap based on the _Ingested_ Notebook code"
            ],
            "metadata": {
                "azdata_cell_guid": "baa80723-a33c-4798-9439-90bc1737ce3c"
            }
        },
        {
            "cell_type": "code",
            "source": [
                "EXEC [ads].[Import Project from ADS Notebooks] 'Metadata Refresh v2', 'notebook_snap_basics\\content\\metadata_refresh_for_sql_server_project.ipynb';"
            ],
            "metadata": {
                "azdata_cell_guid": "aa8d878a-fa34-4934-ac4a-fa3ddf1d6a18"
            },
            "outputs": [],
            "execution_count": null
        },
        {
            "cell_type": "markdown",
            "source": [
                "## Alternate (Custom) Project Import\r\n",
                "\r\n",
                "You have the option to specify _multiple source files_, along with _custom sequence numbers_ when importing a Project. This feature allows for:\r\n",
                "- Projects to be defined by pulling code from 2 or more _file based_ resources (this feature currently supports **.ipynb** and **.sql** files which contain notebook snap _metadata_)\r\n",
                "- Parallel package execution by specifing the _same sequence number_ for 2 or more packages\r\n",
                "\r\n",
                "The following script can be used to populate the table: [ads].[project_cells] with the desired sequence numbers and file resources, along with the command used to Import the custom defined project\r\n",
                "\r\n",
                "> Be sure to first **uncomment** the code cell below before running"
            ],
            "metadata": {
                "azdata_cell_guid": "95c7dc69-4f5b-4bfb-b896-168899752c8c"
            }
        },
        {
            "cell_type": "code",
            "source": [
                "/*\r\n",
                "DELETE FROM [ads].[project_cells] WHERE [project_name] = 'Metadata Refresh v2'\r\n",
                "\r\n",
                "INSERT [ads].[project_cells] ([project_name], [full_name], [cell_name], [sequence_number], [parallel_executions]) VALUES (N'Metadata Refresh v2', N'notebook_snap_basics\\content\\metadata_refresh_for_sql_server_project.ipynb', N'Insert Metadata Server Name', 110, NULL)\r\n",
                "INSERT [ads].[project_cells] ([project_name], [full_name], [cell_name], [sequence_number], [parallel_executions]) VALUES (N'Metadata Refresh v2', N'notebook_snap_basics\\content\\metadata_refresh_for_sql_server_project.ipynb', N'Truncate STG tables', 140, NULL)\r\n",
                "INSERT [ads].[project_cells] ([project_name], [full_name], [cell_name], [sequence_number], [parallel_executions]) VALUES (N'Metadata Refresh v2', N'notebook_snap_basics\\content\\metadata_refresh_for_sql_server_project.ipynb', N'Refresh Database Names', 210, NULL)\r\n",
                "INSERT [ads].[project_cells] ([project_name], [full_name], [cell_name], [sequence_number], [parallel_executions]) VALUES (N'Metadata Refresh v2', N'notebook_snap_basics\\content\\metadata_refresh_for_sql_server_project.ipynb', N'Merge stg to meta schema - dim_database', 220, NULL)\r\n",
                "INSERT [ads].[project_cells] ([project_name], [full_name], [cell_name], [sequence_number], [parallel_executions]) VALUES (N'Metadata Refresh v2', N'notebook_snap_basics\\content\\metadata_refresh_for_sql_server_project.ipynb', N'src to stg - SQL Server columns', 310, NULL)\r\n",
                "INSERT [ads].[project_cells] ([project_name], [full_name], [cell_name], [sequence_number], [parallel_executions]) VALUES (N'Metadata Refresh v2', N'notebook_snap_basics\\content\\metadata_refresh_for_sql_server_project.ipynb', N'src to stg - SQL Server tables', 310, NULL)\r\n",
                "INSERT [ads].[project_cells] ([project_name], [full_name], [cell_name], [sequence_number], [parallel_executions]) VALUES (N'Metadata Refresh v2', N'notebook_snap_basics\\content\\metadata_refresh_for_sql_server_project.ipynb', N'Merge stg to meta schema - dim_table', 410, NULL)\r\n",
                "INSERT [ads].[project_cells] ([project_name], [full_name], [cell_name], [sequence_number], [parallel_executions]) VALUES (N'Metadata Refresh v2', N'notebook_snap_basics\\content\\metadata_refresh_for_sql_server_project.ipynb', N'Merge stg to meta schema - dim_column', 410, NULL)\r\n",
                "INSERT [ads].[project_cells] ([project_name], [full_name], [cell_name], [sequence_number], [parallel_executions]) VALUES (N'Metadata Refresh v2', N'notebook_snap_basics\\content\\metadata_refresh_for_sql_server_project.ipynb', N'Merge stg to dbo schema - dim_column', 420, NULL)\r\n",
                "INSERT [ads].[project_cells] ([project_name], [full_name], [cell_name], [sequence_number], [parallel_executions]) VALUES (N'Metadata Refresh v2', N'notebook_snap_basics\\content\\metadata_refresh_for_sql_server_project.ipynb', N'Merge stg to dbo schema - dim_table', 420, NULL)\r\n",
                "INSERT [ads].[project_cells] ([project_name], [full_name], [cell_name], [sequence_number], [parallel_executions]) VALUES (N'Metadata Refresh v2', N'notebook_snap_basics\\content\\metadata_refresh_for_sql_server_project.ipynb', N'dim delete - dbo - dim_column', 510, NULL)\r\n",
                "INSERT [ads].[project_cells] ([project_name], [full_name], [cell_name], [sequence_number], [parallel_executions]) VALUES (N'Metadata Refresh v2', N'notebook_snap_basics\\content\\metadata_refresh_for_sql_server_project.ipynb', N'dim delete - dbo - dim_table', 510, NULL)\r\n",
                "\r\n",
                "EXEC [ads].[Import Project from ADS] 'Metadata Refresh v2'\r\n",
                "*/"
            ],
            "metadata": {
                "azdata_cell_guid": "b6675b66-2453-475a-ba9c-0b3b67a10cf6"
            },
            "outputs": [],
            "execution_count": null
        }
    ]
}