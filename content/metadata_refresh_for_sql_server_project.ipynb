{
    "metadata": {
        "kernelspec": {
            "name": "SQL",
            "display_name": "SQL",
            "language": "sql"
        },
        "language_info": {
            "name": "sql",
            "version": ""
        }
    },
    "nbformat_minor": 2,
    "nbformat": 4,
    "cells": [
        {
            "cell_type": "markdown",
            "source": [
                "# Metadata Refresh for SQL Server\r\n",
                ""
            ],
            "metadata": {
                "azdata_cell_guid": "d737a79e-73c7-4f13-bc41-6272e392ca90"
            }
        },
        {
            "cell_type": "markdown",
            "source": [
                "## Insert Server Name (if needed)\n",
                "\n",
                "> Note: the 'Server Name' used below is a **Friendly** name. It does not need to be the same as the true Server name (which is determined by the 'Connection' selected at runtime)"
            ],
            "metadata": {
                "azdata_cell_guid": "b24664e4-5d03-4ee1-a780-e513fa858f94"
            },
            "attachments": {}
        },
        {
            "cell_type": "code",
            "source": [
                "DECLARE @server_name NVARCHAR(128) = /*${Metadata_Server_Name}*/'dev'/**/\r\n",
                "\r\n",
                "IF NOT EXISTS (SELECT 1 FROM [meta].[dim_server] WHERE [server_name] = @server_name)\r\n",
                "\tBEGIN\r\n",
                "\t\tINSERT INTO [meta].[dim_server]\r\n",
                "\t\t\t\t   ([server_name]\r\n",
                "\t\t\t\t   ,[server_type]\r\n",
                "\t\t\t\t   )\r\n",
                "\t\t\t VALUES\r\n",
                "\t\t\t\t   ( @server_name\r\n",
                "\t\t\t\t   , 'SQL Server')\r\n",
                "\tEND;\r\n",
                "\r\n",
                "SELECT @@ROWCOUNT AS [row_count];\r\n",
                ""
            ],
            "metadata": {
                "azdata_cell_guid": "b01313b1-1cfa-4ce1-a578-86908ebfe422",
                "notebooksnap": {
                    "cell_name": "Insert Metadata Server Name",
                    "connection": "eltsnap_v2",
                    "pattern": "Execute SQL"
                },
                "tags": [],
                "language": "sql"
            },
            "outputs": [],
            "execution_count": null
        },
        {
            "cell_type": "markdown",
            "source": [
                "## Truncate staging tables"
            ],
            "metadata": {
                "azdata_cell_guid": "c9c60e7d-588c-4286-903e-002ae77b7ca6"
            }
        },
        {
            "cell_type": "code",
            "source": [
                "TRUNCATE TABLE [stg].[dim_database];\r\n",
                "TRUNCATE TABLE [stg].[dim_table];\r\n",
                "TRUNCATE TABLE [stg].[dim_column];"
            ],
            "metadata": {
                "azdata_cell_guid": "d25ffdd1-8d80-4d45-99c5-f0b61f4c55a4",
                "notebooksnap": {
                    "cell_name": "Truncate STG tables",
                    "connection": "eltsnap_v2",
                    "pattern": "Execute SQL"
                },
                "language": "sql"
            },
            "outputs": [
                {
                    "output_type": "display_data",
                    "data": {
                        "text/html": "Commands completed successfully."
                    },
                    "metadata": {}
                },
                {
                    "output_type": "display_data",
                    "data": {
                        "text/html": "Total execution time: 00:00:00.004"
                    },
                    "metadata": {}
                }
            ],
            "execution_count": 1
        },
        {
            "cell_type": "markdown",
            "source": [
                "## Retrieve all Databases\r\n",
                "\r\n",
                ">The query below represents the _source_ SQL statement needed for the dataflow. Running this in the notebook will return a result set \"into this notebook\", instead of _populating_ the target staging table table: [stg].[dim_database]. To put this 'dataflow' into effect, this project needs to be imported into the eltsnap_v2 database."
            ],
            "metadata": {
                "azdata_cell_guid": "d4a7b2f4-657c-4463-919b-2d4043232074"
            }
        },
        {
            "cell_type": "code",
            "source": [
                "DECLARE @server_name NVARCHAR(128) = /*${Metadata_Server_Name}*/'dev'/**/\r\n",
                "\r\n",
                "SELECT @server_name AS server_name\r\n",
                "\t , d.[name] AS [database_name]\r\n",
                "\t , CAST(d.[create_date] AS DATE) AS [database_create_date]\r\n",
                "\t , CASE WHEN t.[database_id] IS NULL\r\n",
                "\t\t    THEN 'N'\r\n",
                "\t\t\tELSE 'Y'\r\n",
                "\t\tEND AS [change_tracking_enabled]\r\n",
                "\t , 'Metadata Refresh' AS [row_data_source]\r\n",
                "  FROM sys.databases d\r\n",
                "  LEFT JOIN sys.change_tracking_databases t\r\n",
                "    ON t.[database_id] = d.[database_id];"
            ],
            "metadata": {
                "azdata_cell_guid": "f4c7226f-14d1-4512-a440-225096c7b417",
                "notebooksnap": {
                    "cell_name": "Refresh Database Names",
                    "src_connection": "sql_server",
                    "dst_connection": "eltsnap_v2",
                    "dst_schema": "stg",
                    "dst_table": "dim_database",
                    "truncate_dst": "N",
                    "identity_insert": "N",
                    "batch_size": "0",
                    "pattern": "Dataflow"
                },
                "language": "sql"
            },
            "outputs": [
                {
                    "output_type": "display_data",
                    "data": {
                        "text/html": "(16 rows affected)"
                    },
                    "metadata": {}
                },
                {
                    "output_type": "display_data",
                    "data": {
                        "text/html": "Total execution time: 00:00:00.089"
                    },
                    "metadata": {}
                },
                {
                    "output_type": "execute_result",
                    "execution_count": 1,
                    "data": {
                        "application/vnd.dataresource+json": {
                            "schema": {
                                "fields": [
                                    {
                                        "name": "server_name"
                                    },
                                    {
                                        "name": "database_name"
                                    },
                                    {
                                        "name": "database_create_date"
                                    },
                                    {
                                        "name": "change_tracking_enabled"
                                    },
                                    {
                                        "name": "row_data_source"
                                    }
                                ]
                            },
                            "data": [
                                {
                                    "0": "dev",
                                    "1": "master",
                                    "2": "2003-04-08",
                                    "3": "N",
                                    "4": "Metadata Refresh"
                                },
                                {
                                    "0": "dev",
                                    "1": "tempdb",
                                    "2": "2021-01-14",
                                    "3": "N",
                                    "4": "Metadata Refresh"
                                },
                                {
                                    "0": "dev",
                                    "1": "model",
                                    "2": "2003-04-08",
                                    "3": "N",
                                    "4": "Metadata Refresh"
                                },
                                {
                                    "0": "dev",
                                    "1": "msdb",
                                    "2": "2019-09-24",
                                    "3": "N",
                                    "4": "Metadata Refresh"
                                },
                                {
                                    "0": "dev",
                                    "1": "admin",
                                    "2": "2020-05-27",
                                    "3": "N",
                                    "4": "Metadata Refresh"
                                },
                                {
                                    "0": "dev",
                                    "1": "bimlsnap",
                                    "2": "2020-05-27",
                                    "3": "N",
                                    "4": "Metadata Refresh"
                                },
                                {
                                    "0": "dev",
                                    "1": "SSIS_Data",
                                    "2": "2021-01-11",
                                    "3": "N",
                                    "4": "Metadata Refresh"
                                },
                                {
                                    "0": "dev",
                                    "1": "car_crash",
                                    "2": "2020-05-27",
                                    "3": "N",
                                    "4": "Metadata Refresh"
                                },
                                {
                                    "0": "dev",
                                    "1": "eltsnap_v2",
                                    "2": "2021-01-16",
                                    "3": "N",
                                    "4": "Metadata Refresh"
                                },
                                {
                                    "0": "dev",
                                    "1": "elt_framework",
                                    "2": "2021-01-16",
                                    "3": "N",
                                    "4": "Metadata Refresh"
                                },
                                {
                                    "0": "dev",
                                    "1": "bimlsnap_v2",
                                    "2": "2021-01-11",
                                    "3": "N",
                                    "4": "Metadata Refresh"
                                },
                                {
                                    "0": "dev",
                                    "1": "ODS",
                                    "2": "2020-06-08",
                                    "3": "N",
                                    "4": "Metadata Refresh"
                                },
                                {
                                    "0": "dev",
                                    "1": "EDW",
                                    "2": "2020-06-10",
                                    "3": "N",
                                    "4": "Metadata Refresh"
                                },
                                {
                                    "0": "dev",
                                    "1": "LZ1_TEST",
                                    "2": "2020-11-10",
                                    "3": "N",
                                    "4": "Metadata Refresh"
                                },
                                {
                                    "0": "dev",
                                    "1": "SSIS_Data_DEV",
                                    "2": "2020-10-01",
                                    "3": "N",
                                    "4": "Metadata Refresh"
                                },
                                {
                                    "0": "dev",
                                    "1": "bimlsnap_v2_b",
                                    "2": "2020-11-19",
                                    "3": "N",
                                    "4": "Metadata Refresh"
                                }
                            ]
                        },
                        "text/html": "<table><tr><th>server_name</th><th>database_name</th><th>database_create_date</th><th>change_tracking_enabled</th><th>row_data_source</th></tr><tr><td>dev</td><td>master</td><td>2003-04-08</td><td>N</td><td>Metadata Refresh</td></tr><tr><td>dev</td><td>tempdb</td><td>2021-01-14</td><td>N</td><td>Metadata Refresh</td></tr><tr><td>dev</td><td>model</td><td>2003-04-08</td><td>N</td><td>Metadata Refresh</td></tr><tr><td>dev</td><td>msdb</td><td>2019-09-24</td><td>N</td><td>Metadata Refresh</td></tr><tr><td>dev</td><td>admin</td><td>2020-05-27</td><td>N</td><td>Metadata Refresh</td></tr><tr><td>dev</td><td>bimlsnap</td><td>2020-05-27</td><td>N</td><td>Metadata Refresh</td></tr><tr><td>dev</td><td>SSIS_Data</td><td>2021-01-11</td><td>N</td><td>Metadata Refresh</td></tr><tr><td>dev</td><td>car_crash</td><td>2020-05-27</td><td>N</td><td>Metadata Refresh</td></tr><tr><td>dev</td><td>eltsnap_v2</td><td>2021-01-16</td><td>N</td><td>Metadata Refresh</td></tr><tr><td>dev</td><td>elt_framework</td><td>2021-01-16</td><td>N</td><td>Metadata Refresh</td></tr><tr><td>dev</td><td>bimlsnap_v2</td><td>2021-01-11</td><td>N</td><td>Metadata Refresh</td></tr><tr><td>dev</td><td>ODS</td><td>2020-06-08</td><td>N</td><td>Metadata Refresh</td></tr><tr><td>dev</td><td>EDW</td><td>2020-06-10</td><td>N</td><td>Metadata Refresh</td></tr><tr><td>dev</td><td>LZ1_TEST</td><td>2020-11-10</td><td>N</td><td>Metadata Refresh</td></tr><tr><td>dev</td><td>SSIS_Data_DEV</td><td>2020-10-01</td><td>N</td><td>Metadata Refresh</td></tr><tr><td>dev</td><td>bimlsnap_v2_b</td><td>2020-11-19</td><td>N</td><td>Metadata Refresh</td></tr></table>"
                    },
                    "metadata": {
                        "resultSet": {
                            "id": 0,
                            "batchId": 0,
                            "rowCount": 16,
                            "complete": false,
                            "columnInfo": [
                                {
                                    "isBytes": false,
                                    "isChars": true,
                                    "isSqlVariant": false,
                                    "isUdt": false,
                                    "isXml": false,
                                    "isJson": false,
                                    "sqlDbType": 12,
                                    "isHierarchyId": false,
                                    "isSqlXmlType": false,
                                    "isUnknownType": false,
                                    "isUpdatable": false,
                                    "allowDBNull": true,
                                    "baseCatalogName": null,
                                    "baseColumnName": null,
                                    "baseSchemaName": null,
                                    "baseServerName": null,
                                    "baseTableName": null,
                                    "columnName": "server_name",
                                    "columnOrdinal": 0,
                                    "columnSize": 128,
                                    "isAliased": null,
                                    "isAutoIncrement": false,
                                    "isExpression": null,
                                    "isHidden": null,
                                    "isIdentity": false,
                                    "isKey": null,
                                    "isLong": false,
                                    "isReadOnly": true,
                                    "isUnique": false,
                                    "numericPrecision": 255,
                                    "numericScale": 255,
                                    "udtAssemblyQualifiedName": null,
                                    "dataType": "System.String, System.Private.CoreLib, Version=4.0.0.0, Culture=neutral, PublicKeyToken=7cec85d7bea7798e",
                                    "dataTypeName": "nvarchar"
                                },
                                {
                                    "isBytes": false,
                                    "isChars": true,
                                    "isSqlVariant": false,
                                    "isUdt": false,
                                    "isXml": false,
                                    "isJson": false,
                                    "sqlDbType": 12,
                                    "isHierarchyId": false,
                                    "isSqlXmlType": false,
                                    "isUnknownType": false,
                                    "isUpdatable": false,
                                    "allowDBNull": true,
                                    "baseCatalogName": null,
                                    "baseColumnName": null,
                                    "baseSchemaName": null,
                                    "baseServerName": null,
                                    "baseTableName": null,
                                    "columnName": "database_name",
                                    "columnOrdinal": 1,
                                    "columnSize": 128,
                                    "isAliased": null,
                                    "isAutoIncrement": false,
                                    "isExpression": null,
                                    "isHidden": null,
                                    "isIdentity": false,
                                    "isKey": null,
                                    "isLong": false,
                                    "isReadOnly": true,
                                    "isUnique": false,
                                    "numericPrecision": 255,
                                    "numericScale": 255,
                                    "udtAssemblyQualifiedName": null,
                                    "dataType": "System.String, System.Private.CoreLib, Version=4.0.0.0, Culture=neutral, PublicKeyToken=7cec85d7bea7798e",
                                    "dataTypeName": "nvarchar"
                                },
                                {
                                    "isBytes": false,
                                    "isChars": false,
                                    "isSqlVariant": false,
                                    "isUdt": false,
                                    "isXml": false,
                                    "isJson": false,
                                    "sqlDbType": 31,
                                    "isHierarchyId": false,
                                    "isSqlXmlType": false,
                                    "isUnknownType": false,
                                    "isUpdatable": false,
                                    "allowDBNull": true,
                                    "baseCatalogName": null,
                                    "baseColumnName": null,
                                    "baseSchemaName": null,
                                    "baseServerName": null,
                                    "baseTableName": null,
                                    "columnName": "database_create_date",
                                    "columnOrdinal": 2,
                                    "columnSize": 3,
                                    "isAliased": null,
                                    "isAutoIncrement": false,
                                    "isExpression": null,
                                    "isHidden": null,
                                    "isIdentity": false,
                                    "isKey": null,
                                    "isLong": false,
                                    "isReadOnly": true,
                                    "isUnique": false,
                                    "numericPrecision": 255,
                                    "numericScale": 255,
                                    "udtAssemblyQualifiedName": null,
                                    "dataType": "System.DateTime, System.Private.CoreLib, Version=4.0.0.0, Culture=neutral, PublicKeyToken=7cec85d7bea7798e",
                                    "dataTypeName": "date"
                                },
                                {
                                    "isBytes": false,
                                    "isChars": true,
                                    "isSqlVariant": false,
                                    "isUdt": false,
                                    "isXml": false,
                                    "isJson": false,
                                    "sqlDbType": 22,
                                    "isHierarchyId": false,
                                    "isSqlXmlType": false,
                                    "isUnknownType": false,
                                    "isUpdatable": false,
                                    "allowDBNull": false,
                                    "baseCatalogName": null,
                                    "baseColumnName": null,
                                    "baseSchemaName": null,
                                    "baseServerName": null,
                                    "baseTableName": null,
                                    "columnName": "change_tracking_enabled",
                                    "columnOrdinal": 3,
                                    "columnSize": 1,
                                    "isAliased": null,
                                    "isAutoIncrement": false,
                                    "isExpression": null,
                                    "isHidden": null,
                                    "isIdentity": false,
                                    "isKey": null,
                                    "isLong": false,
                                    "isReadOnly": true,
                                    "isUnique": false,
                                    "numericPrecision": 255,
                                    "numericScale": 255,
                                    "udtAssemblyQualifiedName": null,
                                    "dataType": "System.String, System.Private.CoreLib, Version=4.0.0.0, Culture=neutral, PublicKeyToken=7cec85d7bea7798e",
                                    "dataTypeName": "varchar"
                                },
                                {
                                    "isBytes": false,
                                    "isChars": true,
                                    "isSqlVariant": false,
                                    "isUdt": false,
                                    "isXml": false,
                                    "isJson": false,
                                    "sqlDbType": 22,
                                    "isHierarchyId": false,
                                    "isSqlXmlType": false,
                                    "isUnknownType": false,
                                    "isUpdatable": false,
                                    "allowDBNull": false,
                                    "baseCatalogName": null,
                                    "baseColumnName": null,
                                    "baseSchemaName": null,
                                    "baseServerName": null,
                                    "baseTableName": null,
                                    "columnName": "row_data_source",
                                    "columnOrdinal": 4,
                                    "columnSize": 16,
                                    "isAliased": null,
                                    "isAutoIncrement": false,
                                    "isExpression": null,
                                    "isHidden": null,
                                    "isIdentity": false,
                                    "isKey": null,
                                    "isLong": false,
                                    "isReadOnly": true,
                                    "isUnique": false,
                                    "numericPrecision": 255,
                                    "numericScale": 255,
                                    "udtAssemblyQualifiedName": null,
                                    "dataType": "System.String, System.Private.CoreLib, Version=4.0.0.0, Culture=neutral, PublicKeyToken=7cec85d7bea7798e",
                                    "dataTypeName": "varchar"
                                }
                            ],
                            "specialAction": null
                        }
                    }
                }
            ],
            "execution_count": 1
        },
        {
            "cell_type": "markdown",
            "source": [
                "## Merge stg to meta schema - dim_database"
            ],
            "metadata": {
                "azdata_cell_guid": "c4347635-2533-4296-8c7e-1fcc845c47db"
            }
        },
        {
            "cell_type": "code",
            "source": [
                "DELETE [meta].[dim_database]\r\n",
                "  FROM [meta].[dim_database] AS e\r\n",
                "  LEFT JOIN [stg].[dim_database] AS s\r\n",
                "    ON s.[server_name] = e.[server_name]\r\n",
                "   AND s.[database_name] = e.[database_name]\r\n",
                " WHERE e.[server_name] = /*${Metadata_Server_Name}*/'dev'/**/\r\n",
                "   AND s.[database_name] IS NULL;\r\n",
                "\r\n",
                "INSERT [meta].[dim_database]\r\n",
                "SELECT s.[server_name]\r\n",
                "     , s.[database_name]\r\n",
                "     , s.[database_create_date]\r\n",
                "     , s.[change_tracking_enabled]\r\n",
                "     , 'N'\r\n",
                "     , 'N'\r\n",
                "  FROM [stg].[dim_database] AS s\r\n",
                "  LEFT JOIN [meta].[dim_database] AS e\r\n",
                "    ON e.[server_name] = s.[server_name]\r\n",
                "   AND e.[database_name] = s.[database_name]\r\n",
                " WHERE s.[server_name] = /*${Metadata_Server_Name}*/'dev'/**/\r\n",
                "   AND e.[database_name] IS NULL;\r\n",
                "\r\n",
                "SELECT @@ROWCOUNT AS [row_count];"
            ],
            "metadata": {
                "azdata_cell_guid": "ff9e06f8-d60a-4963-9b50-9a5bfbe5ea4e",
                "notebooksnap": {
                    "cell_name": "Merge stg to meta schema - dim_database",
                    "connection": "eltsnap_v2",
                    "pattern": "Execute SQL"
                },
                "language": "sql"
            },
            "outputs": [],
            "execution_count": null
        },
        {
            "cell_type": "markdown",
            "source": [
                "## src to stg - SQL Server tables"
            ],
            "metadata": {
                "azdata_cell_guid": "29c5f992-405f-4377-b7f5-d893444255ae"
            }
        },
        {
            "cell_type": "code",
            "source": [
                "DECLARE @Metadata_Server_Name SYSNAME = /*${Metadata_Server_Name}*/'dev'/**/;\r\n",
                "\r\n",
                "WITH [identity_column] AS\r\n",
                "(\r\n",
                "SELECT s.[name] AS [TABLE_SCHEMA]\r\n",
                "\t , o.[name] AS [TABLE_NAME]\r\n",
                "  FROM sys.objects o \r\n",
                "  JOIN sys.columns c\r\n",
                "    ON c.[object_id] = o.[object_id]\r\n",
                "  JOIN sys.schemas s\r\n",
                "    on s.[schema_id] = o.[schema_id]\r\n",
                " WHERE c.is_identity = 1\r\n",
                ")\r\n",
                ", [primary_key] AS\r\n",
                "(\r\n",
                "SELECT [TABLE_SCHEMA]\r\n",
                "\t , [TABLE_NAME]\r\n",
                "  FROM INFORMATION_SCHEMA.TABLE_CONSTRAINTS\r\n",
                " WHERE CONSTRAINT_TYPE = 'PRIMARY KEY'\r\n",
                ")\r\n",
                "SELECT DISTINCT @Metadata_Server_Name AS [server_name]\r\n",
                "     , t.[TABLE_CATALOG] AS [database_name] \r\n",
                "     , t.[TABLE_SCHEMA] AS [table_schema] \r\n",
                "     , t.[TABLE_NAME] AS [table_name] \r\n",
                "     , CAST(t.[TABLE_TYPE] AS NVARCHAR(32)) AS [table_type] \r\n",
                "     , CASE WHEN i.[TABLE_NAME] IS NULL THEN N'N'\r\n",
                "            ELSE N'Y'\r\n",
                "       END AS [has_identity]\r\n",
                "     , CASE WHEN p.[TABLE_NAME] IS NULL THEN N'N'\r\n",
                "            ELSE N'Y'\r\n",
                "       END AS [has_primary_key]\r\n",
                "     , N'SQL' AS [row_data_source] \r\n",
                "  FROM INFORMATION_SCHEMA.TABLES t\r\n",
                "  LEFT JOIN [identity_column] i\r\n",
                "    ON i.[TABLE_SCHEMA] = t.[TABLE_SCHEMA]\r\n",
                "   AND i.[TABLE_NAME] = t.[TABLE_NAME]\r\n",
                "  LEFT JOIN [primary_key] p\r\n",
                "    ON p.[TABLE_SCHEMA] = t.[TABLE_SCHEMA]\r\n",
                "   AND p.[TABLE_NAME] = t.[TABLE_NAME]\r\n",
                " WHERE [TABLE_TYPE] IN ('BASE TABLE', 'VIEW');"
            ],
            "metadata": {
                "azdata_cell_guid": "c8526e4a-bf2a-4386-a4cb-2bc0d225cebe",
                "notebooksnap": {
                    "cell_name": "src to stg - SQL Server tables",
                    "src_connection": "sql_server",
                    "dst_connection": "eltsnap_v2",
                    "dst_schema": "stg",
                    "dst_table": "dim_table",
                    "truncate_dst": "0",
                    "identity_insert": "0",
                    "batch_size": "0",
                    "pattern": "Dataflow"
                },
                "language": "sql"
            },
            "outputs": [],
            "execution_count": null
        },
        {
            "cell_type": "markdown",
            "source": [
                "## src to stg - SQL Server columns"
            ],
            "metadata": {
                "azdata_cell_guid": "8121c437-7e48-45fd-aad2-0e24bb0044ab"
            }
        },
        {
            "cell_type": "code",
            "source": [
                "DECLARE @Metadata_Server_Name SYSNAME = /*${Metadata_Server_Name}*/'dev'/**/;\r\n",
                "\r\n",
                "WITH [pk_columns] AS\r\n",
                "(\r\n",
                "SELECT tc.[TABLE_CATALOG] AS [database_name]\r\n",
                "\t , tc.[TABLE_SCHEMA] AS [table_schema]\r\n",
                "\t , tc.[TABLE_NAME] AS [table_name]\r\n",
                "\t , cc.[COLUMN_NAME] AS [column_name]\r\n",
                "  FROM INFORMATION_SCHEMA.TABLE_CONSTRAINTS tc\r\n",
                "  JOIN INFORMATION_SCHEMA.CONSTRAINT_COLUMN_USAGE cc \r\n",
                "\t\tON tc.CONSTRAINT_NAME = cc.Constraint_name\r\n",
                "    WHERE tc.CONSTRAINT_TYPE = 'Primary Key'\r\n",
                ")\r\n",
                "SELECT DISTINCT @Metadata_Server_Name AS [server_name]\r\n",
                "\t , c.[TABLE_CATALOG] AS [database_name] \r\n",
                "\t , c.[TABLE_SCHEMA] AS [table_schema] \r\n",
                "\t , c.[TABLE_NAME] AS [table_name] \r\n",
                "\t , c.[COLUMN_NAME] AS [column_name] \r\n",
                "\t , c.[ORDINAL_POSITION] AS [ordinal_position] \r\n",
                "\t , CAST(c.[IS_NULLABLE] AS NVARCHAR(3)) AS [is_nullable] \r\n",
                "\t , c.[DATA_TYPE] AS [data_type] \r\n",
                "\t , c.[CHARACTER_MAXIMUM_LENGTH] AS [char_max_length] \r\n",
                "\t , CASE WHEN p.[table_name] IS NULL\r\n",
                "\t\t    THEN N'N'\r\n",
                "\t\t\tELSE N'Y'\r\n",
                "\t\tEND AS [primary_key]\r\n",
                "\t , N'SQL' AS [row_data_source]\r\n",
                "FROM INFORMATION_SCHEMA.COLUMNS c \r\n",
                "  LEFT JOIN [pk_columns] p\r\n",
                "    ON p.[database_name] = c.[TABLE_CATALOG]\r\n",
                "   AND p.[table_schema] = c.[TABLE_SCHEMA]\r\n",
                "   AND p.[table_name] = c.[TABLE_NAME]\r\n",
                "   AND p.[column_name] = c.[COLUMN_NAME];"
            ],
            "metadata": {
                "azdata_cell_guid": "1b8d212f-66bc-45dd-bddf-e7d8e7fbb425",
                "notebooksnap": {
                    "cell_name": "src to stg - SQL Server columns",
                    "src_connection": "sql_server",
                    "dst_connection": "eltsnap_v2",
                    "dst_schema": "stg",
                    "dst_table": "dim_column",
                    "truncate_dst": "0",
                    "identity_insert": "0",
                    "batch_size": "0",
                    "pattern": "Dataflow"
                },
                "language": "sql"
            },
            "outputs": [],
            "execution_count": null
        },
        {
            "cell_type": "markdown",
            "source": [
                "## Merge - stg to meta - dim_table"
            ],
            "metadata": {
                "azdata_cell_guid": "f4d416d7-7a47-4bae-8de3-f7446965b88e"
            }
        },
        {
            "cell_type": "code",
            "source": [
                "MERGE [meta].[dim_table] AS DST\r\n",
                "USING [stg].[dim_table] AS SRC\r\n",
                "   ON src.[server_name] = dst.[server_name]\r\n",
                "   AND src.[database_name] = dst.[database_name]\r\n",
                "   AND src.[table_schema] = dst.[table_schema]\r\n",
                "   AND src.[table_name] = dst.[table_name]\r\n",
                "\r\n",
                "WHEN MATCHED AND (    DST.[table_type] != SRC.[table_type] \r\n",
                "                   OR DST.[has_identity] != SRC.[has_identity] \r\n",
                "\t           OR DST.[has_primary_key] != SRC.[has_primary_key] ) THEN\r\n",
                "\t\tUPDATE SET [table_type] =  SRC.[table_type] \r\n",
                "                 , [has_identity] =  SRC.[has_identity] \r\n",
                "                 , [has_primary_key] = SRC.[has_primary_key] \r\n",
                "\r\n",
                "WHEN NOT MATCHED THEN \r\n",
                "INSERT ( [server_name]\r\n",
                "      ,[database_name]\r\n",
                "      ,[table_schema]\r\n",
                "      ,[table_name]\r\n",
                "      ,[table_type]\r\n",
                "      ,[has_identity]\r\n",
                "      ,[has_primary_key]\r\n",
                "      ,[enable_change_tracking]\r\n",
                "\t   )\r\n",
                "VALUES (\r\n",
                "\t   [server_name]\r\n",
                "      ,[database_name]\r\n",
                "      ,[table_schema]\r\n",
                "      ,[table_name]\r\n",
                "      ,[table_type]\r\n",
                "      ,[has_identity]\r\n",
                "      ,[has_primary_key]\r\n",
                "      ,'N'\t\r\n",
                "\t   )\r\n",
                "WHEN NOT MATCHED BY SOURCE \r\n",
                " AND DST.[server_name] = /*${Metadata_Server_Name}*/'dev'/**/ \r\n",
                " AND DST.[database_name] = /*${sql_server_Database}*/'eltsnap_v2'/**/ THEN\r\n",
                "\t DELETE;\r\n",
                "\r\n",
                "SELECT @@ROWCOUNT AS [row_count];"
            ],
            "metadata": {
                "azdata_cell_guid": "e278da37-0e2e-4c86-8a83-60a1de7378c4",
                "notebooksnap": {
                    "cell_name": "Merge stg to meta schema - dim_table",
                    "connection": "eltsnap_v2",
                    "pattern": "Execute SQL"
                },
                "language": "sql"
            },
            "outputs": [],
            "execution_count": null
        },
        {
            "cell_type": "markdown",
            "source": [
                "## Merge - stg to meta - dim_column"
            ],
            "metadata": {
                "azdata_cell_guid": "84719d92-5a3f-4344-8368-5c87e9509a6e"
            }
        },
        {
            "cell_type": "code",
            "source": [
                "MERGE [meta].[dim_column] AS DST\r\n",
                "USING [stg].[dim_column] AS SRC\r\n",
                "   ON src.[server_name] = dst.[server_name]\r\n",
                "   AND src.[database_name] = dst.[database_name]\r\n",
                "   AND src.[table_schema] = dst.[table_schema]\r\n",
                "   AND src.[table_name] = dst.[table_name]\r\n",
                "   AND src.[column_name] = dst.[column_name]\r\n",
                "\r\n",
                "WHEN MATCHED AND (    DST.[ordinal_position] != SRC.[ordinal_position] \r\n",
                "                   OR DST.[is_nullable] != SRC.[is_nullable] \r\n",
                "\t\t   OR DST.[data_type] != SRC.[data_type]\r\n",
                "                   OR DST.[char_max_length] != SRC.[char_max_length] \r\n",
                "\t\t   OR DST.[primary_key] != SRC.[primary_key] \r\n",
                "               ) THEN\r\n",
                "UPDATE SET [ordinal_position] = SRC.[ordinal_position] \r\n",
                "         , [is_nullable] = SRC.[is_nullable] \r\n",
                "         , [data_type] = SRC.[data_type] \r\n",
                "         , [char_max_length] = SRC.[char_max_length]\r\n",
                "\t\t   , [primary_key] = SRC.[primary_key]\r\n",
                "\r\n",
                "WHEN NOT MATCHED THEN \r\n",
                "INSERT (  [server_name]\r\n",
                "\t    , [database_name]\r\n",
                "        , [table_schema]\r\n",
                "        , [table_name]\r\n",
                "        , [column_name]\r\n",
                "        , [ordinal_position]\r\n",
                "        , [is_nullable]\r\n",
                "        , [data_type]\r\n",
                "        , [char_max_length]\r\n",
                "\t\t, [primary_key]\r\n",
                "\t   )\r\n",
                "VALUES (\r\n",
                "\t\t  [server_name]\r\n",
                "\t    , [database_name]\r\n",
                "        , [table_schema]\r\n",
                "        , [table_name]\r\n",
                "        , [column_name]\r\n",
                "        , [ordinal_position]\r\n",
                "        , [is_nullable]\r\n",
                "        , [data_type]\r\n",
                "        , [char_max_length]\r\n",
                "\t\t, [primary_key]\r\n",
                "\t   )\r\n",
                "WHEN NOT MATCHED BY SOURCE\r\n",
                " AND DST.[server_name] = /*${Metadata_Server_Name}*/'dev'/**/ \r\n",
                " AND DST.[database_name] = /*${sql_server_Database}*/'eltsnap_v2'/**/ THEN\r\n",
                "\t DELETE;\r\n",
                "\r\n",
                "SELECT @@ROWCOUNT AS [row_count];"
            ],
            "metadata": {
                "azdata_cell_guid": "855a6f47-b86e-405f-b4e5-b64822659709",
                "notebooksnap": {
                    "cell_name": "Merge stg to meta schema - dim_column",
                    "connection": "eltsnap_v2",
                    "pattern": "Execute SQL"
                },
                "language": "sql"
            },
            "outputs": [],
            "execution_count": null
        },
        {
            "cell_type": "markdown",
            "source": [
                "## Merge stg to dbo schema - dim_table"
            ],
            "metadata": {
                "azdata_cell_guid": "92d9a9f0-b238-4aef-aaf1-16edd4c90e52"
            }
        },
        {
            "cell_type": "code",
            "source": [
                "EXEC [elt].[build_and_execute_merge_for_dimension] 'stg', 'dim_table', 'dbo', 'dim_table', 'Standard', 'server_name,database_name,table_schema,table_name','table_type';"
            ],
            "metadata": {
                "azdata_cell_guid": "9beb6695-0a43-4889-8b65-2b197fef467d",
                "notebooksnap": {
                    "cell_name": "Merge stg to dbo schema - dim_table",
                    "connection": "eltsnap_v2",
                    "pattern": "Execute SQL"
                },
                "language": "sql"
            },
            "outputs": [],
            "execution_count": null
        },
        {
            "cell_type": "markdown",
            "source": [
                "## Merge stg to dbo schema - dim_column"
            ],
            "metadata": {
                "azdata_cell_guid": "3b5aba0b-317b-44f3-a5d7-1afc0e735d26"
            }
        },
        {
            "cell_type": "code",
            "source": [
                "EXEC [elt].[build_and_execute_merge_for_dimension] 'stg', 'dim_column', 'dbo', 'dim_column', 'Standard', 'server_name,database_name,table_schema,table_name,column_name','is_nullable,data_type,char_max_length';"
            ],
            "metadata": {
                "azdata_cell_guid": "eb5d827a-4bf5-4d08-9864-fba5f7b29cbb",
                "notebooksnap": {
                    "cell_name": "Merge stg to dbo schema - dim_column",
                    "connection": "eltsnap_v2",
                    "pattern": "Execute SQL"
                },
                "language": "sql"
            },
            "outputs": [],
            "execution_count": null
        },
        {
            "cell_type": "markdown",
            "source": [
                "## dim delete - dbo - dim_table"
            ],
            "metadata": {
                "azdata_cell_guid": "d60220a1-bfd0-497c-a6f2-0a83f2656f2d"
            }
        },
        {
            "cell_type": "code",
            "source": [
                "WITH [deleted_rows] AS\r\n",
                "(\r\n",
                "SELECT [server_name]\r\n",
                "\t , [database_name]\r\n",
                "\t , [table_schema]\r\n",
                "\t , [table_name]\r\n",
                "  FROM [dbo].[dim_table]\r\n",
                "EXCEPT \r\n",
                "SELECT [server_name]\r\n",
                "\t , [database_name]\r\n",
                "\t , [table_schema]\r\n",
                "\t , [table_name]\r\n",
                "  FROM [meta].[dim_table]\r\n",
                ")\r\n",
                "UPDATE [dbo].[dim_table]\r\n",
                "   SET [row_expiration_date] = CAST(GETDATE() AS DATE)\r\n",
                "     , [row_update_date] = CAST(GETDATE() AS DATE)\r\n",
                "  FROM [dbo].[dim_table] t\r\n",
                "  JOIN [deleted_rows] d\r\n",
                "    ON d.[server_name]   = t.[server_name]\r\n",
                "   AND d.[database_name] = t.[database_name]\r\n",
                "   AND d.[table_schema]  = t.[table_schema]\r\n",
                "   AND d.[table_name]    = t.[table_name]\r\n",
                " WHERE t.[row_expiration_date] = '9999-12-31';\r\n",
                "\r\n",
                "SELECT @@ROWCOUNT AS [row_count];"
            ],
            "metadata": {
                "azdata_cell_guid": "d10c2280-02bb-435f-9b23-25349233d2fe",
                "notebooksnap": {
                    "cell_name": "dim delete - dbo - dim_table",
                    "connection": "eltsnap_v2",
                    "pattern": "Execute SQL"
                },
                "language": "sql"
            },
            "outputs": [],
            "execution_count": null
        },
        {
            "cell_type": "markdown",
            "source": [
                "## dim delete - dbo - dim_column"
            ],
            "metadata": {
                "azdata_cell_guid": "e90b722d-2892-4074-a34f-e217e799ff8c"
            }
        },
        {
            "cell_type": "code",
            "source": [
                "WITH [deleted_rows] AS\r\n",
                "(\r\n",
                "SELECT [server_name]\r\n",
                "\t , [database_name]\r\n",
                "\t , [table_schema]\r\n",
                "\t , [table_name]\r\n",
                "\t , [column_name]\r\n",
                "  FROM [dbo].[dim_column]\r\n",
                "EXCEPT \r\n",
                "SELECT [server_name]\r\n",
                "\t , [database_name]\r\n",
                "\t , [table_schema]\r\n",
                "\t , [table_name]\r\n",
                "\t , [column_name]\r\n",
                "  FROM [meta].[dim_column]\r\n",
                ")\r\n",
                "UPDATE [dbo].[dim_column]\r\n",
                "   SET [row_expiration_date] = CAST(GETDATE() AS DATE)\r\n",
                "     , [row_update_date] = CAST(GETDATE() AS DATE)\r\n",
                "  FROM [dbo].[dim_column] c\r\n",
                "  JOIN [deleted_rows] d\r\n",
                "    ON d.[server_name]   = c.[server_name]\r\n",
                "   AND d.[database_name] = c.[database_name]\r\n",
                "   AND d.[table_schema]  = c.[table_schema]\r\n",
                "   AND d.[table_name]    = c.[table_name]\r\n",
                "   AND d.[column_name]   = c.[column_name]\r\n",
                " WHERE c.[row_expiration_date] = '9999-12-31';\r\n",
                "\r\n",
                "SELECT @@ROWCOUNT AS [row_count];"
            ],
            "metadata": {
                "azdata_cell_guid": "bf261a7a-f07f-43b5-b699-f5a758f4a464",
                "notebooksnap": {
                    "cell_name": "dim delete - dbo - dim_column",
                    "connection": "eltsnap_v2",
                    "pattern": "Execute SQL"
                },
                "language": "sql"
            },
            "outputs": [],
            "execution_count": null
        }
    ]
}