{
    "metadata": {
        "kernelspec": {
            "name": "SQL",
            "display_name": "SQL",
            "language": "sql"
        },
        "language_info": {
            "name": "sql",
            "version": ""
        }
    },
    "nbformat_minor": 2,
    "nbformat": 4,
    "cells": [
        {
            "cell_type": "markdown",
            "source": [
                "## Snowflake Merge"
            ],
            "metadata": {
                "azdata_cell_guid": "073e1610-0d14-40c5-86f4-9d1b1b757898"
            }
        },
        {
            "cell_type": "code",
            "source": [
                "CALL STG.BUILD_AND_EXECUTE_MERGE_FOR_DIMENSION('STG', 'D_LOCATION', 'EDW', 'D_LOCATION', 'Standard', 'LATITUDE,LONGITUDE', '', '', '', '')"
            ],
            "metadata": {
                "azdata_cell_guid": "40265e48-2c2e-461a-91ca-e6cbe03c8a72",
                "notebooksnap": {
                    "pattern": "Execute SQL",
                    "cell_name": "Snowflake Merge",
                    "connection": "snowflake-demo"
                }
            },
            "outputs": [],
            "execution_count": null
        }
    ]
}