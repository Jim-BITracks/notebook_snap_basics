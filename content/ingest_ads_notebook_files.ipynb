{
    "metadata": {
        "kernelspec": {
            "name": "powershell",
            "display_name": "PowerShell",
            "language": "powershell"
        },
        "language_info": {
            "name": "powershell",
            "codemirror_mode": "shell",
            "mimetype": "text/x-sh",
            "file_extension": ".ps1"
        }
    },
    "nbformat_minor": 2,
    "nbformat": 4,
    "cells": [
        {
            "cell_type": "markdown",
            "source": [
                "# Ingest ADS Notebook Files\r\n",
                "\r\n",
                "![files_to_database](files_to_database.png)\r\n",
                "\r\n",
                "This Notebook will load selected files (from a local or networked file system) into a SQL Server database.\r\n",
                "\r\n",
                "> This is a stand-alone Notebook 'Project', and does use an associated eltSnap project. For best results, verify/update the **Notebook Configuration** code cell below, and then use the 'Run all' option for this Notebook."
            ],
            "metadata": {
                "azdata_cell_guid": "44841f01-e6e1-4161-af48-7ee86eb0deb3"
            }
        },
        {
            "cell_type": "markdown",
            "source": [
                "## Notebook Configuration"
            ],
            "metadata": {
                "azdata_cell_guid": "f8173227-18c7-422e-a82b-cd88a999f8a1"
            }
        },
        {
            "cell_type": "code",
            "source": [
                "# Configuration Parameters\r\n",
                "$FolderLocation = 'C:\\ADS\\Repository\\'\r\n",
                "$ServerInstance = 'SRV6'\r\n",
                "$Database = 'eltsnap_v2'\r\n",
                "\r\n",
                "# Set Begin Time\r\n",
                "$BegTime = $(Get-Date)\r\n",
                "'Beg Time: ' +  $BegTime\r\n",
                "\r\n",
                "# Show Environment\r\n",
                "'Run Values:'\r\n",
                "'Folder Location: ' + $FolderLocation\r\n",
                "'Server: ' + $ServerInstance\r\n",
                "'Database: ' +$Database"
            ],
            "metadata": {
                "azdata_cell_guid": "d935275e-8189-4734-a62f-074028f1ea90",
                "tags": []
            },
            "outputs": [
                {
                    "name": "stdout",
                    "text": "",
                    "output_type": "stream"
                }
            ],
            "execution_count": 1
        },
        {
            "cell_type": "markdown",
            "source": [
                "## Reset staging table"
            ],
            "metadata": {
                "azdata_cell_guid": "9ef7bc0e-a20b-4517-9606-6072bbdb50ba"
            }
        },
        {
            "cell_type": "code",
            "source": [
                "Invoke-Sqlcmd -ServerInstance $ServerInstance -Database $Database -Query \"TRUNCATE TABLE [stg].[files]\""
            ],
            "metadata": {
                "azdata_cell_guid": "70ed5c4a-8ccf-4836-b546-b89504a5723f",
                "tags": [],
                "notebooksnap": {
                    "pattern": "Execute Process",
                    "cell_name": "Ingest files - Reset staging table",
                    "executable": "PWSH",
                    "working_directory": "${powershell_script_path}"
                }
            },
            "outputs": [
                {
                    "name": "stdout",
                    "text": "Beg Time: 01/07/2021 08:23:54\nRun Values:\nFolder Location: C:\\ADS\\Repository\\\nServer: SRV6\nDatabase: eltsnap_v2\n. {\n>> Invoke-Sqlcmd -ServerInstance $ServerInstance -Database $Database -Query \"TRUNCATE TABLE [stg].[files]\"\n>> }\n>> \n",
                    "output_type": "stream"
                }
            ],
            "execution_count": 2
        },
        {
            "cell_type": "markdown",
            "source": [
                "## Load Files into table: [stg].[files]\r\n",
                ""
            ],
            "metadata": {
                "azdata_cell_guid": "b5890a08-b92b-4174-aebd-b6fd83ee6431"
            }
        },
        {
            "cell_type": "code",
            "source": [
                "Get-ChildItem -Path $FolderLocation -Recurse -Include *.ipynb | Select-Object @{l=\"FullName\";e={($_.FullName).Replace($FolderLocation,\"\")}}, BaseName, @{l=\"Extension\";e={($_.Extension).Replace(\".\",\"\")}}, LastWriteTime, Length, @{l=\"Contents\";e={(Get-Content $_ -Raw).ToString()}} | Write-SqlTableData -ServerInstance $ServerInstance -DatabaseName $database -SchemaName \"stg\" -TableName \"files\""
            ],
            "metadata": {
                "azdata_cell_guid": "6c1ff060-bc28-42c6-a0d9-d44b392c3da6",
                "tags": [],
                "notebooksnap": {
                    "pattern": "Execute Process",
                    "cell_name": "Load Files Names into ads_snap Database",
                    "executable": "PWSH",
                    "working_directory": "${powershell_script_path}"
                }
            },
            "outputs": [
                {
                    "name": "stdout",
                    "text": "",
                    "output_type": "stream"
                }
            ],
            "execution_count": 3
        },
        {
            "cell_type": "markdown",
            "source": [
                "## Merge table: [stg].[files] into: [ads].[files]"
            ],
            "metadata": {
                "azdata_cell_guid": "7ad29fea-1586-49ab-87e4-7aa579558a10"
            }
        },
        {
            "cell_type": "code",
            "source": [
                "Invoke-Sqlcmd -ServerInstance $ServerInstance -Database $Database -Query \"EXEC [ads].[Merge Staged Files];\""
            ],
            "metadata": {
                "azdata_cell_guid": "f4720c1d-f350-489d-b076-43fdde02bfef",
                "notebooksnap": {
                    "pattern": "Execute Process",
                    "cell_name": "Ingest files - Merge Staged Files",
                    "executable": "PWSH",
                    "working_directory": "${powershell_script_path}"
                }
            },
            "outputs": [
                {
                    "name": "stdout",
                    "text": "\nrow_count\n---------\n        3\n\n\n",
                    "output_type": "stream"
                }
            ],
            "execution_count": 4
        },
        {
            "cell_type": "markdown",
            "source": [
                "## Ingest all Notebooks Files into table: [ads].[notebooks]"
            ],
            "metadata": {
                "azdata_cell_guid": "0b12ef7f-2eb7-4aa0-a303-b0e964e1487e"
            }
        },
        {
            "cell_type": "code",
            "source": [
                "Invoke-Sqlcmd -ServerInstance $ServerInstance -Database $Database -Query \"EXEC [ads].[Ingest All Notebooks];\""
            ],
            "metadata": {
                "azdata_cell_guid": "3b9b9f9b-9ef3-4259-8889-8d2ebbcac470",
                "notebooksnap": {
                    "pattern": "Execute Process",
                    "cell_name": "Ingest files - All Notebooks",
                    "executable": "PWSH",
                    "working_directory": "${powershell_script_path}"
                }
            },
            "outputs": [
                {
                    "name": "stdout",
                    "text": "",
                    "output_type": "stream"
                }
            ],
            "execution_count": 5
        },
        {
            "cell_type": "markdown",
            "source": [
                "## Run Summary"
            ],
            "metadata": {
                "azdata_cell_guid": "6a75b156-ddf6-4b9f-b043-9015ab04d9ff"
            }
        },
        {
            "cell_type": "code",
            "source": [
                "'Beg Time: ' +  $BegTime\r\n",
                "\r\n",
                "$EndTime = $(Get-Date)\r\n",
                "'End Time: ' +  $EndTime\r\n",
                "\r\n",
                "$EndTime - $BegTime\r\n",
                ""
            ],
            "metadata": {
                "azdata_cell_guid": "61a1e26d-e6bd-48a7-ad73-e219259f6959",
                "tags": []
            },
            "outputs": [
                {
                    "name": "stdout",
                    "text": "Beg Time: 01/07/2021 08:23:54\nEnd Time: 01/07/2021 08:24:13\n\n\nDays              : 0\nHours             : 0\nMinutes           : 0\nSeconds           : 19\nMilliseconds      : 527\nTicks             : 195273973\nTotalDays         : 0.000226011542824074\nTotalHours        : 0.00542427702777778\nTotalMinutes      : 0.325456621666667\nTotalSeconds      : 19.5273973\nTotalMilliseconds : 19527.3973\n\n\n\n",
                    "output_type": "stream"
                }
            ],
            "execution_count": 6
        }
    ]
}