{
    "metadata": {
        "kernelspec": {
            "name": "SQL",
            "display_name": "SQL",
            "language": "sql"
        },
        "language_info": {
            "name": "sql",
            "version": ""
        }
    },
    "nbformat_minor": 2,
    "nbformat": 4,
    "cells": [
        {
            "cell_type": "markdown",
            "source": [
                "# Build Sample Merge for Snowflake Dimension (Project Setup)\r\n",
                "\r\n",
                "This notebook contains an example project for building and executing a merge statement for dimensions in Snowflake\""
            ],
            "metadata": {
                "azdata_cell_guid": "f817cd84-8e28-4a13-bca6-514271d3154f"
            }
        },
        {
            "cell_type": "markdown",
            "source": [
                "## Project Setup\n",
                "\n",
                "These scripts needs to be run **after** running the notebook called **Ingest ADS Notebook Files (Project)**"
            ],
            "metadata": {
                "azdata_cell_guid": "1604ec9a-5af9-41ad-99a1-1583db5bf0ac"
            }
        },
        {
            "cell_type": "code",
            "source": [
                "DELETE FROM [ads].[project_cells] WHERE [project_name] = 'Build and Execute Merge for Dimension - Example Project (Snowflake)'\r\n",
                "\r\n",
                "INSERT [ads].[project_cells] ([project_name], [full_name], [cell_name], [sequence_number], [parallel_executions]) VALUES (N'Build and Execute Merge for Dimension - Example Project (Snowflake)',\tN'notebook_snap_basics\\content\\Create_DIM_COLUMN_VIEW_as_src.sql',\tN'Create Example DIM_COLUMN_VIEW as Source (snowflake)', 100, NULL)\r\n",
                "INSERT [ads].[project_cells] ([project_name], [full_name], [cell_name], [sequence_number], [parallel_executions]) VALUES (N'Build and Execute Merge for Dimension - Example Project (Snowflake)',\tN'notebook_snap_basics\\content\\Create_DIM_COLUMN_Table.sql',\tN'Create Example DIM_COLUMN Table (snowflake)', 110, NULL)\r\n",
                "INSERT [ads].[project_cells] ([project_name], [full_name], [cell_name], [sequence_number], [parallel_executions]) VALUES (N'Build and Execute Merge for Dimension - Example Project (Snowflake)',\tN'notebook_snap_basics\\content\\build_merge_for_dimension_snowflake_example_project.ipynb',\tN'Call Merge Statement for Snowflake (Example Project)', 120, NULL)\r\n",
                ""
            ],
            "metadata": {
                "azdata_cell_guid": "f8c4111e-aa7d-4ca5-acbf-8e8e83028fa0"
            },
            "outputs": [],
            "execution_count": null
        },
        {
            "cell_type": "markdown",
            "source": [
                "## Check Impact of Importing Project "
            ],
            "metadata": {
                "azdata_cell_guid": "0e8ff146-528a-4183-9c77-b09748086a37"
            }
        },
        {
            "cell_type": "code",
            "source": [
                "EXEC [ads].[Impact Check from ADS] 'Build and Execute Merge for Dimension - Example Project (Snowflake)';"
            ],
            "metadata": {
                "azdata_cell_guid": "39f6641e-d48c-4eeb-b489-c6c758acc50e"
            },
            "outputs": [],
            "execution_count": null
        },
        {
            "cell_type": "markdown",
            "source": [
                "## Import project from ADS"
            ],
            "metadata": {
                "azdata_cell_guid": "1dc2fa75-fd1c-4cbc-afc4-d9709513118c"
            }
        },
        {
            "cell_type": "code",
            "source": [
                "EXEC [ads].[Import Project from ADS] 'Build and Execute Merge for Dimension - Example Project (Snowflake)';"
            ],
            "metadata": {
                "azdata_cell_guid": "2beaa8c6-edc3-4a63-9c87-0aee44810075"
            },
            "outputs": [],
            "execution_count": null
        },
        {
            "cell_type": "markdown",
            "source": [
                "## Package 1: Create source view in schema 'STG'\n",
                "\n",
                "> Using code from Create_DIM_COLUMN_VIEW_as_src.sql file (content\\Create_DIM_COLUMN_VIEW_as_src.sql)"
            ],
            "metadata": {
                "azdata_cell_guid": "96a8cf52-33d1-4a6b-861b-1f0d6dabe05e"
            }
        },
        {
            "cell_type": "markdown",
            "source": [
                "## Package 2: Create sample dimension in schema 'STG'\r\n",
                "\r\n",
                "> Using code from Create\\_DIM\\_COLUMN\\_Table.sql file (content\\Create_DIM_COLUMN_Table.sql)"
            ],
            "metadata": {
                "azdata_cell_guid": "0e6cf712-66e3-402d-b7a4-5d267b8205ae"
            }
        },
        {
            "cell_type": "markdown",
            "source": [
                "## Call BUILD\\_AND\\_EXECUTE\\_MERGE\\_FOR\\_DIMENSION Stored Procedure"
            ],
            "metadata": {
                "azdata_cell_guid": "22a9c491-f37d-4d1b-808d-4cf4ccc86f13"
            }
        },
        {
            "cell_type": "code",
            "source": [
                "CALL STG.BUILD_AND_EXECUTE_MERGE_FOR_DIMENSION_DEST_REPAIR('STG', 'DIM_COLUMN_VIEW', 'STG', 'DIM_COLUMN', 'Standard', 'TABLE_CATALOG,TABLE_SCHEMA,TABLE_NAME,COLUMN_NAME', '', '', '', '')"
            ],
            "metadata": {
                "azdata_cell_guid": "0b3e97c5-e2a4-45a9-8714-638fede79ade",
                "notebooksnap": {
                    "pattern": "Execute SQL",
                    "cell_name": "Call Merge Statement for Snowflake (Example Project)",
                    "connection": "snowflake-demo"
                }
            },
            "outputs": [],
            "execution_count": null
        }
    ]
}