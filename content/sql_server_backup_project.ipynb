{
    "metadata": {
        "kernelspec": {
            "name": "SQL",
            "display_name": "SQL",
            "language": "sql"
        },
        "language_info": {
            "name": "sql",
            "version": ""
        }
    },
    "nbformat_minor": 2,
    "nbformat": 4,
    "cells": [
        {
            "cell_type": "markdown",
            "source": [
                "# SQL Server Backup\r\n",
                "\r\n",
                "This Notebook contains a single code cell that can be used to backup Databases on SQL Server."
            ],
            "metadata": {
                "azdata_cell_guid": "f8c02e7a-8717-4502-8509-da7e30d23dcb"
            }
        },
        {
            "cell_type": "markdown",
            "source": [
                "## Backup Databases\n",
                "\n",
                "1. Connect to a SQL Server Instance\n",
                "2. Verify/update the value for **@backup_folder** in the code cell below\n",
                "\n",
                ""
            ],
            "metadata": {
                "azdata_cell_guid": "a5a23d9c-5346-4d12-99c5-bd8939be17f9"
            }
        },
        {
            "cell_type": "code",
            "source": [
                "DECLARE @backup_folder NVARCHAR(128) = /*${database_backup_folder}*/'D:\\db backup'/**/\r\n",
                "\r\n",
                "DECLARE @name NVARCHAR(50), @fileName NVARCHAR(256)\r\n",
                "DECLARE db_cursor CURSOR FOR  \r\n",
                "SELECT [name] FROM master.dbo.sysdatabases WHERE [name] NOT IN ('tempdb');  -- exclude these database(s)\r\n",
                " \r\n",
                "OPEN db_cursor; \r\n",
                "FETCH NEXT FROM db_cursor INTO @name;   \r\n",
                "WHILE @@FETCH_STATUS = 0   \r\n",
                "BEGIN   \r\n",
                "       SET @fileName = @backup_folder + '\\' + @name + '.BAK'; \r\n",
                "       BACKUP DATABASE @name TO DISK = @fileName WITH NOFORMAT, INIT, SKIP, NOREWIND, NOUNLOAD,  STATS = 10;\r\n",
                "       FETCH NEXT FROM db_cursor INTO @name;   \r\n",
                "END   \r\n",
                "CLOSE db_cursor;   \r\n",
                "DEALLOCATE db_cursor;"
            ],
            "metadata": {
                "azdata_cell_guid": "bddebad1-5fc7-440b-803f-edd7981f8685",
                "notebooksnap": {
                    "pattern": "Execute SQL",
                    "cell_name": "eltsnap log delete",
                    "connection": "eltsnap_v2"
                }
            },
            "outputs": [],
            "execution_count": null
        }
    ]
}