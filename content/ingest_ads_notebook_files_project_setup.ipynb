{
    "metadata": {
        "kernelspec": {
            "name": "SQL",
            "display_name": "SQL",
            "language": "sql"
        },
        "language_info": {
            "name": "sql",
            "version": ""
        }
    },
    "nbformat_minor": 2,
    "nbformat": 4,
    "cells": [
        {
            "cell_type": "markdown",
            "source": [
                "# Ingest ADS Notebook Files (Project Setup)\r\n",
                "\r\n",
                "This notebook contains the SQL Set-up scripts for the eltSnap project \"Ingest ADS Notebook Files\"\r\n",
                "\r\n",
                "These scripts need to be run **after** ingesting the notebook called **Ingest ADS Notebook Files (Project)**\r\n",
                "\r\n",
                "> To run these SQL scripts, first connect to your SQL Server instance of **eltsnap_v2**"
            ],
            "metadata": {
                "azdata_cell_guid": "79fec498-f45d-45ee-bfdb-1bc73a11e4c4"
            }
        },
        {
            "cell_type": "markdown",
            "source": [
                "## Insert the Notebook Cell Mapping to Orchestrate the Run sequence of the eltSnap Project\r\n",
                "\r\n",
                "> This step only needs to run one time, but will do no harm if it's re-run"
            ],
            "metadata": {
                "azdata_cell_guid": "66593da9-ec8c-4fda-9311-ecb4138f2949"
            }
        },
        {
            "cell_type": "code",
            "source": [
                "DELETE [ads].[project_cells] WHERE [project_name] = N'Ingest ADS Notebook Files';\r\n",
                "\r\n",
                "INSERT [ads].[project_cells] ([project_name], [full_name], [cell_name], [sequence_number]) VALUES (N'Ingest ADS Notebook Files', N'notebook_snap_basics\\content\\ingest_ads_notebook_files_project.ipynb', N'Ingest files - Reset staging table', 110)\r\n",
                "INSERT [ads].[project_cells] ([project_name], [full_name], [cell_name], [sequence_number]) VALUES (N'Ingest ADS Notebook Files', N'notebook_snap_basics\\content\\ingest_ads_notebook_files_project.ipynb', N'Ingest files - Stage Files in Database', 120)\r\n",
                "INSERT [ads].[project_cells] ([project_name], [full_name], [cell_name], [sequence_number]) VALUES (N'Ingest ADS Notebook Files', N'notebook_snap_basics\\content\\ingest_ads_notebook_files_project.ipynb', N'Ingest files - Merge Staged Files', 130)\r\n",
                "INSERT [ads].[project_cells] ([project_name], [full_name], [cell_name], [sequence_number]) VALUES (N'Ingest ADS Notebook Files', N'notebook_snap_basics\\content\\ingest_ads_notebook_files_project.ipynb', N'Ingest files - Notebook Contents', 140)"
            ],
            "metadata": {
                "azdata_cell_guid": "c498183d-55c1-473a-a78f-64b53918a487"
            },
            "outputs": [],
            "execution_count": null
        },
        {
            "cell_type": "markdown",
            "source": [
                "## Import the \"Notebook Based\" Project into eltSnap\r\n",
                "\r\n",
                "This will refresh the cooresponding code used by eltSnap based on the _Ingested_ Notebook code"
            ],
            "metadata": {
                "azdata_cell_guid": "baa80723-a33c-4798-9439-90bc1737ce3c"
            }
        },
        {
            "cell_type": "code",
            "source": [
                "EXEC [ads].[Import Project from ADS Notebooks] 'Ingest ADS Notebook Files';"
            ],
            "metadata": {
                "azdata_cell_guid": "aa8d878a-fa34-4934-ac4a-fa3ddf1d6a18"
            },
            "outputs": [],
            "execution_count": null
        }
    ]
}