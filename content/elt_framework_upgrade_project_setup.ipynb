{
    "metadata": {
        "kernelspec": {
            "name": "SQL",
            "display_name": "SQL",
            "language": "sql"
        },
        "language_info": {
            "name": "sql",
            "version": ""
        }
    },
    "nbformat_minor": 2,
    "nbformat": 4,
    "cells": [
        {
            "cell_type": "markdown",
            "source": [
                "# elt_framework upgrade (Project Setup)\r\n",
                "\r\n",
                "This notebook contains the SQL Set-up scripts for the eltSnap project \"upgrade eltsnap\"\r\n",
                "\r\n",
                "These scripts needs to be run **after** running the notebook called **Ingest ADS Notebook Files (Project)**\r\n",
                "\r\n",
                "> To run these SQL scripts, first connect to your SQL Server instance of **eltsnap_v2a**"
            ],
            "metadata": {
                "azdata_cell_guid": "b5571ff1-3202-4990-9754-8f1b99941489"
            }
        },
        {
            "cell_type": "markdown",
            "source": [
                "## Check Impact"
            ],
            "metadata": {
                "azdata_cell_guid": "80c81cc7-0770-43f5-94a5-5b8e63356d3d"
            }
        },
        {
            "cell_type": "code",
            "source": [
                "EXEC [ads].[Impact Check from ADS] 'elt_framework upgrade', 'notebook_snap_basics\\content\\elt_framework_upgrade.ipynb';"
            ],
            "metadata": {
                "azdata_cell_guid": "d0307dce-e234-49bb-a791-562f56456fca"
            },
            "outputs": [],
            "execution_count": null
        },
        {
            "cell_type": "markdown",
            "source": [
                "## Import Project"
            ],
            "metadata": {
                "azdata_cell_guid": "8b8c493d-7062-4f0e-99b0-fb750a391728"
            }
        },
        {
            "cell_type": "code",
            "source": [
                "EXEC [ads].[Import Project from ADS] 'elt_framework upgrade', 'notebook_snap_basics\\content\\elt_framework_upgrade.ipynb';"
            ],
            "metadata": {
                "azdata_cell_guid": "3b713ff7-5bd3-4b95-aba6-144906cb0e9d"
            },
            "outputs": [],
            "execution_count": null
        }
    ]
}