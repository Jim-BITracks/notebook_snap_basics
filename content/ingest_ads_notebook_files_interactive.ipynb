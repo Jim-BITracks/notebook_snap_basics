{
    "metadata": {
        "kernelspec": {
            "name": "powershell",
            "display_name": "PowerShell",
            "language": "powershell"
        },
        "language_info": {
            "name": "powershell",
            "codemirror_mode": "shell",
            "mimetype": "text/x-sh",
            "file_extension": ".ps1"
        }
    },
    "nbformat_minor": 2,
    "nbformat": 4,
    "cells": [
        {
            "cell_type": "markdown",
            "source": [
                "# Ingest ADS Notebook Files (Interactive)\n",
                "\n",
                "![files_to_database](.\\files_to_database.png)\n",
                "\n",
                "This Notebook will load selected files (from a local or networked file system) into a SQL Server database.\n",
                "\n",
                "This notebook is designed run _interactively_ and does not require any supporting objects in eltSnap.\n",
                "\n",
                "The associated notebook: [Ingest ADS Notebook Files (Project)](.\\ingest_ads_notebook_files_project.ipynb) can be used to Deploy this notebook capability as a runnable _Project_ into the eltSnap database.\n",
                "\n",
                "> For best results, verify/update the **Notebook Configuration** code cell below, and then use the '**Run all**' option for this Notebook.\n",
                "> \n",
                "> If the SQL Server commands for PowerShell need to be installled, use: Install-Module -Name SqlServer -AllowClobber\n",
                "> \n",
                "> <span style=\"background-color: rgb(203, 213, 225); color: rgb(15, 23, 42); font-family: ui-monospace, SFMono-Regular, Menlo, Monaco, Consolas, &quot;Liberation Mono&quot;, &quot;Courier New&quot;, monospace;\">To determine PowerShell version, use: (Get-Host).Version</span>"
            ],
            "metadata": {
                "azdata_cell_guid": "44841f01-e6e1-4161-af48-7ee86eb0deb3"
            },
            "attachments": {}
        },
        {
            "cell_type": "markdown",
            "source": [
                "## Notebook Configuration\n",
                "\n",
                "> If using **SQL Server authentication** provide $username and $pwd in the code cell below:"
            ],
            "metadata": {
                "azdata_cell_guid": "f8173227-18c7-422e-a82b-cd88a999f8a1"
            }
        },
        {
            "cell_type": "code",
            "source": [
                "# Configuration Parameters\r\n",
                "$FolderLocation = 'C:\\repos\\'   # Update to your Notebook Repository\r\n",
                "$ServerInstance = 'localhost'   # Update to your SQL Server Name hosting the 'eltsnap_v2' database\r\n",
                "$Database = 'eltsnap_v2'\r\n",
                "\r\n",
                "# Set Begin Time\r\n",
                "$BegTime = $(Get-Date)\r\n",
                "'Beg Time: ' +  $BegTime\r\n",
                "\r\n",
                "# Show Environment\r\n",
                "'Run Values:'\r\n",
                "'Folder Location: ' + $FolderLocation\r\n",
                "'Server: ' + $ServerInstance\r\n",
                "'Database: ' +$Database\r\n",
                "\r\n",
                "# Use SQL Server username and password\r\n",
                "$username = \"*****\"\r\n",
                "$pwd = ConvertTo-SecureString -String \"*****\" -AsPlainText -Force\r\n",
                "$cred = New-Object -TypeName System.Management.Automation.PSCredential -ArgumentList $username, $pwd"
            ],
            "metadata": {
                "azdata_cell_guid": "d935275e-8189-4734-a62f-074028f1ea90",
                "tags": [],
                "notebooksnap": {
                    "cell_name": "test",
                    "connection": "test1",
                    "pattern": "Execute SQL"
                },
                "language": "powershell"
            },
            "outputs": [],
            "execution_count": null
        },
        {
            "cell_type": "markdown",
            "source": [
                "## Reset staging table\r\n",
                "\r\n",
                "> If using **SQL Server authentication** uncomment the following (6) code cells below to include the parameter: \"-Credential $cred\" "
            ],
            "metadata": {
                "azdata_cell_guid": "9ef7bc0e-a20b-4517-9606-6072bbdb50ba"
            }
        },
        {
            "cell_type": "code",
            "source": [
                "Invoke-Sqlcmd -ServerInstance $ServerInstance -Database $Database -Query \"TRUNCATE TABLE [stg].[files]\" <# -Credential $cred #>"
            ],
            "metadata": {
                "azdata_cell_guid": "70ed5c4a-8ccf-4836-b546-b89504a5723f",
                "tags": [],
                "notebooksnap": {
                    "cell_name": "Ingest files - Reset staging table",
                    "executable": "PWSH",
                    "working_directory": "${powershell_script_path}",
                    "pattern": "Execute Process"
                },
                "language": "powershell"
            },
            "outputs": [],
            "execution_count": null
        },
        {
            "cell_type": "markdown",
            "source": [
                "## Load Notebook Files into table: [stg].[files]\r\n",
                ""
            ],
            "metadata": {
                "azdata_cell_guid": "b5890a08-b92b-4174-aebd-b6fd83ee6431"
            }
        },
        {
            "cell_type": "code",
            "source": [
                "Get-ChildItem -Path $FolderLocation -Recurse -Include *.ipynb | Select-Object @{l=\"FullName\";e={($_.FullName).Replace($FolderLocation,\"\")}}, BaseName, @{l=\"Extension\";e={($_.Extension).Replace(\".\",\"\")}}, LastWriteTime, Length, @{l=\"Contents\";e={(Get-Content $_ -Raw).ToString()}} | Write-SqlTableData -ServerInstance $ServerInstance -DatabaseName $database -SchemaName \"stg\" -TableName \"files\" <# -Credential $cred #>"
            ],
            "metadata": {
                "azdata_cell_guid": "6c1ff060-bc28-42c6-a0d9-d44b392c3da6",
                "tags": [],
                "notebooksnap": {
                    "cell_name": "Load Files Names into ads_snap Database",
                    "executable": "PWSH",
                    "working_directory": "${powershell_script_path}",
                    "pattern": "Execute Process"
                },
                "language": "powershell"
            },
            "outputs": [],
            "execution_count": null
        },
        {
            "cell_type": "markdown",
            "source": [
                "## Load .SQL Files into table: [stg].[files]"
            ],
            "metadata": {
                "azdata_cell_guid": "065dee35-e0d2-43ae-a36e-f1f2889d29dc"
            }
        },
        {
            "cell_type": "code",
            "source": [
                "Get-ChildItem -Path $FolderLocation -Recurse -Include *.sql | Select-Object @{l=\"FullName\";e={($_.FullName).Replace($FolderLocation,\"\")}}, BaseName, @{l=\"Extension\";e={($_.Extension).Replace(\".\",\"\")}}, LastWriteTime, Length, @{l=\"Contents\";e={(Get-Content $_ -Raw).ToString()}} | Write-SqlTableData -ServerInstance $ServerInstance -DatabaseName $database -SchemaName \"stg\" -TableName \"files\" <# -Credential $cred #>"
            ],
            "metadata": {
                "azdata_cell_guid": "76547ed2-05af-496f-b29c-7cb22d573ab1",
                "language": "powershell"
            },
            "outputs": [],
            "execution_count": null
        },
        {
            "cell_type": "markdown",
            "source": [
                "## Merge table: [stg].[files] into: [ads].[files]"
            ],
            "metadata": {
                "azdata_cell_guid": "7ad29fea-1586-49ab-87e4-7aa579558a10"
            }
        },
        {
            "cell_type": "code",
            "source": [
                "Invoke-Sqlcmd -ServerInstance $ServerInstance -Database $Database -Query \"EXEC [ads].[Merge Staged Files];\" <# -Credential $cred #>"
            ],
            "metadata": {
                "azdata_cell_guid": "f4720c1d-f350-489d-b076-43fdde02bfef",
                "notebooksnap": {
                    "cell_name": "Ingest files - Merge Staged Files",
                    "executable": "PWSH",
                    "working_directory": "${powershell_script_path}",
                    "pattern": "Execute Process"
                },
                "language": "powershell"
            },
            "outputs": [],
            "execution_count": null
        },
        {
            "cell_type": "markdown",
            "source": [
                "## Ingest all Notebooks Files into table: [ads].[notebooks]"
            ],
            "metadata": {
                "azdata_cell_guid": "0b12ef7f-2eb7-4aa0-a303-b0e964e1487e"
            }
        },
        {
            "cell_type": "code",
            "source": [
                "Invoke-Sqlcmd -ServerInstance $ServerInstance -Database $Database -Query \"EXEC [ads].[Ingest All Notebooks];\" <# -Credential $cred #>"
            ],
            "metadata": {
                "azdata_cell_guid": "3b9b9f9b-9ef3-4259-8889-8d2ebbcac470",
                "notebooksnap": {
                    "cell_name": "Ingest files - All Notebooks",
                    "executable": "PWSH",
                    "working_directory": "${powershell_script_path}",
                    "pattern": "Execute Process"
                },
                "language": "powershell"
            },
            "outputs": [],
            "execution_count": null
        },
        {
            "cell_type": "markdown",
            "source": [
                "## Ingest all SQL Files into table: [ads].[sql_files]"
            ],
            "metadata": {
                "azdata_cell_guid": "d9ff183c-d216-431a-b976-0f8788c06380"
            }
        },
        {
            "cell_type": "code",
            "source": [
                "Invoke-Sqlcmd -ServerInstance $ServerInstance -Database $Database -Query \"EXEC [ads].[Ingest All SQL Files];\" <# -Credential $cred #>"
            ],
            "metadata": {
                "azdata_cell_guid": "c391ae7d-5f74-4040-8a5e-23fb4c60a2d3",
                "language": "powershell"
            },
            "outputs": [],
            "execution_count": null
        },
        {
            "cell_type": "markdown",
            "source": [
                "## Run Summary"
            ],
            "metadata": {
                "azdata_cell_guid": "6a75b156-ddf6-4b9f-b043-9015ab04d9ff"
            }
        },
        {
            "cell_type": "code",
            "source": [
                "'Beg Time: ' +  $BegTime\r\n",
                "\r\n",
                "$EndTime = $(Get-Date)\r\n",
                "'End Time: ' +  $EndTime\r\n",
                "\r\n",
                "$EndTime - $BegTime\r\n",
                ""
            ],
            "metadata": {
                "azdata_cell_guid": "61a1e26d-e6bd-48a7-ad73-e219259f6959",
                "tags": [],
                "language": "powershell"
            },
            "outputs": [],
            "execution_count": null
        }
    ]
}