{
    "metadata": {
        "kernelspec": {
            "name": "SQL",
            "display_name": "SQL",
            "language": "sql"
        },
        "language_info": {
            "name": "sql",
            "version": ""
        }
    },
    "nbformat_minor": 2,
    "nbformat": 4,
    "cells": [
        {
            "cell_type": "markdown",
            "source": [
                "# SQL Server Backup\r\n",
                "\r\n",
                "This Notebook contains a single code cell that can be used to backup Databases on SQL Server."
            ],
            "metadata": {
                "azdata_cell_guid": "f8c02e7a-8717-4502-8509-da7e30d23dcb"
            }
        },
        {
            "cell_type": "markdown",
            "source": [
                "## Backup Databases\n",
                "\n",
                "1. Connect to a SQL Server Instance\n",
                "2. Verify/update the value for **@backup_folder** in the code cell below\n",
                "\n",
                ""
            ],
            "metadata": {
                "azdata_cell_guid": "a5a23d9c-5346-4d12-99c5-bd8939be17f9"
            }
        },
        {
            "cell_type": "code",
            "source": [
                "DECLARE @backup_folder NVARCHAR(120) = 'D:\\db backup'\n",
                "\n",
                "DECLARE @name NVARCHAR(50), @fileName NVARCHAR(256)\r\n",
                "DECLARE db_cursor CURSOR FOR  \r\n",
                "SELECT [name] FROM master.dbo.sysdatabases WHERE [name] NOT IN ('tempdb');  -- exclude these database(s)\r\n",
                " \r\n",
                "OPEN db_cursor; \r\n",
                "FETCH NEXT FROM db_cursor INTO @name;   \r\n",
                "WHILE @@FETCH_STATUS = 0   \r\n",
                "BEGIN   \r\n",
                "       SET @fileName = @backup_folder + '\\' + @name + '.BAK'; \r\n",
                "       BACKUP DATABASE @name TO DISK = @fileName WITH NOFORMAT, INIT, SKIP, NOREWIND, NOUNLOAD,  STATS = 10;\r\n",
                "       FETCH NEXT FROM db_cursor INTO @name;   \r\n",
                "END   \r\n",
                "CLOSE db_cursor;   \r\n",
                "DEALLOCATE db_cursor;"
            ],
            "metadata": {
                "azdata_cell_guid": "bddebad1-5fc7-440b-803f-edd7981f8685",
                "notebooksnap": {
                    "pattern": "Execute SQL",
                    "cell_name": "eltsnap log delete",
                    "connection": "eltsnap_v2"
                }
            },
            "outputs": [
{
    "output_type": "display_data",
    "data": {
        "text/html": "10 percent processed."
    },
    "metadata": {}
}, {
    "output_type": "display_data",
    "data": {
        "text/html": "20 percent processed."
    },
    "metadata": {}
}, {
    "output_type": "display_data",
    "data": {
        "text/html": "31 percent processed."
    },
    "metadata": {}
}, {
    "output_type": "display_data",
    "data": {
        "text/html": "40 percent processed."
    },
    "metadata": {}
}, {
    "output_type": "display_data",
    "data": {
        "text/html": "50 percent processed."
    },
    "metadata": {}
}, {
    "output_type": "display_data",
    "data": {
        "text/html": "61 percent processed."
    },
    "metadata": {}
}, {
    "output_type": "display_data",
    "data": {
        "text/html": "70 percent processed."
    },
    "metadata": {}
}, {
    "output_type": "display_data",
    "data": {
        "text/html": "80 percent processed."
    },
    "metadata": {}
}, {
    "output_type": "display_data",
    "data": {
        "text/html": "91 percent processed."
    },
    "metadata": {}
}, {
    "output_type": "display_data",
    "data": {
        "text/html": "100 percent processed."
    },
    "metadata": {}
}, {
    "output_type": "display_data",
    "data": {
        "text/html": "Processed 600 pages for database 'master', file 'master' on file 1."
    },
    "metadata": {}
}, {
    "output_type": "display_data",
    "data": {
        "text/html": "Processed 2 pages for database 'master', file 'mastlog' on file 1."
    },
    "metadata": {}
}, {
    "output_type": "display_data",
    "data": {
        "text/html": "BACKUP DATABASE successfully processed 602 pages in 0.091 seconds (51.639 MB/sec)."
    },
    "metadata": {}
}, {
    "output_type": "display_data",
    "data": {
        "text/html": "12 percent processed."
    },
    "metadata": {}
}, {
    "output_type": "display_data",
    "data": {
        "text/html": "22 percent processed."
    },
    "metadata": {}
}, {
    "output_type": "display_data",
    "data": {
        "text/html": "32 percent processed."
    },
    "metadata": {}
}, {
    "output_type": "display_data",
    "data": {
        "text/html": "42 percent processed."
    },
    "metadata": {}
}, {
    "output_type": "display_data",
    "data": {
        "text/html": "52 percent processed."
    },
    "metadata": {}
}, {
    "output_type": "display_data",
    "data": {
        "text/html": "62 percent processed."
    },
    "metadata": {}
}, {
    "output_type": "display_data",
    "data": {
        "text/html": "72 percent processed."
    },
    "metadata": {}
}, {
    "output_type": "display_data",
    "data": {
        "text/html": "81 percent processed."
    },
    "metadata": {}
}, {
    "output_type": "display_data",
    "data": {
        "text/html": "91 percent processed."
    },
    "metadata": {}
}, {
    "output_type": "display_data",
    "data": {
        "text/html": "100 percent processed."
    },
    "metadata": {}
}, {
    "output_type": "display_data",
    "data": {
        "text/html": "Processed 336 pages for database 'model', file 'modeldev' on file 1."
    },
    "metadata": {}
}, {
    "output_type": "display_data",
    "data": {
        "text/html": "Processed 2 pages for database 'model', file 'modellog' on file 1."
    },
    "metadata": {}
}, {
    "output_type": "display_data",
    "data": {
        "text/html": "BACKUP DATABASE successfully processed 338 pages in 0.056 seconds (47.084 MB/sec)."
    },
    "metadata": {}
}, {
    "output_type": "display_data",
    "data": {
        "text/html": "10 percent processed."
    },
    "metadata": {}
}, {
    "output_type": "display_data",
    "data": {
        "text/html": "20 percent processed."
    },
    "metadata": {}
}, {
    "output_type": "display_data",
    "data": {
        "text/html": "30 percent processed."
    },
    "metadata": {}
}, {
    "output_type": "display_data",
    "data": {
        "text/html": "40 percent processed."
    },
    "metadata": {}
}, {
    "output_type": "display_data",
    "data": {
        "text/html": "50 percent processed."
    },
    "metadata": {}
}, {
    "output_type": "display_data",
    "data": {
        "text/html": "60 percent processed."
    },
    "metadata": {}
}, {
    "output_type": "display_data",
    "data": {
        "text/html": "70 percent processed."
    },
    "metadata": {}
}, {
    "output_type": "display_data",
    "data": {
        "text/html": "80 percent processed."
    },
    "metadata": {}
}, {
    "output_type": "display_data",
    "data": {
        "text/html": "90 percent processed."
    },
    "metadata": {}
}, {
    "output_type": "display_data",
    "data": {
        "text/html": "100 percent processed."
    },
    "metadata": {}
}, {
    "output_type": "display_data",
    "data": {
        "text/html": "Processed 3416 pages for database 'msdb', file 'MSDBData' on file 1."
    },
    "metadata": {}
}, {
    "output_type": "display_data",
    "data": {
        "text/html": "Processed 2 pages for database 'msdb', file 'MSDBLog' on file 1."
    },
    "metadata": {}
}, {
    "output_type": "display_data",
    "data": {
        "text/html": "BACKUP DATABASE successfully processed 3418 pages in 0.255 seconds (104.702 MB/sec)."
    },
    "metadata": {}
}, {
    "output_type": "display_data",
    "data": {
        "text/html": "10 percent processed."
    },
    "metadata": {}
}, {
    "output_type": "display_data",
    "data": {
        "text/html": "20 percent processed."
    },
    "metadata": {}
}, {
    "output_type": "display_data",
    "data": {
        "text/html": "30 percent processed."
    },
    "metadata": {}
}, {
    "output_type": "display_data",
    "data": {
        "text/html": "41 percent processed."
    },
    "metadata": {}
}, {
    "output_type": "display_data",
    "data": {
        "text/html": "51 percent processed."
    },
    "metadata": {}
}, {
    "output_type": "display_data",
    "data": {
        "text/html": "60 percent processed."
    },
    "metadata": {}
}, {
    "output_type": "display_data",
    "data": {
        "text/html": "70 percent processed."
    },
    "metadata": {}
}, {
    "output_type": "display_data",
    "data": {
        "text/html": "80 percent processed."
    },
    "metadata": {}
}, {
    "output_type": "display_data",
    "data": {
        "text/html": "90 percent processed."
    },
    "metadata": {}
}, {
    "output_type": "display_data",
    "data": {
        "text/html": "100 percent processed."
    },
    "metadata": {}
}, {
    "output_type": "display_data",
    "data": {
        "text/html": "Processed 560 pages for database 'admin', file 'admin' on file 1."
    },
    "metadata": {}
}, {
    "output_type": "display_data",
    "data": {
        "text/html": "Processed 2 pages for database 'admin', file 'admin_log' on file 1."
    },
    "metadata": {}
}, {
    "output_type": "display_data",
    "data": {
        "text/html": "BACKUP DATABASE successfully processed 562 pages in 0.095 seconds (46.175 MB/sec)."
    },
    "metadata": {}
}, {
    "output_type": "display_data",
    "data": {
        "text/html": "10 percent processed."
    },
    "metadata": {}
}, {
    "output_type": "display_data",
    "data": {
        "text/html": "20 percent processed."
    },
    "metadata": {}
}, {
    "output_type": "display_data",
    "data": {
        "text/html": "30 percent processed."
    },
    "metadata": {}
}, {
    "output_type": "display_data",
    "data": {
        "text/html": "40 percent processed."
    },
    "metadata": {}
}, {
    "output_type": "display_data",
    "data": {
        "text/html": "50 percent processed."
    },
    "metadata": {}
}, {
    "output_type": "display_data",
    "data": {
        "text/html": "60 percent processed."
    },
    "metadata": {}
}, {
    "output_type": "display_data",
    "data": {
        "text/html": "70 percent processed."
    },
    "metadata": {}
}, {
    "output_type": "display_data",
    "data": {
        "text/html": "80 percent processed."
    },
    "metadata": {}
}, {
    "output_type": "display_data",
    "data": {
        "text/html": "90 percent processed."
    },
    "metadata": {}
}, {
    "output_type": "display_data",
    "data": {
        "text/html": "100 percent processed."
    },
    "metadata": {}
}, {
    "output_type": "display_data",
    "data": {
        "text/html": "Processed 1448 pages for database 'bimlsnap', file 'bimlsnap' on file 1."
    },
    "metadata": {}
}, {
    "output_type": "display_data",
    "data": {
        "text/html": "Processed 2 pages for database 'bimlsnap', file 'bimlsnap_log' on file 1."
    },
    "metadata": {}
}, {
    "output_type": "display_data",
    "data": {
        "text/html": "BACKUP DATABASE successfully processed 1450 pages in 0.152 seconds (74.501 MB/sec)."
    },
    "metadata": {}
}, {
    "output_type": "display_data",
    "data": {
        "text/html": "10 percent processed."
    },
    "metadata": {}
}, {
    "output_type": "display_data",
    "data": {
        "text/html": "21 percent processed."
    },
    "metadata": {}
}, {
    "output_type": "display_data",
    "data": {
        "text/html": "31 percent processed."
    },
    "metadata": {}
}, {
    "output_type": "display_data",
    "data": {
        "text/html": "40 percent processed."
    },
    "metadata": {}
}, {
    "output_type": "display_data",
    "data": {
        "text/html": "50 percent processed."
    },
    "metadata": {}
}, {
    "output_type": "display_data",
    "data": {
        "text/html": "61 percent processed."
    },
    "metadata": {}
}, {
    "output_type": "display_data",
    "data": {
        "text/html": "71 percent processed."
    },
    "metadata": {}
}, {
    "output_type": "display_data",
    "data": {
        "text/html": "80 percent processed."
    },
    "metadata": {}
}, {
    "output_type": "display_data",
    "data": {
        "text/html": "91 percent processed."
    },
    "metadata": {}
}, {
    "output_type": "display_data",
    "data": {
        "text/html": "100 percent processed."
    },
    "metadata": {}
}, {
    "output_type": "display_data",
    "data": {
        "text/html": "Processed 392 pages for database 'SSIS_Data', file 'SSIS_Data' on file 1."
    },
    "metadata": {}
}, {
    "output_type": "display_data",
    "data": {
        "text/html": "Processed 2 pages for database 'SSIS_Data', file 'SSIS_Data_log' on file 1."
    },
    "metadata": {}
}, {
    "output_type": "display_data",
    "data": {
        "text/html": "BACKUP DATABASE successfully processed 394 pages in 0.071 seconds (43.298 MB/sec)."
    },
    "metadata": {}
}, {
    "output_type": "display_data",
    "data": {
        "text/html": "10 percent processed."
    },
    "metadata": {}
}, {
    "output_type": "display_data",
    "data": {
        "text/html": "20 percent processed."
    },
    "metadata": {}
}, {
    "output_type": "display_data",
    "data": {
        "text/html": "30 percent processed."
    },
    "metadata": {}
}, {
    "output_type": "display_data",
    "data": {
        "text/html": "40 percent processed."
    },
    "metadata": {}
}, {
    "output_type": "display_data",
    "data": {
        "text/html": "50 percent processed."
    },
    "metadata": {}
}, {
    "output_type": "display_data",
    "data": {
        "text/html": "60 percent processed."
    },
    "metadata": {}
}, {
    "output_type": "display_data",
    "data": {
        "text/html": "70 percent processed."
    },
    "metadata": {}
}, {
    "output_type": "display_data",
    "data": {
        "text/html": "80 percent processed."
    },
    "metadata": {}
}, {
    "output_type": "display_data",
    "data": {
        "text/html": "90 percent processed."
    },
    "metadata": {}
}, {
    "output_type": "display_data",
    "data": {
        "text/html": "100 percent processed."
    },
    "metadata": {}
}, {
    "output_type": "display_data",
    "data": {
        "text/html": "Processed 16128 pages for database 'car_crash', file 'crash' on file 1."
    },
    "metadata": {}
}, {
    "output_type": "display_data",
    "data": {
        "text/html": "Processed 2 pages for database 'car_crash', file 'crash_log' on file 1."
    },
    "metadata": {}
}, {
    "output_type": "display_data",
    "data": {
        "text/html": "BACKUP DATABASE successfully processed 16130 pages in 0.862 seconds (146.185 MB/sec)."
    },
    "metadata": {}
}, {
    "output_type": "display_data",
    "data": {
        "text/html": "10 percent processed."
    },
    "metadata": {}
}, {
    "output_type": "display_data",
    "data": {
        "text/html": "20 percent processed."
    },
    "metadata": {}
}, {
    "output_type": "display_data",
    "data": {
        "text/html": "30 percent processed."
    },
    "metadata": {}
}, {
    "output_type": "display_data",
    "data": {
        "text/html": "40 percent processed."
    },
    "metadata": {}
}, {
    "output_type": "display_data",
    "data": {
        "text/html": "50 percent processed."
    },
    "metadata": {}
}, {
    "output_type": "display_data",
    "data": {
        "text/html": "60 percent processed."
    },
    "metadata": {}
}, {
    "output_type": "display_data",
    "data": {
        "text/html": "70 percent processed."
    },
    "metadata": {}
}, {
    "output_type": "display_data",
    "data": {
        "text/html": "80 percent processed."
    },
    "metadata": {}
}, {
    "output_type": "display_data",
    "data": {
        "text/html": "90 percent processed."
    },
    "metadata": {}
}, {
    "output_type": "display_data",
    "data": {
        "text/html": "100 percent processed."
    },
    "metadata": {}
}, {
    "output_type": "display_data",
    "data": {
        "text/html": "Processed 744 pages for database 'eltsnap_v2', file 'eltsnap_v2' on file 1."
    },
    "metadata": {}
}, {
    "output_type": "display_data",
    "data": {
        "text/html": "Processed 2 pages for database 'eltsnap_v2', file 'eltsnap_v2_log' on file 1."
    },
    "metadata": {}
}, {
    "output_type": "display_data",
    "data": {
        "text/html": "BACKUP DATABASE successfully processed 746 pages in 0.103 seconds (56.545 MB/sec)."
    },
    "metadata": {}
}, {
    "output_type": "display_data",
    "data": {
        "text/html": "11 percent processed."
    },
    "metadata": {}
}, {
    "output_type": "display_data",
    "data": {
        "text/html": "21 percent processed."
    },
    "metadata": {}
}, {
    "output_type": "display_data",
    "data": {
        "text/html": "31 percent processed."
    },
    "metadata": {}
}, {
    "output_type": "display_data",
    "data": {
        "text/html": "41 percent processed."
    },
    "metadata": {}
}, {
    "output_type": "display_data",
    "data": {
        "text/html": "51 percent processed."
    },
    "metadata": {}
}, {
    "output_type": "display_data",
    "data": {
        "text/html": "61 percent processed."
    },
    "metadata": {}
}, {
    "output_type": "display_data",
    "data": {
        "text/html": "71 percent processed."
    },
    "metadata": {}
}, {
    "output_type": "display_data",
    "data": {
        "text/html": "80 percent processed."
    },
    "metadata": {}
}, {
    "output_type": "display_data",
    "data": {
        "text/html": "90 percent processed."
    },
    "metadata": {}
}, {
    "output_type": "display_data",
    "data": {
        "text/html": "100 percent processed."
    },
    "metadata": {}
}, {
    "output_type": "display_data",
    "data": {
        "text/html": "Processed 496 pages for database 'elt_framework', file 'elt_framework' on file 1."
    },
    "metadata": {}
}, {
    "output_type": "display_data",
    "data": {
        "text/html": "Processed 2 pages for database 'elt_framework', file 'elt_framework_log' on file 1."
    },
    "metadata": {}
}, {
    "output_type": "display_data",
    "data": {
        "text/html": "BACKUP DATABASE successfully processed 498 pages in 0.094 seconds (41.348 MB/sec)."
    },
    "metadata": {}
}, {
    "output_type": "display_data",
    "data": {
        "text/html": "10 percent processed."
    },
    "metadata": {}
}, {
    "output_type": "display_data",
    "data": {
        "text/html": "20 percent processed."
    },
    "metadata": {}
}, {
    "output_type": "display_data",
    "data": {
        "text/html": "30 percent processed."
    },
    "metadata": {}
}, {
    "output_type": "display_data",
    "data": {
        "text/html": "40 percent processed."
    },
    "metadata": {}
}, {
    "output_type": "display_data",
    "data": {
        "text/html": "50 percent processed."
    },
    "metadata": {}
}, {
    "output_type": "display_data",
    "data": {
        "text/html": "60 percent processed."
    },
    "metadata": {}
}, {
    "output_type": "display_data",
    "data": {
        "text/html": "70 percent processed."
    },
    "metadata": {}
}, {
    "output_type": "display_data",
    "data": {
        "text/html": "80 percent processed."
    },
    "metadata": {}
}, {
    "output_type": "display_data",
    "data": {
        "text/html": "90 percent processed."
    },
    "metadata": {}
}, {
    "output_type": "display_data",
    "data": {
        "text/html": "100 percent processed."
    },
    "metadata": {}
}, {
    "output_type": "display_data",
    "data": {
        "text/html": "Processed 904 pages for database 'bimlsnap_v2', file 'bimlsnap_v2' on file 1."
    },
    "metadata": {}
}, {
    "output_type": "display_data",
    "data": {
        "text/html": "Processed 2 pages for database 'bimlsnap_v2', file 'bimlsnap_v2_log' on file 1."
    },
    "metadata": {}
}, {
    "output_type": "display_data",
    "data": {
        "text/html": "BACKUP DATABASE successfully processed 906 pages in 0.092 seconds (76.893 MB/sec)."
    },
    "metadata": {}
}, {
    "output_type": "display_data",
    "data": {
        "text/html": "10 percent processed."
    },
    "metadata": {}
}, {
    "output_type": "display_data",
    "data": {
        "text/html": "20 percent processed."
    },
    "metadata": {}
}, {
    "output_type": "display_data",
    "data": {
        "text/html": "30 percent processed."
    },
    "metadata": {}
}, {
    "output_type": "display_data",
    "data": {
        "text/html": "40 percent processed."
    },
    "metadata": {}
}, {
    "output_type": "display_data",
    "data": {
        "text/html": "50 percent processed."
    },
    "metadata": {}
}, {
    "output_type": "display_data",
    "data": {
        "text/html": "60 percent processed."
    },
    "metadata": {}
}, {
    "output_type": "display_data",
    "data": {
        "text/html": "70 percent processed."
    },
    "metadata": {}
}, {
    "output_type": "display_data",
    "data": {
        "text/html": "80 percent processed."
    },
    "metadata": {}
}, {
    "output_type": "display_data",
    "data": {
        "text/html": "91 percent processed."
    },
    "metadata": {}
}, {
    "output_type": "display_data",
    "data": {
        "text/html": "100 percent processed."
    },
    "metadata": {}
}, {
    "output_type": "display_data",
    "data": {
        "text/html": "Processed 752 pages for database 'license', file 'license' on file 1."
    },
    "metadata": {}
}, {
    "output_type": "display_data",
    "data": {
        "text/html": "Processed 2 pages for database 'license', file 'license_log' on file 1."
    },
    "metadata": {}
}, {
    "output_type": "display_data",
    "data": {
        "text/html": "BACKUP DATABASE successfully processed 754 pages in 0.097 seconds (60.687 MB/sec)."
    },
    "metadata": {}
}, {
    "output_type": "display_data",
    "data": {
        "text/html": "10 percent processed."
    },
    "metadata": {}
}, {
    "output_type": "display_data",
    "data": {
        "text/html": "21 percent processed."
    },
    "metadata": {}
}, {
    "output_type": "display_data",
    "data": {
        "text/html": "30 percent processed."
    },
    "metadata": {}
}, {
    "output_type": "display_data",
    "data": {
        "text/html": "40 percent processed."
    },
    "metadata": {}
}, {
    "output_type": "display_data",
    "data": {
        "text/html": "51 percent processed."
    },
    "metadata": {}
}, {
    "output_type": "display_data",
    "data": {
        "text/html": "60 percent processed."
    },
    "metadata": {}
}, {
    "output_type": "display_data",
    "data": {
        "text/html": "70 percent processed."
    },
    "metadata": {}
}, {
    "output_type": "display_data",
    "data": {
        "text/html": "80 percent processed."
    },
    "metadata": {}
}, {
    "output_type": "display_data",
    "data": {
        "text/html": "90 percent processed."
    },
    "metadata": {}
}, {
    "output_type": "display_data",
    "data": {
        "text/html": "100 percent processed."
    },
    "metadata": {}
}, {
    "output_type": "display_data",
    "data": {
        "text/html": "Processed 544 pages for database 'ODS', file 'ODS_TEST' on file 1."
    },
    "metadata": {}
}, {
    "output_type": "display_data",
    "data": {
        "text/html": "Processed 2 pages for database 'ODS', file 'ODS_TEST_log' on file 1."
    },
    "metadata": {}
}, {
    "output_type": "display_data",
    "data": {
        "text/html": "BACKUP DATABASE successfully processed 546 pages in 0.069 seconds (61.764 MB/sec)."
    },
    "metadata": {}
}, {
    "output_type": "display_data",
    "data": {
        "text/html": "10 percent processed."
    },
    "metadata": {}
}, {
    "output_type": "display_data",
    "data": {
        "text/html": "20 percent processed."
    },
    "metadata": {}
}, {
    "output_type": "display_data",
    "data": {
        "text/html": "30 percent processed."
    },
    "metadata": {}
}, {
    "output_type": "display_data",
    "data": {
        "text/html": "40 percent processed."
    },
    "metadata": {}
}, {
    "output_type": "display_data",
    "data": {
        "text/html": "51 percent processed."
    },
    "metadata": {}
}, {
    "output_type": "display_data",
    "data": {
        "text/html": "60 percent processed."
    },
    "metadata": {}
}, {
    "output_type": "display_data",
    "data": {
        "text/html": "70 percent processed."
    },
    "metadata": {}
}, {
    "output_type": "display_data",
    "data": {
        "text/html": "80 percent processed."
    },
    "metadata": {}
}, {
    "output_type": "display_data",
    "data": {
        "text/html": "90 percent processed."
    },
    "metadata": {}
}, {
    "output_type": "display_data",
    "data": {
        "text/html": "100 percent processed."
    },
    "metadata": {}
}, {
    "output_type": "display_data",
    "data": {
        "text/html": "Processed 624 pages for database 'EDW', file 'EDW_Test' on file 1."
    },
    "metadata": {}
}, {
    "output_type": "display_data",
    "data": {
        "text/html": "Processed 2 pages for database 'EDW', file 'EDW_Test_log' on file 1."
    },
    "metadata": {}
}, {
    "output_type": "display_data",
    "data": {
        "text/html": "BACKUP DATABASE successfully processed 626 pages in 0.069 seconds (70.822 MB/sec)."
    },
    "metadata": {}
}, {
    "output_type": "display_data",
    "data": {
        "text/html": "10 percent processed."
    },
    "metadata": {}
}, {
    "output_type": "display_data",
    "data": {
        "text/html": "20 percent processed."
    },
    "metadata": {}
}, {
    "output_type": "display_data",
    "data": {
        "text/html": "31 percent processed."
    },
    "metadata": {}
}, {
    "output_type": "display_data",
    "data": {
        "text/html": "41 percent processed."
    },
    "metadata": {}
}, {
    "output_type": "display_data",
    "data": {
        "text/html": "51 percent processed."
    },
    "metadata": {}
}, {
    "output_type": "display_data",
    "data": {
        "text/html": "60 percent processed."
    },
    "metadata": {}
}, {
    "output_type": "display_data",
    "data": {
        "text/html": "70 percent processed."
    },
    "metadata": {}
}, {
    "output_type": "display_data",
    "data": {
        "text/html": "80 percent processed."
    },
    "metadata": {}
}, {
    "output_type": "display_data",
    "data": {
        "text/html": "91 percent processed."
    },
    "metadata": {}
}, {
    "output_type": "display_data",
    "data": {
        "text/html": "100 percent processed."
    },
    "metadata": {}
}, {
    "output_type": "display_data",
    "data": {
        "text/html": "Processed 400 pages for database 'LZ1_TEST', file 'LZ_TEST' on file 1."
    },
    "metadata": {}
}, {
    "output_type": "display_data",
    "data": {
        "text/html": "Processed 2 pages for database 'LZ1_TEST', file 'LZ_TEST_log' on file 1."
    },
    "metadata": {}
}, {
    "output_type": "display_data",
    "data": {
        "text/html": "BACKUP DATABASE successfully processed 402 pages in 0.062 seconds (50.592 MB/sec)."
    },
    "metadata": {}
}, {
    "output_type": "display_data",
    "data": {
        "text/html": "11 percent processed."
    },
    "metadata": {}
}, {
    "output_type": "display_data",
    "data": {
        "text/html": "21 percent processed."
    },
    "metadata": {}
}, {
    "output_type": "display_data",
    "data": {
        "text/html": "30 percent processed."
    },
    "metadata": {}
}, {
    "output_type": "display_data",
    "data": {
        "text/html": "40 percent processed."
    },
    "metadata": {}
}, {
    "output_type": "display_data",
    "data": {
        "text/html": "51 percent processed."
    },
    "metadata": {}
}, {
    "output_type": "display_data",
    "data": {
        "text/html": "61 percent processed."
    },
    "metadata": {}
}, {
    "output_type": "display_data",
    "data": {
        "text/html": "70 percent processed."
    },
    "metadata": {}
}, {
    "output_type": "display_data",
    "data": {
        "text/html": "80 percent processed."
    },
    "metadata": {}
}, {
    "output_type": "display_data",
    "data": {
        "text/html": "91 percent processed."
    },
    "metadata": {}
}, {
    "output_type": "display_data",
    "data": {
        "text/html": "100 percent processed."
    },
    "metadata": {}
}, {
    "output_type": "display_data",
    "data": {
        "text/html": "Processed 432 pages for database 'SSIS_Data_DEV', file 'SSIS_Data_DEV' on file 1."
    },
    "metadata": {}
}, {
    "output_type": "display_data",
    "data": {
        "text/html": "Processed 2 pages for database 'SSIS_Data_DEV', file 'SSIS_Data_DEV_log' on file 1."
    },
    "metadata": {}
}, {
    "output_type": "display_data",
    "data": {
        "text/html": "BACKUP DATABASE successfully processed 434 pages in 0.072 seconds (47.037 MB/sec)."
    },
    "metadata": {}
}, {
    "output_type": "display_data",
    "data": {
        "text/html": "10 percent processed."
    },
    "metadata": {}
}, {
    "output_type": "display_data",
    "data": {
        "text/html": "20 percent processed."
    },
    "metadata": {}
}, {
    "output_type": "display_data",
    "data": {
        "text/html": "30 percent processed."
    },
    "metadata": {}
}, {
    "output_type": "display_data",
    "data": {
        "text/html": "40 percent processed."
    },
    "metadata": {}
}, {
    "output_type": "display_data",
    "data": {
        "text/html": "50 percent processed."
    },
    "metadata": {}
}, {
    "output_type": "display_data",
    "data": {
        "text/html": "60 percent processed."
    },
    "metadata": {}
}, {
    "output_type": "display_data",
    "data": {
        "text/html": "70 percent processed."
    },
    "metadata": {}
}, {
    "output_type": "display_data",
    "data": {
        "text/html": "80 percent processed."
    },
    "metadata": {}
}, {
    "output_type": "display_data",
    "data": {
        "text/html": "90 percent processed."
    },
    "metadata": {}
}, {
    "output_type": "display_data",
    "data": {
        "text/html": "100 percent processed."
    },
    "metadata": {}
}, {
    "output_type": "display_data",
    "data": {
        "text/html": "Processed 2808 pages for database 'bimlsnap_v2_b', file 'bimlsnap_v2' on file 1."
    },
    "metadata": {}
}, {
    "output_type": "display_data",
    "data": {
        "text/html": "Processed 2 pages for database 'bimlsnap_v2_b', file 'bimlsnap_v2_log' on file 1."
    },
    "metadata": {}
}, {
    "output_type": "display_data",
    "data": {
        "text/html": "BACKUP DATABASE successfully processed 2810 pages in 0.185 seconds (118.644 MB/sec)."
    },
    "metadata": {}
}, {
    "output_type": "display_data",
    "data": {
        "text/html": "Total execution time: 00:00:03.204"
    },
    "metadata": {}
}
],
            "execution_count": null
        }
    ]
}