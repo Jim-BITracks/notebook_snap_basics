{
    "cells": [
        {
            "cell_type": "markdown",
            "metadata": {
                "azdata_cell_guid": "2d0fd733-e104-40b2-b21f-85cdac9f46ca"
            },
            "source": [
                "# Snowflake Metadata Refresh Setup"
            ]
        },
        {
            "cell_type": "markdown",
            "metadata": {},
            "source": [
                "## Import Python Libraries"
            ]
        },
        {
            "cell_type": "code",
            "execution_count": null,
            "metadata": {},
            "outputs": [],
            "source": [
                "import snowflake.connector\n",
                "import os\n",
                "import collections\n",
                "import pandas as pd\n",
                "import numpy as np\n",
                "import pandas as pd\n",
                "import pyarrow as pa\n",
                "# pd.set_option('max_columns', 40)"
            ]
        },
        {
            "cell_type": "markdown",
            "metadata": {},
            "source": [
                "## Set Snowflake Variables"
            ]
        },
        {
            "cell_type": "code",
            "execution_count": null,
            "metadata": {},
            "outputs": [],
            "source": [
                "# snowflake connection variables\n",
                "snowflake_user = 'JMILLER'\n",
                "snowflake_password = os.environ['BISNOWPASS']\n",
                "snowflake_account = 'eh69371.east-us-2.azure'\n",
                "snowflake_role = 'SYSADMIN'\n",
                "snowflake_warehouse = 'COMPUTE_WH'\n",
                "snowflake_database = 'UTIL_DB'\n",
                "snowflake_schema = 'METADATA'\n",
                "\n",
                "print('Using Notebook Variables:')\n",
                "print('snowflake_user: ' + snowflake_user)\n",
                "print('snowflake_password: ' + '***************')\n",
                "print('snowflake_account: ' + snowflake_account)\n",
                "print('snowflake_role: ' + snowflake_role)\n",
                "print('snowflake_warehouse: ' + snowflake_warehouse)\n",
                "print('snowflake_database: ' + snowflake_database)\n",
                "print('snowflake_schema: ' + snowflake_schema)"
            ]
        },
        {
            "cell_type": "markdown",
            "metadata": {},
            "source": [
                "## Set Notebook Variables"
            ]
        },
        {
            "cell_type": "code",
            "execution_count": null,
            "metadata": {},
            "outputs": [],
            "source": [
                "tgt_table_schema = 'METADATA'\n",
                "tgt_table_name = 'D_DATABASES'\n",
                "               \n",
                "print('Using Notebook Variables:')\n",
                "print('tgt_table_schema: ' + tgt_table_schema)\n",
                "print('tgt_table_name: ' + tgt_table_name)"
            ]
        },
        {
            "cell_type": "markdown",
            "metadata": {},
            "source": [
                "## Establish Snowflake Connection"
            ]
        },
        {
            "cell_type": "code",
            "execution_count": null,
            "metadata": {
                "azdata_cell_guid": "bdca4781-9494-4f61-940d-9c004032a582"
            },
            "outputs": [],
            "source": [
                "ctx = snowflake.connector.connect(\n",
                "    user = snowflake_user,\n",
                "    password = snowflake_password,\n",
                "    account = snowflake_account,\n",
                "    role = snowflake_role,\n",
                "    warehouse = snowflake_warehouse,\n",
                "    database = snowflake_database,\n",
                "    schema = snowflake_schema\n",
                "    )\n",
                "cur = ctx.cursor()\n",
                "\n",
                "# Return Client\n",
                "cur.execute(\"select CURRENT_CLIENT()\")\n",
                "one_row = cur.fetchone()\n",
                "print('Snowflake Connection Successful')\n",
                "print(one_row[0])"
            ]
        },
        {
            "cell_type": "markdown",
            "metadata": {},
            "source": [
                "## Get Table Mappings"
            ]
        },
        {
            "cell_type": "code",
            "execution_count": null,
            "metadata": {},
            "outputs": [],
            "source": [
                "sql = \"\"\"\n",
                "select SRC_TABLE_SCHEMA, SRC_TABLE_NAME, NATURAL_KEY, TYPE_2_COLUMNS, TYPE_0_COLUMNS, MAP_ADDED_COLUMNS_TAG\n",
                "  from METADATA.MAP_TABLE\n",
                " where TGT_TABLE_SCHEMA = '\"\"\" + tgt_table_schema + \"\"\"'\n",
                "   and TGT_TABLE_NAME = '\"\"\" + tgt_table_name + \"\"\"'\n",
                "\"\"\"\n",
                "print(sql)\n",
                "cur.execute(sql)\n",
                "one_row = cur.fetchone()\n",
                "src_table_schema = one_row[0]\n",
                "src_table_name = one_row[1]\n",
                "natural_key = one_row[2]\n",
                "type_2_columns = one_row[3]\n",
                "type_0_columns = one_row[4] or \"\"\n",
                "map_added_columns_tag = one_row[5]\n",
                "\n",
                "src_table_full = '\"' + src_table_schema + '\".\"' + src_table_name + '\"'\n",
                "tgt_table_full = '\"' + tgt_table_schema + '\".\"' + tgt_table_name + '\"'\n",
                "\n",
                "print('return values: ', src_table_schema, src_table_name, natural_key, type_2_columns, type_0_columns, map_added_columns_tag)\n",
                "print('source table: ', src_table_full, '\\ntarget table: ', tgt_table_full)"
            ]
        },
        {
            "cell_type": "markdown",
            "metadata": {},
            "source": [
                "## Get Type 1 Columns"
            ]
        },
        {
            "cell_type": "code",
            "execution_count": null,
            "metadata": {},
            "outputs": [],
            "source": [
                "sql = \"\"\"\n",
                "with exclude_columns as\n",
                "(\n",
                "      select VALUE as COLUMN_NAME from table(split_to_table('\"\"\" + natural_key + \"\"\"', ','))  \n",
                "union select VALUE as COLUMN_NAME from table(split_to_table('\"\"\" + type_2_columns + \"\"\"', ',')) \n",
                ")\n",
                ", all_columns as\n",
                "(\n",
                "select COLUMN_NAME\n",
                "  from INFORMATION_SCHEMA.COLUMNS i\n",
                " where i.TABLE_SCHEMA = '\"\"\" + src_table_schema + \"\"\"'\n",
                "   and i.TABLE_NAME = '\"\"\" + src_table_name + \"\"\"'\n",
                ")  \n",
                ", type_1_columns as\n",
                "(\n",
                "       select COLUMN_NAME from all_columns\n",
                "except\n",
                "       select COLUMN_NAME from exclude_columns\n",
                ")\n",
                "select listagg(COLUMN_NAME, ',')\n",
                "  from type_1_columns;\n",
                "\"\"\"\n",
                "print(sql)\n",
                "cur.execute(sql)\n",
                "one_row = cur.fetchone()\n",
                "type_1_columns = one_row[0]\n",
                "print('type_1_columns: ' + type_1_columns)"
            ]
        },
        {
            "cell_type": "markdown",
            "metadata": {},
            "source": [
                "## Get Names for Supplemental Dimension Columns"
            ]
        },
        {
            "cell_type": "code",
            "execution_count": null,
            "metadata": {},
            "outputs": [],
            "source": [
                "sql = \"\"\"\n",
                "with base as\n",
                "(\n",
                "select \"'row_is_current'\" AS row_is_current\n",
                "     , \"'row_effective_date'\" AS row_effective_date\n",
                "     , \"'row_expiration_date'\" AS row_expiration_date\n",
                "     , \"'row_insert_date'\" AS row_insert_date\n",
                "     , \"'row_update_date'\" AS row_update_date\n",
                "  from METADATA.MAP_ADDED_COLUMNS\n",
                "  pivot(max(TGT_COLUMN_NAME) for LOGICAL_COLUMN_NAME in ('row_is_current', 'row_effective_date', 'row_expiration_date', 'row_insert_date', 'row_update_date'))\n",
                " where MAP_ADDED_COLUMNS_TAG = '\"\"\" + map_added_columns_tag + \"\"\"'\n",
                " )\n",
                " select max(row_is_current) AS row_is_current\n",
                "      , max(row_effective_date) AS row_effective_date\n",
                "      , max(row_expiration_date) AS row_expiration_date\n",
                "      , max(row_insert_date) AS row_insert_date\n",
                "      , max(row_update_date) AS row_update_date\n",
                "   from base;\n",
                "\"\"\"\n",
                "\n",
                "print(sql)\n",
                "cur.execute(sql)\n",
                "one_row = cur.fetchone()\n",
                "row_is_current = one_row[0]\n",
                "row_effective_date = one_row[1]\n",
                "row_expiration_date = one_row[2]\n",
                "row_insert_date = one_row[3]\n",
                "row_update_date = one_row[4]\n",
                "\n",
                "print('row_is_current: ', row_is_current, '\\nrow_effective_date: ', row_effective_date, '\\nrow_expiration_date: ', row_expiration_date, '\\nrow_insert_date: ', row_insert_date, '\\nrow_update_date: ', row_update_date)"
            ]
        },
        {
            "cell_type": "markdown",
            "metadata": {},
            "source": [
                "## Get Natural Key (Select)"
            ]
        },
        {
            "cell_type": "code",
            "execution_count": null,
            "metadata": {},
            "outputs": [],
            "source": [
                "sql = \"\"\"\n",
                "select listagg('s.' || i.COLUMN_NAME , ', ') within group (order by i.ORDINAL_POSITION) \n",
                "  from INFORMATION_SCHEMA.COLUMNS i\n",
                "  join table(split_to_table('\"\"\" + natural_key + \"\"\"', ',')) as t\n",
                "    on t.VALUE = i.COLUMN_NAME\n",
                " where i.TABLE_SCHEMA = '\"\"\" + src_table_schema + \"\"\"'\n",
                "   and i.TABLE_NAME = '\"\"\" + src_table_name + \"\"\"';\n",
                "\"\"\"\n",
                "print(sql)\n",
                "cur.execute(sql)\n",
                "one_row = cur.fetchone()\n",
                "natural_key_select = one_row[0]\n",
                "print('natural_key_select: ' + natural_key_select)"
            ]
        },
        {
            "cell_type": "markdown",
            "metadata": {},
            "source": [
                "## Get Natural Key (Join)"
            ]
        },
        {
            "cell_type": "code",
            "execution_count": null,
            "metadata": {},
            "outputs": [],
            "source": [
                "sql = \"\"\"\n",
                "select listagg('t.\"' || i.COLUMN_NAME || '\" = s.\"' || i.COLUMN_NAME || '\"', ' AND ') within group (order by i.ORDINAL_POSITION) \n",
                "  from INFORMATION_SCHEMA.COLUMNS i\n",
                "  join table(split_to_table('\"\"\" + natural_key + \"\"\"', ',')) as t\n",
                "    on t.VALUE = i.COLUMN_NAME\n",
                " where i.TABLE_SCHEMA = '\"\"\" + src_table_schema + \"\"\"'\n",
                "   and i.TABLE_NAME = '\"\"\" + src_table_name + \"\"\"';\n",
                "\"\"\"\n",
                "print(sql)\n",
                "cur.execute(sql)\n",
                "one_row = cur.fetchone()\n",
                "natural_key_join = one_row[0]\n",
                "print('natural_key_join: ' + natural_key_join)"
            ]
        },
        {
            "cell_type": "markdown",
            "metadata": {},
            "source": [
                "## Join Variations\n"
            ]
        },
        {
            "cell_type": "code",
            "execution_count": null,
            "metadata": {},
            "outputs": [],
            "source": [
                "natural_key_join_t1 = natural_key_join.replace(\"t.\", \"t1.\")\n",
                "natural_key_join_t2 = natural_key_join.replace(\"t.\", \"t2.\")\n",
                "natural_key_join_nc = natural_key_join.replace(\"t.\", \"nc.\")\n",
                "natural_key_join_src = natural_key_join.replace(\"t.\", \"src.\")\n",
                "natural_key_join_src = natural_key_join_src.replace(\"s.\", \"tgt.\")\n",
                "\n",
                "print('natural_key_join_t1: ', natural_key_join_t1, '\\nnatural_key_join_t2: ', natural_key_join_t2, '\\nnatural_key_join_nc: ', natural_key_join_nc,  '\\nnatural_key_join_src: ', natural_key_join_src)"
            ]
        },
        {
            "cell_type": "markdown",
            "metadata": {},
            "source": [
                "## Type 1 Change Check"
            ]
        },
        {
            "cell_type": "code",
            "execution_count": null,
            "metadata": {},
            "outputs": [],
            "source": [
                "sql = \"\"\"\n",
                "select listagg('NVL(t.' || column_name || '::varchar,''-99999'') != NVL(s.' || column_name || '::varchar,''-99999'')', ' OR ') within group (order by i.ORDINAL_POSITION) \n",
                "  from INFORMATION_SCHEMA.COLUMNS i\n",
                "  join table(split_to_table('\"\"\" + type_1_columns + \"\"\"', ',')) as t\n",
                "    on t.VALUE = i.COLUMN_NAME\n",
                " where i.TABLE_SCHEMA = '\"\"\" + src_table_schema + \"\"\"'\n",
                "   and i.TABLE_NAME = '\"\"\" + src_table_name + \"\"\"';\n",
                "\"\"\"\n",
                "print(sql)\n",
                "cur.execute(sql)\n",
                "one_row = cur.fetchone()\n",
                "type1_change_check = one_row[0]\n",
                "print('type1_change_check: ' + type1_change_check)"
            ]
        },
        {
            "cell_type": "markdown",
            "metadata": {},
            "source": [
                "## Type 2 Change Check"
            ]
        },
        {
            "cell_type": "code",
            "execution_count": null,
            "metadata": {},
            "outputs": [],
            "source": [
                "sql = \"\"\"\n",
                "select listagg('NVL(t.' || column_name || '::varchar,''-99999'') != NVL(s.' || column_name || '::varchar,''-99999'')', ' OR ') within group (order by i.ORDINAL_POSITION) \n",
                "  from INFORMATION_SCHEMA.COLUMNS i\n",
                "  join table(split_to_table('\"\"\" + type_2_columns + \"\"\"', ',')) as t\n",
                "    on t.VALUE = i.COLUMN_NAME\n",
                " where i.TABLE_SCHEMA = '\"\"\" + src_table_schema + \"\"\"'\n",
                "   and i.TABLE_NAME = '\"\"\" + src_table_name + \"\"\"';\n",
                "\"\"\"\n",
                "print(sql)\n",
                "cur.execute(sql)\n",
                "one_row = cur.fetchone()\n",
                "type2_change_check = one_row[0]\n",
                "print('type2_change_check: ' + type2_change_check)"
            ]
        },
        {
            "cell_type": "markdown",
            "metadata": {},
            "source": [
                "## Staging Columns"
            ]
        },
        {
            "cell_type": "code",
            "execution_count": null,
            "metadata": {},
            "outputs": [],
            "source": [
                "sql = \"\"\"\n",
                "with base as\n",
                "(\n",
                "select DISTINCT TOP 1000 c.ORDINAL_POSITION\n",
                "     , c.COLUMN_NAME\n",
                "from INFORMATION_SCHEMA.COLUMNS c\n",
                "where c.TABLE_SCHEMA = '\"\"\" + src_table_schema + \"\"\"'\n",
                "and c.TABLE_NAME = '\"\"\" + src_table_name + \"\"\"'\n",
                "ORDER BY c.ORDINAL_POSITION\n",
                ")\n",
                "SELECT TRIM(LISTAGG(' s.' || COLUMN_NAME || '' || ', '), ', ')\n",
                "     , TRIM(LISTAGG(' ' || column_name || '' || ', '), ', ')\n",
                "     , TRIM(LISTAGG(' SRC.' || column_name || '' || ', '), ', ')\n",
                "  FROM base;\n",
                "\"\"\"\n",
                "print(sql)\n",
                "cur.execute(sql)\n",
                "one_row = cur.fetchone()\n",
                "staging_columns = one_row[0]\n",
                "merge_insert_list = one_row[1]\n",
                "merge_output_list = one_row[2]\n",
                "\n",
                "print('staging_columns: ', staging_columns, '\\nmerge_insert_list: ', merge_insert_list, '\\nmerge_output_list: ', merge_output_list)\n"
            ]
        },
        {
            "cell_type": "markdown",
            "metadata": {},
            "source": [
                "## Merge Update Set..."
            ]
        },
        {
            "cell_type": "code",
            "execution_count": null,
            "metadata": {},
            "outputs": [],
            "source": [
                "sql = \"\"\"\n",
                "WITH base AS\n",
                "(\n",
                "select distinct top 1000 c.ORDINAL_POSITION\n",
                "\t   , c.COLUMN_NAME\n",
                "  from INFORMATION_SCHEMA.COLUMNS c\n",
                " where c.TABLE_SCHEMA = '\"\"\" + src_table_schema + \"\"\"'\n",
                "   and c.TABLE_NAME = '\"\"\" + src_table_name + \"\"\"'\n",
                "   and c.COLUMN_NAME NOT IN ('\"\"\" + type_0_columns + \"\"\"', ',')\n",
                "   and c.COLUMN_NAME NOT IN ('\"\"\" + natural_key + \"\"\"', ',')\n",
                " order by c.ORDINAL_POSITION\n",
                ")\n",
                "SELECT TRIM(LISTAGG(' ' || column_name || ' = CASE ChangeType WHEN ''Type 1'' THEN SRC.' || column_name || ' ELSE TGT.' || column_name || ' END' || ' , '))\n",
                "FROM base;\n",
                "\"\"\"\n",
                "print(sql)\n",
                "cur.execute(sql)\n",
                "one_row = cur.fetchone()\n",
                "merge_update_set = one_row[0]\n",
                "print('merge_update_set: ' + merge_update_set)"
            ]
        },
        {
            "cell_type": "markdown",
            "metadata": {},
            "source": [
                "## Create Merge changes table"
            ]
        },
        {
            "cell_type": "code",
            "execution_count": null,
            "metadata": {},
            "outputs": [],
            "source": [
                "sql = \"\"\"\n",
                "CREATE OR REPLACE TEMPORARY TABLE MergeChanges AS\n",
                "        SELECT CAST('' AS NVARCHAR(10)) AS merge_action_change_row_type\n",
                "             , CAST('' AS NVARCHAR(10)) AS merge_action_change_dim_type\n",
                "             , *\n",
                "          FROM \"\"\" + src_table_full + \"\"\"\n",
                "         WHERE 1=2;\n",
                "\"\"\"\n",
                "print(sql)\n",
                "cur.execute(sql)\n",
                "one_row = cur.fetchone()\n",
                "print(one_row[0])"
            ]
        },
        {
            "cell_type": "markdown",
            "metadata": {},
            "source": [
                "## Create Staging Table"
            ]
        },
        {
            "cell_type": "code",
            "execution_count": null,
            "metadata": {},
            "outputs": [],
            "source": [
                "sql = \"\"\"\n",
                "// determine type 2 changes (intra-day changes are treated as Type 1)\n",
                "\tCREATE OR REPLACE TEMPORARY TABLE staging AS\n",
                "    WITH type2 AS\n",
                "            (\n",
                "            SELECT \"\"\" + natural_key_select + \"\"\"\n",
                "                 , CASE WHEN CAST(t.\"\"\" + row_update_date + \"\"\" AS DATE) = CAST(GETDATE() AS DATE)\n",
                "                        THEN 'type1'\n",
                "                        ELSE 'type2'\n",
                "                   END AS Change\n",
                "              FROM \"\"\" + src_table_full + \"\"\" s\n",
                "              JOIN \"\"\" + tgt_table_full + \"\"\" t\n",
                "                ON \"\"\" + natural_key_join + \"\"\"\n",
                "             WHERE t.\"\"\" + row_is_current + \"\"\" = 'Y'\n",
                "               AND (\"\"\" + type2_change_check + \"\"\")\n",
                "            )\n",
                "// determine Type 1 changes\n",
                "      , type1 AS\n",
                "          (\n",
                "          SELECT \"\"\" + natural_key_select + \"\"\"\n",
                "               , 'type1' AS Change\n",
                "            FROM \"\"\" + src_table_full + \"\"\" s\n",
                "            JOIN \"\"\" + tgt_table_full + \"\"\" t\n",
                "              ON \"\"\" + natural_key_join + \"\"\"\n",
                "           WHERE t.\"\"\" + row_is_current + \"\"\" = 'Y'\n",
                "             AND (\"\"\" + type1_change_check + \"\"\")\n",
                "          )\n",
                "// determine matches with no changes (all rows not caught above will be treated as type 0 - ignored in merge statement below)\n",
                "\t\t, nochg AS\n",
                "\t\t(\n",
                "\t\tSELECT \"\"\" + natural_key_select + \"\"\"\n",
                "   \t\t\t , 'nochg' AS Change\n",
                "\t\t\tFROM \"\"\" + src_table_full + \"\"\" s\n",
                "            JOIN \"\"\" + tgt_table_full + \"\"\" t\n",
                "              ON \"\"\" + natural_key_join + \"\"\"\n",
                "           WHERE t.\"\"\" + row_is_current + \"\"\" = 'Y'\n",
                "\t\t)\n",
                "// combine all the above CTEs and add no-matches from source\n",
                "\t\tSELECT \"\"\" + staging_columns + \"\"\"\n",
                "\t\t\t , CASE WHEN t2.Change = 'type2' THEN 'Type 2'\n",
                "\t\t\t\t\tWHEN t2.Change = 'type1' THEN 'Type 1'\n",
                "\t\t\t\t\tWHEN t1.Change = 'type1' THEN 'Type 1'\n",
                "\t\t\t\t\tWHEN nc.Change = 'nochg' THEN 'No Change'\n",
                "\t\t\t\t\tELSE 'Insert'\n",
                "\t\t\t   END AS ChangeType\n",
                "\t\t  FROM \"\"\" + src_table_full + \"\"\" s\n",
                "\t\t  LEFT JOIN \"\"\" + tgt_table_full + \"\"\" t\n",
                "\t\t    ON \"\"\" + natural_key_join + \"\"\"\n",
                "\t\t  LEFT JOIN type1 t1\n",
                "\t\t    ON \"\"\" + natural_key_join_t1 + \"\"\"\n",
                "\t\t  LEFT JOIN type2 t2\n",
                "\t\t    ON \"\"\" + natural_key_join_t2 + \"\"\"\n",
                "\t\t  LEFT JOIN nochg nc\n",
                "\t\t    ON \"\"\" + natural_key_join_nc + \"\"\"\n",
                "\t     WHERE NVL(t.\"\"\" + row_is_current + \"\"\", 'Y') = 'Y';\n",
                "\"\"\"\n",
                "print(sql)\n",
                "cur.execute(sql)\n",
                "one_row = cur.fetchone()\n",
                "print(one_row[0])"
            ]
        },
        {
            "cell_type": "markdown",
            "metadata": {},
            "source": [
                "## Debug (staging table)"
            ]
        },
        {
            "cell_type": "code",
            "execution_count": null,
            "metadata": {},
            "outputs": [],
            "source": [
                "#sql = \"select * from staging\"\n",
                "#cur.execute(sql)\n",
                "#df = cur.fetch_pandas_all()\n",
                "#df"
            ]
        },
        {
            "cell_type": "markdown",
            "metadata": {},
            "source": [
                "## Merge Statement"
            ]
        },
        {
            "cell_type": "code",
            "execution_count": null,
            "metadata": {},
            "outputs": [],
            "source": [
                "sql = \"\"\"\n",
                "MERGE INTO \"\"\" + tgt_table_full + \"\"\" AS TGT\n",
                "USING ( SELECT * FROM staging ) AS SRC\n",
                "   ON \"\"\" + natural_key_join_src + \"\"\"\n",
                "  AND SRC.ChangeType != 'No Change'\n",
                " WHEN MATCHED AND TGT.\"\"\" + row_is_current + \"\"\" = 'Y' THEN\n",
                "// Update dimension record, and flag as no longer active if type 2\n",
                "UPDATE SET \"\"\" + merge_update_set + \"\"\"\n",
                "\t\t   \"\"\" + row_is_current + \"\"\" = CASE ChangeType WHEN 'Type 1' THEN 'Y' ELSE 'N' END\n",
                "\t\t , \"\"\" + row_expiration_date + \"\"\" = CASE ChangeType WHEN 'Type 1' THEN TGT.\"\"\" + row_expiration_date + \"\"\" ELSE CAST(DATEADD('day',-1,GETDATE()) AS DATE) END\n",
                "\t\t , \"\"\" + row_update_date + \"\"\" = GETDATE()\n",
                "// New records inserted (not used by type 2)\n",
                "WHEN NOT MATCHED AND SRC.ChangeType != 'No Change' THEN \n",
                "INSERT ( \n",
                "\"\"\" + merge_insert_list + \"\"\"\n",
                "\t\t, \"\"\" + row_is_current + \"\"\"\n",
                "\t\t, \"\"\" + row_effective_date + \"\"\"\n",
                "\t\t, \"\"\" + row_expiration_date + \"\"\"\n",
                "\t\t, \"\"\" + row_insert_date + \"\"\"\n",
                "\t\t, \"\"\" + row_update_date + \"\"\"\n",
                "\t\t)\n",
                "VALUES (\n",
                "\"\"\" + merge_insert_list + \"\"\"\n",
                "\t\t, 'Y'\n",
                "\t\t, CAST('01/01/1900' AS DATE) \n",
                "\t\t, CAST('12/31/9999' AS DATE) \n",
                "\t\t, CAST(GETDATE() AS DATE)\n",
                "\t\t, CAST(GETDATE() AS DATE)\n",
                "\t\t);\n",
                "\"\"\"\n",
                "print(sql)\n",
                "cur.execute(sql)\n",
                "one_row = cur.fetchone()\n",
                "print('rows inserted: ', one_row[0])\n",
                "print('rows updated: ', one_row[1])\n"
            ]
        },
        {
            "cell_type": "markdown",
            "metadata": {},
            "source": [
                "## Outer Merge Insert (used only for type 2 new rows)"
            ]
        },
        {
            "cell_type": "code",
            "execution_count": null,
            "metadata": {},
            "outputs": [],
            "source": [
                "sql = \"\"\"\n",
                "INSERT INTO \"\"\" + tgt_table_full + \"\"\" ( \"\"\" + merge_insert_list + \"\"\"\n",
                "    , \"\"\" + row_is_current + \"\"\"\n",
                "    , \"\"\" + row_effective_date + \"\"\"\n",
                "    , \"\"\" + row_expiration_date + \"\"\"\n",
                "    , \"\"\" + row_insert_date + \"\"\"\n",
                "    , \"\"\" + row_update_date + \"\"\"\n",
                ")\n",
                "SELECT \"\"\" + merge_insert_list + \"\"\"\n",
                ", 'Y'\n",
                ", CAST(GETDATE() AS date)\n",
                ", CAST('12/31/9999' AS date)\n",
                ", GETDATE()\n",
                ", GETDATE()\n",
                "FROM staging MRG\n",
                "WHERE MRG.ChangeType = 'Type 2';\n",
                "\"\"\"\n",
                "print(sql)\n",
                "cur.execute(sql)\n",
                "one_row = cur.fetchone()\n",
                "print('rows inserted: ', one_row[0])"
            ]
        }
    ],
    "metadata": {
        "extensions": {
            "azuredatastudio": {
                "version": 1,
                "views": []
            }
        },
        "interpreter": {
            "hash": "68b562a21dc5ced35168949e69bfaf76617e2ef0907fc3cdcc3e5df152ab9e5a"
        },
        "kernelspec": {
            "display_name": "Python 3.9.6 64-bit",
            "name": "python3"
        },
        "language_info": {
            "codemirror_mode": {
                "name": "ipython",
                "version": 3
            },
            "file_extension": ".py",
            "mimetype": "text/x-python",
            "name": "python",
            "nbconvert_exporter": "python",
            "pygments_lexer": "ipython3",
            "version": "3.9.6"
        }
    },
    "nbformat": 4,
    "nbformat_minor": 2
}
