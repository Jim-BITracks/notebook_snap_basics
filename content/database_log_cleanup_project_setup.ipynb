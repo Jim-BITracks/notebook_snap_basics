{
    "metadata": {
        "kernelspec": {
            "name": "SQL",
            "display_name": "SQL",
            "language": "sql"
        },
        "language_info": {
            "name": "sql",
            "version": ""
        }
    },
    "nbformat_minor": 2,
    "nbformat": 4,
    "cells": [
        {
            "cell_type": "markdown",
            "source": [
                "# Database Log Clean-up (Project Setup)\r\n",
                "\r\n",
                "This notebook contains the SQL Set-up script for the eltSnap project \"Database Log Clean-up\"\r\n",
                "\r\n",
                "This script needs to be run **after** running the notebook called **Database Log Clean-up (Project)**\r\n",
                "\r\n",
                "> To run this SQL script, first connect to your SQL Server instance of **eltsnap_v2**"
            ],
            "metadata": {
                "azdata_cell_guid": "79fec498-f45d-45ee-bfdb-1bc73a11e4c4"
            }
        },
        {
            "cell_type": "markdown",
            "source": [
                "## Import the \"Notebook Based\" Project into eltSnap\r\n",
                "\r\n",
                "This will refresh the cooresponding logic used by eltSnap based on the _Ingested_ Notebook code\r\n",
                "\r\n",
                "> Before running this _Import_ step, be sure to first _Ingest_ the notebooks. See: [Ingest ADS Notebook Files (Interactive)](ingest_ads_notebook_files_interactive.ipynb)"
            ],
            "metadata": {
                "azdata_cell_guid": "baa80723-a33c-4798-9439-90bc1737ce3c"
            }
        },
        {
            "cell_type": "code",
            "source": [
                "EXEC [ads].[Import Project from ADS] 'Database Log Clean-up', 'notebook_snap_basics\\content\\database_log_cleanup_project';"
            ],
            "metadata": {
                "azdata_cell_guid": "aa8d878a-fa34-4934-ac4a-fa3ddf1d6a18"
            },
            "outputs": [],
            "execution_count": null
        }
    ]
}