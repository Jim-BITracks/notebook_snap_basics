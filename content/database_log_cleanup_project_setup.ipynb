{
    "metadata": {
        "kernelspec": {
            "name": "SQL",
            "display_name": "SQL",
            "language": "sql"
        },
        "language_info": {
            "name": "sql",
            "version": ""
        }
    },
    "nbformat_minor": 2,
    "nbformat": 4,
    "cells": [
        {
            "cell_type": "markdown",
            "source": [
                "# Database Log Clean-up (Project Setup)\r\n",
                "\r\n",
                "This notebook contains the SQL Set-up script for the eltSnap project \"Database Log Clean-up\"\r\n",
                "\r\n",
                "This script needs to be run **after** running the notebook called **Database Log Clean-up (Project)**\r\n",
                "\r\n",
                "> To run this SQL script, first connect to your SQL Server instance of **eltsnap_v2**"
            ],
            "metadata": {
                "azdata_cell_guid": "79fec498-f45d-45ee-bfdb-1bc73a11e4c4"
            }
        },
        {
            "cell_type": "markdown",
            "source": [
                "## Import the \"Notebook Based\" Project into eltSnap\r\n",
                "\r\n",
                "This will refresh the cooresponding logic used by eltSnap based on the _Ingested_ Notebook code"
            ],
            "metadata": {
                "azdata_cell_guid": "baa80723-a33c-4798-9439-90bc1737ce3c"
            }
        },
        {
            "cell_type": "code",
            "source": [
                "EXEC [ads].[Import Project from ADS] 'Database Log Clean-up', 'notebook_snap_basics\\content\\database_log_cleanup_project.ipynb';"
            ],
            "metadata": {
                "azdata_cell_guid": "aa8d878a-fa34-4934-ac4a-fa3ddf1d6a18"
            },
            "outputs": [
                {
                    "output_type": "display_data",
                    "data": {
                        "text/html": "Created/Updated: elt framework log delete"
                    },
                    "metadata": {}
                },
                {
                    "output_type": "display_data",
                    "data": {
                        "text/html": "Created/Updated: eltsnap log delete"
                    },
                    "metadata": {}
                },
                {
                    "output_type": "display_data",
                    "data": {
                        "text/html": "Total execution time: 00:00:00.181"
                    },
                    "metadata": {}
                },
                {
                    "output_type": "execute_result",
                    "execution_count": 2,
                    "data": {
                        "application/vnd.dataresource+json": {
                            "schema": {
                                "fields": [
                                    {
                                        "name": "computer_name"
                                    },
                                    {
                                        "name": "full_name"
                                    },
                                    {
                                        "name": "cell_name"
                                    },
                                    {
                                        "name": "sequence_number"
                                    },
                                    {
                                        "name": "source_node"
                                    },
                                    {
                                        "name": "pattern"
                                    },
                                    {
                                        "name": "src_connection_name"
                                    },
                                    {
                                        "name": "dst_connection_name"
                                    },
                                    {
                                        "name": "dst_schema"
                                    },
                                    {
                                        "name": "dst_table"
                                    },
                                    {
                                        "name": "truncate_dst"
                                    },
                                    {
                                        "name": "identity_insert"
                                    },
                                    {
                                        "name": "batch_size"
                                    },
                                    {
                                        "name": "source"
                                    },
                                    {
                                        "name": "executable"
                                    },
                                    {
                                        "name": "working_directory"
                                    }
                                ]
                            },
                            "data": [
                                {
                                    "0": "NULL",
                                    "1": "notebook_snap_basics\\content\\database_log_cleanup_project.ipynb",
                                    "2": "elt framework log delete",
                                    "3": "4",
                                    "4": "$.cells.4",
                                    "5": "Execute SQL",
                                    "6": "ELT_Framework",
                                    "7": "NULL",
                                    "8": "NULL",
                                    "9": "NULL",
                                    "10": "NULL",
                                    "11": "NULL",
                                    "12": "NULL",
                                    "13": "-- for elt_framework \r\nEXEC [dbo].[Log Delete]; \r\nSELECT 0 as status_code;",
                                    "14": "NULL",
                                    "15": "NULL"
                                }
                            ]
                        },
                        "text/html": "<table><tr><th>computer_name</th><th>full_name</th><th>cell_name</th><th>sequence_number</th><th>source_node</th><th>pattern</th><th>src_connection_name</th><th>dst_connection_name</th><th>dst_schema</th><th>dst_table</th><th>truncate_dst</th><th>identity_insert</th><th>batch_size</th><th>source</th><th>executable</th><th>working_directory</th></tr><tr><td>NULL</td><td>notebook_snap_basics\\content\\database_log_cleanup_project.ipynb</td><td>elt framework log delete</td><td>4</td><td>$.cells.4</td><td>Execute SQL</td><td>ELT_Framework</td><td>NULL</td><td>NULL</td><td>NULL</td><td>NULL</td><td>NULL</td><td>NULL</td><td>-- for elt_framework \r\nEXEC [dbo].[Log Delete]; \r\nSELECT 0 as status_code;</td><td>NULL</td><td>NULL</td></tr></table>"
                    },
                    "metadata": {}
                },
                {
                    "output_type": "execute_result",
                    "execution_count": 2,
                    "data": {
                        "application/vnd.dataresource+json": {
                            "schema": {
                                "fields": [
                                    {
                                        "name": "computer_name"
                                    },
                                    {
                                        "name": "full_name"
                                    },
                                    {
                                        "name": "cell_name"
                                    },
                                    {
                                        "name": "sequence_number"
                                    },
                                    {
                                        "name": "source_node"
                                    },
                                    {
                                        "name": "pattern"
                                    },
                                    {
                                        "name": "src_connection_name"
                                    },
                                    {
                                        "name": "dst_connection_name"
                                    },
                                    {
                                        "name": "dst_schema"
                                    },
                                    {
                                        "name": "dst_table"
                                    },
                                    {
                                        "name": "truncate_dst"
                                    },
                                    {
                                        "name": "identity_insert"
                                    },
                                    {
                                        "name": "batch_size"
                                    },
                                    {
                                        "name": "source"
                                    },
                                    {
                                        "name": "executable"
                                    },
                                    {
                                        "name": "working_directory"
                                    }
                                ]
                            },
                            "data": [
                                {
                                    "0": "NULL",
                                    "1": "notebook_snap_basics\\content\\database_log_cleanup_project.ipynb",
                                    "2": "eltsnap log delete",
                                    "3": "2",
                                    "4": "$.cells.2",
                                    "5": "Execute SQL",
                                    "6": "eltsnap_v2",
                                    "7": "NULL",
                                    "8": "NULL",
                                    "9": "NULL",
                                    "10": "NULL",
                                    "11": "NULL",
                                    "12": "NULL",
                                    "13": "-- for eltsnap_v2 \r\nEXEC [dbo].[Log Delete]; \r\nSELECT 0 as status_code;",
                                    "14": "NULL",
                                    "15": "NULL"
                                }
                            ]
                        },
                        "text/html": "<table><tr><th>computer_name</th><th>full_name</th><th>cell_name</th><th>sequence_number</th><th>source_node</th><th>pattern</th><th>src_connection_name</th><th>dst_connection_name</th><th>dst_schema</th><th>dst_table</th><th>truncate_dst</th><th>identity_insert</th><th>batch_size</th><th>source</th><th>executable</th><th>working_directory</th></tr><tr><td>NULL</td><td>notebook_snap_basics\\content\\database_log_cleanup_project.ipynb</td><td>eltsnap log delete</td><td>2</td><td>$.cells.2</td><td>Execute SQL</td><td>eltsnap_v2</td><td>NULL</td><td>NULL</td><td>NULL</td><td>NULL</td><td>NULL</td><td>NULL</td><td>-- for eltsnap_v2 \r\nEXEC [dbo].[Log Delete]; \r\nSELECT 0 as status_code;</td><td>NULL</td><td>NULL</td></tr></table>"
                    },
                    "metadata": {}
                }
            ],
            "execution_count": 1
        }
    ]
}