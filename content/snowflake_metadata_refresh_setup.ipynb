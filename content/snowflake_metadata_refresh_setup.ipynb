{
    "metadata": {
        "kernelspec": {
            "name": "python3",
            "display_name": "Python 3.9.6 64-bit"
        },
        "language_info": {
            "name": "python",
            "version": "3.9.6",
            "mimetype": "text/x-python",
            "codemirror_mode": {
                "name": "ipython",
                "version": 3
            },
            "pygments_lexer": "ipython3",
            "nbconvert_exporter": "python",
            "file_extension": ".py"
        },
        "extensions": {
            "azuredatastudio": {
                "version": 1,
                "views": []
            }
        },
        "interpreter": {
            "hash": "63fd5069d213b44bf678585dea6b12cceca9941eaf7f819626cde1f2670de90d"
        }
    },
    "nbformat_minor": 2,
    "nbformat": 4,
    "cells": [
        {
            "cell_type": "markdown",
            "source": [
                "# Snowflake Metadata Refresh Setup"
            ],
            "metadata": {
                "azdata_cell_guid": "2d0fd733-e104-40b2-b21f-85cdac9f46ca"
            }
        },
        {
            "cell_type": "markdown",
            "source": [
                "## Import Python Libraries"
            ],
            "metadata": {}
        },
        {
            "cell_type": "code",
            "execution_count": null,
            "source": [
                "import snowflake.connector\r\n",
                "import os\r\n",
                "import pandas as pd\r\n",
                "import numpy as np\r\n",
                "import pandas as pd\r\n",
                "import pyarrow as pa\r\n",
                "# pd.set_option('max_columns', 40)"
            ],
            "outputs": [],
            "metadata": {}
        },
        {
            "cell_type": "markdown",
            "source": [
                "## Set Snowflake Variables"
            ],
            "metadata": {}
        },
        {
            "cell_type": "code",
            "execution_count": null,
            "source": [
                "# snowflake connection variables\r\n",
                "snowflake_user = 'JMILLER'\r\n",
                "snowflake_password = os.environ['BISNOWPASS']\r\n",
                "snowflake_account = 'eh69371.east-us-2.azure'\r\n",
                "snowflake_role = 'SYSADMIN'\r\n",
                "snowflake_warehouse = 'COMPUTE_WH'\r\n",
                "\r\n",
                "# database and schema for metadata objects\r\n",
                "snowflake_database = 'UTIL_DB'\r\n",
                "snowflake_schema = 'METADATA'\r\n",
                "\r\n",
                "print('Using Notebook Variables:')\r\n",
                "print('snowflake_user: ' + snowflake_user)\r\n",
                "print('snowflake_password: ' + '***************')\r\n",
                "print('snowflake_account: ' + snowflake_account)\r\n",
                "print('snowflake_role: ' + snowflake_role)\r\n",
                "print('snowflake_warehouse: ' + snowflake_warehouse)\r\n",
                "print('snowflake_database: ' + snowflake_database)\r\n",
                "print('snowflake_schema: ' + snowflake_schema)"
            ],
            "outputs": [],
            "metadata": {}
        },
        {
            "cell_type": "markdown",
            "source": [
                "## Establish Snowflake Connection"
            ],
            "metadata": {}
        },
        {
            "cell_type": "code",
            "execution_count": null,
            "source": [
                "ctx = snowflake.connector.connect(\r\n",
                "    user = snowflake_user,\r\n",
                "    password = snowflake_password,\r\n",
                "    account = snowflake_account,\r\n",
                "    role = snowflake_role,\r\n",
                "    warehouse = snowflake_warehouse\r\n",
                "    )\r\n",
                "cur = ctx.cursor()\r\n",
                "\r\n",
                "# Return Client\r\n",
                "cur.execute(\"select CURRENT_CLIENT()\")\r\n",
                "one_row = cur.fetchone()\r\n",
                "print('Snowflake Connection Successful')\r\n",
                "print(one_row[0])"
            ],
            "outputs": [],
            "metadata": {
                "azdata_cell_guid": "bdca4781-9494-4f61-940d-9c004032a582"
            }
        },
        {
            "cell_type": "markdown",
            "source": [
                "## Create Database and Schema if they do not exist"
            ],
            "metadata": {}
        },
        {
            "cell_type": "code",
            "execution_count": null,
            "source": [
                "sql = \"create database if not exists \" + snowflake_database\r\n",
                "print(sql)\r\n",
                "cur.execute(sql)\r\n",
                "\r\n",
                "sql = \"create schema if not exists \" + snowflake_database + \".\" + snowflake_schema\r\n",
                "print(sql)\r\n",
                "cur.execute(sql)"
            ],
            "outputs": [],
            "metadata": {}
        },
        {
            "cell_type": "markdown",
            "source": [
                "## Set Snowflake Database and Schema Context"
            ],
            "metadata": {}
        },
        {
            "cell_type": "code",
            "execution_count": null,
            "source": [
                "sql = \"use database \" + snowflake_database + \";\"\r\n",
                "print(sql)\r\n",
                "cur.execute(sql)\r\n",
                "\r\n",
                "sql = \"use schema \" + snowflake_schema + \";\"\r\n",
                "print(sql)\r\n",
                "cur.execute(sql)"
            ],
            "outputs": [],
            "metadata": {}
        },
        {
            "cell_type": "markdown",
            "source": [
                "## Create added column names for Dimensions table if needed"
            ],
            "metadata": {}
        },
        {
            "cell_type": "code",
            "execution_count": null,
            "source": [
                "sql = \"\"\"\r\n",
                "    CREATE TABLE IF NOT EXISTS ADDED_DIM_COLUMN_NAMES (\r\n",
                "        ADDED_DIM_COLUMN_NAMES_TAG VARCHAR(255) NOT NULL,\r\n",
                "        ROW_IS_CURRENT VARCHAR(255) NOT NULL,\r\n",
                "        ROW_EFFECTIVE_DATE VARCHAR(255) NOT NULL,\r\n",
                "        ROW_EXPIRATION_DATE VARCHAR(255) NOT NULL,\r\n",
                "        ROW_INSERT_DATE VARCHAR(255) NOT NULL,\r\n",
                "        ROW_UPDATE_DATE VARCHAR(255) NOT NULL)\r\n",
                "\"\"\"\r\n",
                "cur.execute(sql)\r\n",
                "#df = cur.fetch_pandas_all()\r\n",
                "#df"
            ],
            "outputs": [],
            "metadata": {}
        },
        {
            "cell_type": "markdown",
            "source": [
                "## Insert row for ADDED_DIM_COLUMN_NAMES table if needed"
            ],
            "metadata": {}
        },
        {
            "cell_type": "code",
            "execution_count": null,
            "source": [
                "sql = \"\"\"\r\n",
                "\tINSERT INTO ADDED_DIM_COLUMN_NAMES\r\n",
                "\tWITH base (ADDED_DIM_COLUMN_NAMES_TAG,ROW_IS_CURRENT,ROW_EFFECTIVE_DATE,ROW_EXPIRATION_DATE,ROW_INSERT_DATE,ROW_UPDATE_DATE) AS \r\n",
                "\t(\r\n",
                "\tSELECT 'standard_lc','row_is_current','row_effective_date','row_expiration_date','row_insert_date','row_update_date'\r\n",
                "\tUNION ALL\r\n",
                "\tSELECT 'standard_uc','ROW_IS_CURRENT','ROW_EFFECTIVE_DATE','ROW_EXPIRATION_DATE','ROW_INSERT_DATE','ROW_UPDATE_DATE'\r\n",
                "\t)\r\n",
                "\tSELECT b.ADDED_DIM_COLUMN_NAMES_TAG,\r\n",
                "\t\t   b.ROW_IS_CURRENT,\r\n",
                "\t\t   b.ROW_EFFECTIVE_DATE,\r\n",
                "\t\t   b.ROW_EXPIRATION_DATE,\r\n",
                "\t\t   b.ROW_INSERT_DATE,\r\n",
                "\t\t   b.ROW_UPDATE_DATE\r\n",
                "\t  FROM base \r\n",
                " LEFT JOIN ADDED_DIM_COLUMN_NAMES a\r\n",
                "\t\tON a.ADDED_DIM_COLUMN_NAMES_TAG = b.ADDED_DIM_COLUMN_NAMES_TAG\r\n",
                "\t WHERE a.ADDED_DIM_COLUMN_NAMES_TAG IS NULL\r\n",
                "\"\"\"\r\n",
                "cur.execute(sql)\r\n",
                "one_row = cur.fetchone()\r\n",
                "print('Rows inserted: ', one_row[0])"
            ],
            "outputs": [],
            "metadata": {}
        }
    ]
}