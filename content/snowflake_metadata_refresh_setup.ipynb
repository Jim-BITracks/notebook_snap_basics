{
    "cells": [
        {
            "cell_type": "markdown",
            "metadata": {
                "azdata_cell_guid": "2d0fd733-e104-40b2-b21f-85cdac9f46ca"
            },
            "source": [
                "# Snowflake Metadata Refresh Setup"
            ]
        },
        {
            "cell_type": "markdown",
            "metadata": {},
            "source": [
                "## Import Python Libraries"
            ]
        },
        {
            "cell_type": "code",
            "execution_count": 1,
            "metadata": {},
            "outputs": [],
            "source": [
                "import snowflake.connector\n",
                "import os\n",
                "import pandas as pd\n",
                "import numpy as np\n",
                "import pandas as pd\n",
                "import pyarrow as pa\n",
                "# pd.set_option('max_columns', 40)"
            ]
        },
        {
            "cell_type": "markdown",
            "metadata": {},
            "source": [
                "## Set Snowflake Variables"
            ]
        },
        {
            "cell_type": "code",
            "execution_count": 2,
            "metadata": {},
            "outputs": [
                {
                    "name": "stdout",
                    "output_type": "stream",
                    "text": [
                        "Using Notebook Variables:\n",
                        "snowflake_user: JMILLER\n",
                        "snowflake_password: ***************\n",
                        "snowflake_account: eh69371.east-us-2.azure\n",
                        "snowflake_role: SYSADMIN\n",
                        "snowflake_warehouse: COMPUTE_WH\n",
                        "snowflake_database: UTIL_DB\n",
                        "snowflake_schema: METADATA\n"
                    ]
                }
            ],
            "source": [
                "# snowflake connection variables\n",
                "snowflake_user = 'JMILLER'\n",
                "snowflake_password = os.environ['BISNOWPASS']\n",
                "snowflake_account = 'eh69371.east-us-2.azure'\n",
                "snowflake_role = 'SYSADMIN'\n",
                "snowflake_warehouse = 'COMPUTE_WH'\n",
                "snowflake_database = 'UTIL_DB'\n",
                "snowflake_schema = 'METADATA'\n",
                "\n",
                "print('Using Notebook Variables:')\n",
                "print('snowflake_user: ' + snowflake_user)\n",
                "print('snowflake_password: ' + '***************')\n",
                "print('snowflake_account: ' + snowflake_account)\n",
                "print('snowflake_role: ' + snowflake_role)\n",
                "print('snowflake_warehouse: ' + snowflake_warehouse)\n",
                "print('snowflake_database: ' + snowflake_database)\n",
                "print('snowflake_schema: ' + snowflake_schema)"
            ]
        },
        {
            "cell_type": "markdown",
            "metadata": {},
            "source": [
                "## Set Notebook Variables"
            ]
        },
        {
            "cell_type": "code",
            "execution_count": 3,
            "metadata": {},
            "outputs": [
                {
                    "name": "stdout",
                    "output_type": "stream",
                    "text": [
                        "Using Notebook Variables:\n",
                        "tgt_table_schema: METADATA\n",
                        "tgt_table_name: D_DATABASES\n"
                    ]
                }
            ],
            "source": [
                "tgt_table_schema = 'METADATA'\n",
                "tgt_table_name = 'D_DATABASES'\n",
                "               \n",
                "print('Using Notebook Variables:')\n",
                "print('tgt_table_schema: ' + tgt_table_schema)\n",
                "print('tgt_table_name: ' + tgt_table_name)"
            ]
        },
        {
            "cell_type": "markdown",
            "metadata": {},
            "source": [
                "## Establish Snowflake Connection"
            ]
        },
        {
            "cell_type": "code",
            "execution_count": 4,
            "metadata": {
                "azdata_cell_guid": "bdca4781-9494-4f61-940d-9c004032a582"
            },
            "outputs": [
                {
                    "name": "stdout",
                    "output_type": "stream",
                    "text": [
                        "Snowflake Connection Successful\n",
                        "PythonConnector 2.5.1\n"
                    ]
                }
            ],
            "source": [
                "ctx = snowflake.connector.connect(\n",
                "    user = snowflake_user,\n",
                "    password = snowflake_password,\n",
                "    account = snowflake_account,\n",
                "    role = snowflake_role,\n",
                "    warehouse = snowflake_warehouse,\n",
                "    database = snowflake_database,\n",
                "    schema = snowflake_schema\n",
                "    )\n",
                "cur = ctx.cursor()\n",
                "\n",
                "# Return Client\n",
                "cur.execute(\"select CURRENT_CLIENT()\")\n",
                "one_row = cur.fetchone()\n",
                "print('Snowflake Connection Successful')\n",
                "print(one_row[0])"
            ]
        },
        {
            "cell_type": "markdown",
            "metadata": {},
            "source": [
                "## Get Table Mappings"
            ]
        },
        {
            "cell_type": "code",
            "execution_count": 5,
            "metadata": {},
            "outputs": [
                {
                    "name": "stdout",
                    "output_type": "stream",
                    "text": [
                        "\n",
                        "select SRC_TABLE_SCHEMA, SRC_TABLE_NAME, NATURAL_KEY, TYPE_2_COLUMNS, TYPE_0_COLUMNS, MAP_ADDED_COLUMNS_TAG\n",
                        "  from METADATA.MAP_TABLE\n",
                        " where TGT_TABLE_SCHEMA = 'METADATA'\n",
                        "   and TGT_TABLE_NAME = 'D_DATABASES'\n",
                        "\n",
                        "return values:  INFORMATION_SCHEMA DATABASES DATABASE_NAME IS_TRANSIENT,RETENTION_TIME None info_schema_dim\n",
                        "source table:  \"INFORMATION_SCHEMA\".\"DATABASES\" \n",
                        "source table:  \"METADATA\".\"D_DATABASES\"\n"
                    ]
                }
            ],
            "source": [
                "sql = \"\"\"\n",
                "select SRC_TABLE_SCHEMA, SRC_TABLE_NAME, NATURAL_KEY, TYPE_2_COLUMNS, TYPE_0_COLUMNS, MAP_ADDED_COLUMNS_TAG\n",
                "  from METADATA.MAP_TABLE\n",
                " where TGT_TABLE_SCHEMA = '\"\"\" + tgt_table_schema + \"\"\"'\n",
                "   and TGT_TABLE_NAME = '\"\"\" + tgt_table_name + \"\"\"'\n",
                "\"\"\"\n",
                "print(sql)\n",
                "cur.execute(sql)\n",
                "one_row = cur.fetchone()\n",
                "src_table_schema = one_row[0]\n",
                "src_table_name = one_row[1]\n",
                "natural_key = one_row[2]\n",
                "type_2_columns = one_row[3]\n",
                "type_0_columns = one_row[4]\n",
                "map_added_columns_tag = one_row[5]\n",
                "\n",
                "src_table_full = '\"' + src_table_schema + '\".\"' + src_table_name + '\"'\n",
                "tgt_table_full = '\"' + tgt_table_schema + '\".\"' + tgt_table_name + '\"'\n",
                "\n",
                "print('return values: ', src_table_schema, src_table_name, natural_key, type_2_columns, type_0_columns, map_added_columns_tag)\n",
                "print('source table: ', src_table_full, '\\nsource table: ', tgt_table_full)"
            ]
        },
        {
            "cell_type": "markdown",
            "metadata": {},
            "source": [
                "## Get names for supplemental dimension columns"
            ]
        },
        {
            "cell_type": "code",
            "execution_count": 6,
            "metadata": {},
            "outputs": [
                {
                    "name": "stdout",
                    "output_type": "stream",
                    "text": [
                        "\n",
                        "select TGT_COLUMN_NAME\n",
                        "  from METADATA.MAP_ADDED_COLUMNS\n",
                        " where MAP_ADDED_COLUMNS_TAG = 'info_schema_dim'\n",
                        "   and LOGICAL_COLUMN_NAME = 'row_is_current'\n",
                        "\n",
                        "\n",
                        "select TGT_COLUMN_NAME\n",
                        "  from METADATA.MAP_ADDED_COLUMNS\n",
                        " where MAP_ADDED_COLUMNS_TAG = 'info_schema_dim'\n",
                        "   and LOGICAL_COLUMN_NAME = 'row_effective_date'\n",
                        "\n",
                        "row_is_current:  ROW_IS_CURRENT \n",
                        "row_effective_date:  ROW_EFFECTIVE_DATE\n"
                    ]
                }
            ],
            "source": [
                "sql = \"\"\"\n",
                "select TGT_COLUMN_NAME\n",
                "  from METADATA.MAP_ADDED_COLUMNS\n",
                " where MAP_ADDED_COLUMNS_TAG = '\"\"\" + map_added_columns_tag + \"\"\"'\n",
                "   and LOGICAL_COLUMN_NAME = 'row_is_current'\n",
                "\"\"\"\n",
                "\n",
                "print(sql)\n",
                "cur.execute(sql)\n",
                "one_row = cur.fetchone()\n",
                "row_is_current = one_row[0]\n",
                "\n",
                "sql = \"\"\"\n",
                "select TGT_COLUMN_NAME\n",
                "  from METADATA.MAP_ADDED_COLUMNS\n",
                " where MAP_ADDED_COLUMNS_TAG = '\"\"\" + map_added_columns_tag + \"\"\"'\n",
                "   and LOGICAL_COLUMN_NAME = 'row_effective_date'\n",
                "\"\"\"\n",
                "\n",
                "print(sql)\n",
                "cur.execute(sql)\n",
                "one_row = cur.fetchone()\n",
                "row_effective_date = one_row[0]\n",
                "\n",
                "print('row_is_current: ', row_is_current, '\\nrow_effective_date: ', row_effective_date)"
            ]
        },
        {
            "cell_type": "markdown",
            "metadata": {},
            "source": [
                "## Next"
            ]
        },
        {
            "cell_type": "code",
            "execution_count": 7,
            "metadata": {},
            "outputs": [],
            "source": [
                "sql = ''\n",
                "#df = cur.fetch_pandas_all()\n",
                "#df"
            ]
        },
        {
            "cell_type": "markdown",
            "metadata": {},
            "source": [
                "## Next"
            ]
        },
        {
            "cell_type": "code",
            "execution_count": 8,
            "metadata": {},
            "outputs": [],
            "source": [
                "sql = ''\n",
                "#df = cur.fetch_pandas_all()\n",
                "#df"
            ]
        }
    ],
    "metadata": {
        "extensions": {
            "azuredatastudio": {
                "version": 1,
                "views": []
            }
        },
        "interpreter": {
            "hash": "68b562a21dc5ced35168949e69bfaf76617e2ef0907fc3cdcc3e5df152ab9e5a"
        },
        "kernelspec": {
            "display_name": "Python 3.9.6 64-bit",
            "name": "python3"
        },
        "language_info": {
            "codemirror_mode": {
                "name": "ipython",
                "version": 3
            },
            "file_extension": ".py",
            "mimetype": "text/x-python",
            "name": "python",
            "nbconvert_exporter": "python",
            "pygments_lexer": "ipython3",
            "version": "3.9.6"
        }
    },
    "nbformat": 4,
    "nbformat_minor": 2
}
