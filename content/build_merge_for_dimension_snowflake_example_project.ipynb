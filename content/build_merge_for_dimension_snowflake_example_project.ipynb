{
    "metadata": {
        "kernelspec": {
            "name": "SQL",
            "display_name": "SQL",
            "language": "sql"
        },
        "language_info": {
            "name": "sql",
            "version": ""
        }
    },
    "nbformat_minor": 2,
    "nbformat": 4,
    "cells": [
        {
            "cell_type": "markdown",
            "source": [
                "# Build and Execute Merge for Dimension for Snowflake (Example Project)\r\n",
                "\r\n",
                "This notebook contains an example project for building and executing a merge statement for dimensions in Snowflake\""
            ],
            "metadata": {
                "azdata_cell_guid": "f817cd84-8e28-4a13-bca6-514271d3154f"
            }
        },
        {
            "cell_type": "markdown",
            "source": [
                "## Project Setup\n",
                "\n",
                "These scripts needs to be run **after** running the notebook called **Ingest ADS Notebook Files (Project)**"
            ],
            "metadata": {
                "azdata_cell_guid": "1604ec9a-5af9-41ad-99a1-1583db5bf0ac"
            }
        },
        {
            "cell_type": "code",
            "source": [
                "DELETE FROM [ads].[project_cells] WHERE [project_name] = 'Build and Execute Merge for Dimension - Example Project (Snowflake)'\r\n",
                "\r\n",
                "INSERT [ads].[project_cells] ([project_name], [full_name], [cell_name], [sequence_number], [parallel_executions]) VALUES (N'Build and Execute Merge for Dimension - Example Project (Snowflake)',\tN'notebook_snap_basics\\content\\Create_DIM_COLUMN_VIEW_as_src.sql',\tN'Create Example DIM_COLUMN_VIEW as Source (snowflake)', 100, NULL)\r\n",
                "INSERT [ads].[project_cells] ([project_name], [full_name], [cell_name], [sequence_number], [parallel_executions]) VALUES (N'Build and Execute Merge for Dimension - Example Project (Snowflake)',\tN'notebook_snap_basics\\content\\Create_DIM_COLUMN_Table.sql',\tN'Create Example DIM_COLUMN Table (snowflake)', 110, NULL)\r\n",
                "INSERT [ads].[project_cells] ([project_name], [full_name], [cell_name], [sequence_number], [parallel_executions]) VALUES (N'Build and Execute Merge for Dimension - Example Project (Snowflake)',\tN'notebook_snap_basics\\content\\build_merge_for_dimension_snowflake_example_project.ipynb',\tN'Call Merge Statement for Snowflake (Example Project)', 120, NULL)\r\n",
                ""
            ],
            "metadata": {
                "azdata_cell_guid": "f8c4111e-aa7d-4ca5-acbf-8e8e83028fa0"
            },
            "outputs": [],
            "execution_count": null
        },
        {
            "cell_type": "markdown",
            "source": [
                "## Check Impact of Importing Project "
            ],
            "metadata": {
                "azdata_cell_guid": "0e8ff146-528a-4183-9c77-b09748086a37"
            }
        },
        {
            "cell_type": "code",
            "source": [
                "EXEC [ads].[Impact Check from ADS] 'Build and Execute Merge for Dimension - Example Project (Snowflake)';"
            ],
            "metadata": {
                "azdata_cell_guid": "39f6641e-d48c-4eeb-b489-c6c758acc50e"
            },
            "outputs": [
                {
                    "output_type": "display_data",
                    "data": {
                        "text/html": "Commands completed successfully."
                    },
                    "metadata": {}
                },
                {
                    "output_type": "display_data",
                    "data": {
                        "text/html": "Total execution time: 00:00:00.026"
                    },
                    "metadata": {}
                },
                {
                    "output_type": "execute_result",
                    "metadata": {},
                    "execution_count": 5,
                    "data": {
                        "application/vnd.dataresource+json": {
                            "schema": {
                                "fields": [
                                    {
                                        "name": "JSON_F52E2B61-18A1-11d1-B105-00805F49916B"
                                    }
                                ]
                            },
                            "data": [
                                {
                                    "0": "{\"Project\":[{\"Project Name\":\"Build and Execute Merge for Dimension - Example Project (Snowflake)\",\"Action\":\"Already Exists\",\"Packages\":[{\"Package Name\":\"Execute SQL - Create Example DIM_COLUMN_VIEW as Source (snowflake)\",\"Action\":\"Will Create\"}]}]}"
                                }
                            ]
                        },
                        "text/html": [
                            "<table>",
                            "<tr><th>JSON_F52E2B61-18A1-11d1-B105-00805F49916B</th></tr>",
                            "<tr><td>{&quot;Project&quot;:[{&quot;Project Name&quot;:&quot;Build and Execute Merge for Dimension - Example Project (Snowflake)&quot;,&quot;Action&quot;:&quot;Already Exists&quot;,&quot;Packages&quot;:[{&quot;Package Name&quot;:&quot;Execute SQL - Create Example DIM_COLUMN_VIEW as Source (snowflake)&quot;,&quot;Action&quot;:&quot;Will Create&quot;}]}]}</td></tr>",
                            "</table>"
                        ]
                    }
                }
            ],
            "execution_count": 5
        },
        {
            "cell_type": "markdown",
            "source": [
                "## Import project from ADS"
            ],
            "metadata": {
                "azdata_cell_guid": "1dc2fa75-fd1c-4cbc-afc4-d9709513118c"
            }
        },
        {
            "cell_type": "code",
            "source": [
                "EXEC [ads].[Import Project from ADS] 'Build and Execute Merge for Dimension - Example Project (Snowflake)';"
            ],
            "metadata": {
                "azdata_cell_guid": "2beaa8c6-edc3-4a63-9c87-0aee44810075"
            },
            "outputs": [
{
    "output_type": "display_data",
    "data": {
        "text/html": "Created/Updated: Call Merge Statement for Snowflake (Example Project)"
    },
    "metadata": {}
}, {
    "output_type": "display_data",
    "data": {
        "text/html": "Created/Updated: Create Example DIM_COLUMN Table (snowflake)"
    },
    "metadata": {}
}, {
    "output_type": "display_data",
    "data": {
        "text/html": "Created/Updated: Create Example DIM_COLUMN_VIEW as Source (snowflake)"
    },
    "metadata": {}
}, {
    "output_type": "display_data",
    "data": {
        "text/html": "Total execution time: 00:00:03.531"
    },
    "metadata": {}
}, {
    "output_type": "execute_result",
    "metadata": {},
    "execution_count": 9,
    "data": {
        "application/vnd.dataresource+json": {
            "schema": {
                "fields": [
                    {
                        "name": "JSON_F52E2B61-18A1-11d1-B105-00805F49916B"
                    }
                ]
            },
            "data": [
                {
                    "0": "[{\"full_name\":\"notebook_snap_basics\\\\content\\\\build_merge_for_dimension_snowflake_example_project.ipynb\",\"cell_name\":\"Call Merge Statement for Snowflake (Example Project)\",\"sequence_number\":120,\"source_node\":\"$.cells.9\",\"pattern\":\"Execute SQL\",\"src_connection_name\":\"snowflake-demo\",\"source\":\"CALL STG.BUILD_AND_EXECUTE_MERGE_FOR_DIMENSION_DEST_REPAIR('STG', 'DIM_COLUMN_VIEW', 'STG', 'DIM_COLUMN', 'Standard', 'TABLE_CATALOG,TABLE_SCHEMA,TABLE_NAME,COLUMN_NAME', '', '', '', '')\"},{\"full_name\":\"notebook_snap_basics\\\\content\\\\Create_DIM_COLUMN_Table.sql\",\"cell_name\":\"Create Example DIM_COLUMN Table (snowflake)\",\"sequence_number\":110,\"source_node\":\"$.cells.9\",\"pattern\":\"Execute SQL\",\"src_connection_name\":\"snowflake-demo\",\"source\":\"CREATE TABLE IF NOT EXISTS \\/*${snowflake_Schema}*\\/\\\"STG\\\"\\/**\\/.DIM_COLUMN (\\r\\n COLUMN_SK NUMBER(38,0) autoincrement,\\r\\n TABLE_CATALOG VARCHAR(255),\\r\\n TABLE_SCHEMA VARCHAR(255),\\r\\n TABLE_NAME VARCHAR(255),\\r\\n COLUMN_NAME VARCHAR(255),\\r\\n ORDINAL_POSITION NUMBER(38,0),\\r\\n IS_NULLABLE VARCHAR(4),\\r\\n DATA_TYPE VARCHAR(255),\\r\\n CHARACTER_MAXIMUM_LENGTH NUMBER(38,0),\\r\\n PRIMARY_KEY VARCHAR(4),\\r\\n ROW_DATA_SOURCE VARCHAR(16),\\r\\n ROW_IS_CURRENT VARCHAR(4),\\r\\n ROW_EFFECTIVE_DATE DATE,\\r\\n ROW_EXPIRATION_DATE DATE,\\r\\n ROW_INSERT_DATE DATE,\\r\\n ROW_UPDATE_DATE DATE\\r\\n);\"},{\"full_name\":\"notebook_snap_basics\\\\content\\\\Create_DIM_COLUMN_VIEW_as_src.sql\",\"cell_name\":\"Create Example DIM_COLUMN_VIEW as Source (snowflake)\",\"sequence_number\":100,\"source_node\":\"$.cells.9\",\"pattern\":\"Execute SQL\",\"src_connection_name\":\"snowflake-demo\",\"source\":\"CREATE VIEW IF NOT EXISTS \\/*${snowflake_Schema}*\\/\\\"STG\\\"\\/**\\/.DIM_COLUMN_VIEW AS \\r\\nSELECT DISTINCT TOP 10 TABLE_CATALOG\\r\\n TABLE_SCHEMA,\\r\\n TABLE_NAME,\\r\\n COLUMN_NAME,\\r\\n ORDINAL_POSITION,\\r\\n IS_NULLABLE,\\r\\n DATA_TYPE,\\r\\n CHARACTER_MAXIMUM_LENGTH,\\r\\n 'NULL' AS PRIMARY_KEY\\r\\nFROM INFORMATION_SCHEMA.COLUMNS;\"}]"
                }
            ]
        },
        "text/html": [
            "<table>",
            "<tr><th>JSON_F52E2B61-18A1-11d1-B105-00805F49916B</th></tr>",
            "<tr><td>[{&quot;full_name&quot;:&quot;notebook_snap_basics\\\\content\\\\build_merge_for_dimension_snowflake_example_project.ipynb&quot;,&quot;cell_name&quot;:&quot;Call Merge Statement for Snowflake (Example Project)&quot;,&quot;sequence_number&quot;:120,&quot;source_node&quot;:&quot;$.cells.9&quot;,&quot;pattern&quot;:&quot;Execute SQL&quot;,&quot;src_connection_name&quot;:&quot;snowflake-demo&quot;,&quot;source&quot;:&quot;CALL STG.BUILD_AND_EXECUTE_MERGE_FOR_DIMENSION_DEST_REPAIR('STG', 'DIM_COLUMN_VIEW', 'STG', 'DIM_COLUMN', 'Standard', 'TABLE_CATALOG,TABLE_SCHEMA,TABLE_NAME,COLUMN_NAME', '', '', '', '')&quot;},{&quot;full_name&quot;:&quot;notebook_snap_basics\\\\content\\\\Create_DIM_COLUMN_Table.sql&quot;,&quot;cell_name&quot;:&quot;Create Example DIM_COLUMN Table (snowflake)&quot;,&quot;sequence_number&quot;:110,&quot;source_node&quot;:&quot;$.cells.9&quot;,&quot;pattern&quot;:&quot;Execute SQL&quot;,&quot;src_connection_name&quot;:&quot;snowflake-demo&quot;,&quot;source&quot;:&quot;CREATE TABLE IF NOT EXISTS \\/*${snowflake_Schema}*\\/\\&quot;STG\\&quot;\\/**\\/.DIM_COLUMN (\\r\\n COLUMN_SK NUMBER(38,0) autoincrement,\\r\\n TABLE_CATALOG VARCHAR(255),\\r\\n TABLE_SCHEMA VARCHAR(255),\\r\\n TABLE_NAME VARCHAR(255),\\r\\n COLUMN_NAME VARCHAR(255),\\r\\n ORDINAL_POSITION NUMBER(38,0),\\r\\n IS_NULLABLE VARCHAR(4),\\r\\n DATA_TYPE VARCHAR(255),\\r\\n CHARACTER_MAXIMUM_LENGTH NUMBER(38,0),\\r\\n PRIMARY_KEY VARCHAR(4),\\r\\n ROW_DATA_SOURCE VARCHAR(16),\\r\\n ROW_IS_CURRENT VARCHAR(4),\\r\\n ROW_EFFECTIVE_DATE DATE,\\r\\n ROW_EXPIRATION_DATE DATE,\\r\\n ROW_INSERT_DATE DATE,\\r\\n ROW_UPDATE_DATE DATE\\r\\n);&quot;},{&quot;full_name&quot;:&quot;notebook_snap_basics\\\\content\\\\Create_DIM_COLUMN_VIEW_as_src.sql&quot;,&quot;cell_name&quot;:&quot;Create Example DIM_COLUMN_VIEW as Source (snowflake)&quot;,&quot;sequence_number&quot;:100,&quot;source_node&quot;:&quot;$.cells.9&quot;,&quot;pattern&quot;:&quot;Execute SQL&quot;,&quot;src_connection_name&quot;:&quot;snowflake-demo&quot;,&quot;source&quot;:&quot;CREATE VIEW IF NOT EXISTS \\/*${snowflake_Schema}*\\/\\&quot;STG\\&quot;\\/**\\/.DIM_COLUMN_VIEW AS \\r\\nSELECT DISTINCT TOP 10 TABLE_CATALOG\\r\\n TABLE_SCHEMA,\\r\\n TABLE_NAME,\\r\\n COLUMN_NAME,\\r\\n ORDINAL_POSITION,\\r\\n IS_NULLABLE,\\r\\n DATA_TYPE,\\r\\n CHARACTER_MAXIMUM_LENGTH,\\r\\n 'NULL' AS PRIMARY_KEY\\r\\nFROM INFORMATION_SCHEMA.COLUMNS;&quot;}]</td></tr>",
            "</table>"
        ]
    }
}
],
            "execution_count": 9
        },
        {
            "cell_type": "markdown",
            "source": [
                "## Create sample dimension in schema 'STG'\r\n",
                "\r\n",
                "> Using code from Create_DIM_COLUMN_Table.sql file (content\\Create_DIM_COLUMN_Table.sql)"
            ],
            "metadata": {
                "azdata_cell_guid": "96a8cf52-33d1-4a6b-861b-1f0d6dabe05e"
            }
        },
        {
            "cell_type": "markdown",
            "source": [
                "## Call BUILD\\_AND\\_EXECUTE\\_MERGE\\_FOR\\_DIMENSION Stored Procedure"
            ],
            "metadata": {
                "azdata_cell_guid": "22a9c491-f37d-4d1b-808d-4cf4ccc86f13"
            }
        },
        {
            "cell_type": "code",
            "source": [
                "CALL STG.BUILD_AND_EXECUTE_MERGE_FOR_DIMENSION_DEST_REPAIR('STG', 'DIM_COLUMN_VIEW', 'STG', 'DIM_COLUMN', 'Standard', 'TABLE_CATALOG,TABLE_SCHEMA,TABLE_NAME,COLUMN_NAME', '', '', '', '')"
            ],
            "metadata": {
                "azdata_cell_guid": "0b3e97c5-e2a4-45a9-8714-638fede79ade",
                "notebooksnap": {
                    "pattern": "Execute SQL",
                    "cell_name": "Call Merge Statement for Snowflake (Example Project)",
                    "connection": "snowflake-demo"
                }
            },
            "outputs": [],
            "execution_count": null
        }
    ]
}