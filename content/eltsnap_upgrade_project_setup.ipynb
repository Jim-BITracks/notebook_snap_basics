{
    "metadata": {
        "kernelspec": {
            "name": "SQL",
            "display_name": "SQL",
            "language": "sql"
        },
        "language_info": {
            "name": "sql",
            "version": ""
        }
    },
    "nbformat_minor": 2,
    "nbformat": 4,
    "cells": [
        {
            "cell_type": "markdown",
            "source": [
                "# eltsnap upgrade (Project Setup)\r\n",
                "\r\n",
                "This notebook contains the SQL Set-up scripts for the eltSnap project \"upgrade eltsnap\"\r\n",
                "\r\n",
                "These scripts needs to be run **after** running the notebook called **Ingest ADS Notebook Files (Project)**\r\n",
                "\r\n",
                "> To run these SQL scripts, first connect to your SQL Server instance of **eltsnap_v2a**"
            ],
            "metadata": {
                "azdata_cell_guid": "70821591-70dc-42e5-b7ea-381fc8c1a053"
            }
        },
        {
            "cell_type": "markdown",
            "source": [
                "## Check impact "
            ],
            "metadata": {
                "azdata_cell_guid": "9c9bc716-041d-4603-9ac7-6e141a0c0a15"
            }
        },
        {
            "cell_type": "code",
            "source": [
                "EXEC [ads].[Impact Check from ADS] 'eltsnap upgrade', 'notebook_snap_basics\\content\\eltsnap_upgrade.ipynb';"
            ],
            "metadata": {
                "azdata_cell_guid": "cf5bc0aa-7b87-4d05-b447-219bc7e88478"
            },
            "outputs": [],
            "execution_count": null
        },
        {
            "cell_type": "markdown",
            "source": [
                "## Import project from ADS"
            ],
            "metadata": {
                "azdata_cell_guid": "95c90ff3-ffa2-4818-b9f9-4b042d25b64c"
            }
        },
        {
            "cell_type": "code",
            "source": [
                "EXEC [ads].[Import Project from ADS] 'eltsnap upgrade', 'notebook_snap_basics\\content\\eltsnap_upgrade.ipynb';"
            ],
            "metadata": {
                "azdata_cell_guid": "8b490423-159f-482c-9c0e-28e2dc1f24a3"
            },
            "outputs": [],
            "execution_count": null
        }
    ]
}