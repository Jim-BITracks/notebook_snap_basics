{
    "metadata": {
        "kernelspec": {
            "name": "python3",
            "display_name": "Python 3.9.6 64-bit"
        },
        "language_info": {
            "name": "python",
            "version": "3.9.6",
            "mimetype": "text/x-python",
            "codemirror_mode": {
                "name": "ipython",
                "version": 3
            },
            "pygments_lexer": "ipython3",
            "nbconvert_exporter": "python",
            "file_extension": ".py"
        },
        "extensions": {
            "azuredatastudio": {
                "version": 1,
                "views": []
            }
        },
        "interpreter": {
            "hash": "63fd5069d213b44bf678585dea6b12cceca9941eaf7f819626cde1f2670de90d"
        }
    },
    "nbformat_minor": 2,
    "nbformat": 4,
    "cells": [
        {
            "cell_type": "markdown",
            "source": [
                "# Snowflake Metadata Refresh Setup"
            ],
            "metadata": {
                "azdata_cell_guid": "2d0fd733-e104-40b2-b21f-85cdac9f46ca"
            }
        },
        {
            "cell_type": "markdown",
            "source": [
                "## Import Python Libraries"
            ],
            "metadata": {}
        },
        {
            "cell_type": "code",
            "execution_count": null,
            "source": [
                "import snowflake.connector\r\n",
                "import os\r\n",
                "import sys\r\n",
                "import pandas as pd\r\n",
                "import numpy as np\r\n",
                "import pandas as pd\r\n",
                "import pyarrow as pa\r\n",
                "# pd.set_option('max_columns', 40)"
            ],
            "outputs": [],
            "metadata": {}
        },
        {
            "cell_type": "markdown",
            "source": [
                "## Set Snowflake Variables"
            ],
            "metadata": {}
        },
        {
            "cell_type": "code",
            "execution_count": null,
            "source": [
                "# snowflake connection variables\r\n",
                "snowflake_user = 'JMILLER'\r\n",
                "snowflake_password = os.environ['BISNOWPASS']\r\n",
                "snowflake_account = 'eh69371.east-us-2.azure'\r\n",
                "snowflake_role = 'SYSADMIN'\r\n",
                "snowflake_warehouse = 'COMPUTE_WH'\r\n",
                "\r\n",
                "# # database and schema for metadata objects\r\n",
                "snowflake_database = 'UTIL_DB'\r\n",
                "snowflake_schema = 'METADATA'\r\n",
                "\r\n",
                "print('Using Notebook Variables:')\r\n",
                "print('snowflake_user: ' + snowflake_user)\r\n",
                "print('snowflake_password: ' + '***************')\r\n",
                "print('snowflake_account: ' + snowflake_account)\r\n",
                "print('snowflake_role: ' + snowflake_role)\r\n",
                "print('snowflake_warehouse: ' + snowflake_warehouse)\r\n",
                "print('snowflake_database: ' + snowflake_database)\r\n",
                "print('snowflake_schema: ' + snowflake_schema)"
            ],
            "outputs": [],
            "metadata": {}
        },
        {
            "cell_type": "markdown",
            "source": [
                "## Set Notebook Variables"
            ],
            "metadata": {}
        },
        {
            "cell_type": "code",
            "execution_count": null,
            "source": [
                "# notebook variables\r\n",
                "src_database = 'UTIL_DB'\r\n",
                "tgt_database = 'UTIL_DB'\r\n",
                "src_schema = 'INFORMATION_SCHEMA'\r\n",
                "tgt_schema = 'METADATA'\r\n",
                "src_table = 'DATABASES'\r\n",
                "tgt_table = 'D_DATABASES'\r\n",
                "added_dim_column_names_tag = 'standard_uc'\r\n",
                "natural_key_columns = 'DATABASE_NAME'\r\n",
                "type_2_columns = 'DATABASE_OWNER,RETENTION_TIME'\r\n",
                "type_0_columns = ''\r\n",
                "\r\n",
                "src_table_full = '\"' + src_database + '\".\"' + src_schema + '\".\"' + src_table + '\"'\r\n",
                "if not src_database:\r\n",
                "        src_table_full = '\"' + src_schema + '\".\"' + src_table + '\"'\r\n",
                "\r\n",
                "tgt_table_full = '\"' + tgt_database + '\".\"' + tgt_schema + '\".\"' + tgt_table + '\"'\r\n",
                "if not tgt_database:\r\n",
                "        src_table_full = '\"' + tgt_schema + '\".\"' + tgt_table + '\"'\r\n",
                "\r\n",
                "print('Using Notebook Variables:')\r\n",
                "print('src_table_full: ' + src_table_full)\r\n",
                "print('tgt_table_full: ' + tgt_table_full)\r\n",
                "print('added_dim_column_names_tag: ' + added_dim_column_names_tag)\r\n",
                "print('natural_key_columns: ' + natural_key_columns)\r\n",
                "print('type_2_columns: ' + type_2_columns)\r\n",
                "print('type_0_columns: ' + type_0_columns)\r\n"
            ],
            "outputs": [],
            "metadata": {}
        },
        {
            "cell_type": "markdown",
            "source": [
                "## Check for Required values"
            ],
            "metadata": {}
        },
        {
            "cell_type": "code",
            "execution_count": null,
            "source": [
                "if not src_schema:\r\n",
                "    sys.exit(\"src_schema is required\")\r\n",
                "\r\n",
                "if not tgt_schema:\r\n",
                "    sys.exit(\"tgt_schema is required\")\r\n",
                "\r\n",
                "if not src_table:\r\n",
                "    sys.exit(\"src_table is required\")\r\n",
                "\r\n",
                "if not tgt_table:\r\n",
                "    sys.exit(\"tgt_table is required\")\r\n",
                "\r\n",
                "if not added_dim_column_names_tag:\r\n",
                "    sys.exit(\"added_dim_column_names_tag is required\")\r\n",
                "\r\n",
                "if not natural_key_columns:\r\n",
                "    sys.exit(\"natural_key_columns is required\")"
            ],
            "outputs": [],
            "metadata": {}
        },
        {
            "cell_type": "markdown",
            "source": [
                "## Establish Snowflake Connection"
            ],
            "metadata": {}
        },
        {
            "cell_type": "code",
            "execution_count": null,
            "source": [
                "ctx = snowflake.connector.connect(\r\n",
                "    user = snowflake_user,\r\n",
                "    password = snowflake_password,\r\n",
                "    account = snowflake_account,\r\n",
                "    role = snowflake_role,\r\n",
                "    warehouse = snowflake_warehouse\r\n",
                "    )\r\n",
                "cur = ctx.cursor()\r\n",
                "\r\n",
                "# Return Client\r\n",
                "cur.execute(\"select CURRENT_CLIENT()\")\r\n",
                "one_row = cur.fetchone()\r\n",
                "print('Snowflake Connection Successful')\r\n",
                "print(one_row[0])"
            ],
            "outputs": [],
            "metadata": {
                "azdata_cell_guid": "bdca4781-9494-4f61-940d-9c004032a582"
            }
        },
        {
            "cell_type": "markdown",
            "source": [
                "## Set Snowflake Database and Schema Context"
            ],
            "metadata": {}
        },
        {
            "cell_type": "code",
            "execution_count": null,
            "source": [
                "sql = \"use database \" + snowflake_database + \";\"\r\n",
                "print(sql)\r\n",
                "cur.execute(sql)\r\n",
                "\r\n",
                "sql = \"use schema \" + snowflake_schema + \";\"\r\n",
                "print(sql)\r\n",
                "cur.execute(sql)"
            ],
            "outputs": [],
            "metadata": {}
        },
        {
            "cell_type": "markdown",
            "source": [
                "## Get names for supplemental dimension columns"
            ],
            "metadata": {}
        },
        {
            "cell_type": "code",
            "execution_count": null,
            "source": [
                "sql = \"\"\"\r\n",
                "SELECT ROW_IS_CURRENT, ROW_EFFECTIVE_DATE, ROW_EXPIRATION_DATE, ROW_INSERT_DATE, ROW_UPDATE_DATE \r\n",
                "  FROM ADDED_DIM_COLUMN_NAMES \r\n",
                " WHERE ADDED_DIM_COLUMN_NAMES_TAG  = '\"\"\" + added_dim_column_names_tag + \"\"\"' \r\n",
                "\"\"\"\r\n",
                "print(sql)\r\n",
                "cur.execute(sql)\r\n",
                "one_row = cur.fetchone()\r\n",
                "row_is_current = one_row[0]\r\n",
                "row_effective_date = one_row[1]\r\n",
                "row_expiration_date = one_row[2]\r\n",
                "row_insert_date = one_row[3]\r\n",
                "row_update_date = one_row[4]\r\n",
                "\r\n",
                "print('row_is_current:', row_is_current)\r\n",
                "print('row_effective_date:', row_effective_date)\r\n",
                "print('row_expiration_date:', row_expiration_date)\r\n",
                "print('row_insert_date:', row_insert_date)\r\n",
                "print('row_update_date:', row_update_date)"
            ],
            "outputs": [],
            "metadata": {}
        },
        {
            "cell_type": "markdown",
            "source": [
                "## Natural key select and joins"
            ],
            "metadata": {}
        },
        {
            "cell_type": "code",
            "execution_count": null,
            "source": [
                "sql = \"\"\"\r\n",
                "WITH base AS\r\n",
                "(\r\n",
                "SELECT DISTINCT TOP 1000 ORDINAL_POSITION, COLUMN_NAME\r\n",
                "  FROM \"\"\" + src_database + \"\"\".INFORMATION_SCHEMA.\"COLUMNS\"\r\n",
                " WHERE COLUMN_NAME IN (select trim(value) from table(split_to_table('\"\"\" + natural_key_columns + \"\"\"', ',')))\r\n",
                "   AND TABLE_SCHEMA = '\"\"\" + src_schema + \"\"\"'\r\n",
                "   AND TABLE_NAME = '\"\"\" + src_table + \"\"\"'\r\n",
                ")\r\n",
                "SELECT TRIM(LISTAGG(' s.' || COLUMN_NAME || ', '), ', ') || ' ' AS nat_key_select\r\n",
                "\t , REPLACE(REPLACE(LISTAGG(' r.' || COLUMN_NAME || ' = s.' || COLUMN_NAME  || ' AND ~') || '~','AND ~~'), '~')  AS nat_key_join\r\n",
                "\t , REPLACE(REPLACE(LISTAGG(' t1.' || COLUMN_NAME || ' = s.' || COLUMN_NAME  || ' AND ~') || '~','AND ~~'), '~')  AS nat_key_join_t1\r\n",
                "\t , REPLACE(REPLACE(LISTAGG(' t2.' || COLUMN_NAME || ' = s.' || COLUMN_NAME  || ' AND ~') || '~','AND ~~'), '~')  AS nat_key_join_t2\r\n",
                "\t , REPLACE(REPLACE(LISTAGG(' nc.' || COLUMN_NAME || ' = s.' || COLUMN_NAME  || ' AND ~') || '~','AND ~~'), '~')  AS nat_key_join_nc\r\n",
                "\t , REPLACE(REPLACE(LISTAGG(' src.' || COLUMN_NAME || ' = tgt.' || COLUMN_NAME  || ' AND ~') || '~','AND ~~'), '~')  AS nat_key_join_src\r\n",
                "  FROM base\r\n",
                " ORDER BY ORDINAL_POSITION\r\n",
                "\"\"\"\r\n",
                "print(sql)\r\n",
                "\r\n",
                "cur.execute(sql)\r\n",
                "one_row = cur.fetchone()\r\n",
                "nat_key_select = one_row[0]\r\n",
                "nat_key_join = one_row[1]\r\n",
                "nat_key_join_t1 = one_row[2]\r\n",
                "nat_key_join_t2 = one_row[3]\r\n",
                "nat_key_join_nc = one_row[4]\r\n",
                "nat_key_join_src = one_row[5]\r\n",
                "\r\n",
                "print('nat_key_select:', nat_key_select)\r\n",
                "print('nat_key_join:', nat_key_join)\r\n",
                "print('nat_key_join_t1:', nat_key_join_t1)\r\n",
                "print('nat_key_join_t2:', nat_key_join_t2)\r\n",
                "print('nat_key_join_nc:', nat_key_join_nc)\r\n",
                "print('nat_key_join_src:', nat_key_join_src)"
            ],
            "outputs": [],
            "metadata": {}
        },
        {
            "cell_type": "markdown",
            "source": [
                "## Type 1 change check"
            ],
            "metadata": {}
        },
        {
            "cell_type": "code",
            "execution_count": null,
            "source": [
                "sql = \"\"\"\r\n",
                "WITH base AS\r\n",
                "(\r\n",
                "SELECT DISTINCT TOP 1000 ORDINAL_POSITION, COLUMN_NAME\r\n",
                "  FROM \"\"\" + src_database + \"\"\".INFORMATION_SCHEMA.\"COLUMNS\"\r\n",
                " WHERE COLUMN_NAME NOT IN (select trim(value) from table(split_to_table('\"\"\" + natural_key_columns + \"\"\"', ',')))\r\n",
                "   AND TABLE_SCHEMA = '\"\"\" + src_schema + \"\"\"'\r\n",
                "   AND TABLE_NAME = '\"\"\" + src_table + \"\"\"'\r\n",
                " ORDER BY ORDINAL_POSITION\r\n",
                ")\r\n",
                ", base2 AS\r\n",
                "(\r\n",
                "SELECT TRIM(LISTAGG('\\n NVL(CAST(r.' || column_name || ' AS VARCHAR),''-99999'') != NVL(CAST(s.' || column_name || ' AS VARCHAR),''-99999'')' || ' OR '), 'OR ') AS sql\r\n",
                "  FROM base\r\n",
                ")\r\n",
                "SELECT CASE WHEN TRIM(sql) = '' THEN ' 1=2 ' ELSE sql END AS ret_sql\r\n",
                "  FROM base2\r\n",
                "\"\"\"\r\n",
                "print(sql)\r\n",
                "\r\n",
                "cur.execute(sql)\r\n",
                "one_row = cur.fetchone()\r\n",
                "type_1_change_check = one_row[0]\r\n",
                "\r\n",
                "print(type_1_change_check)"
            ],
            "outputs": [],
            "metadata": {}
        },
        {
            "cell_type": "markdown",
            "source": [
                "## Type 2 change check"
            ],
            "metadata": {}
        },
        {
            "cell_type": "code",
            "execution_count": null,
            "source": [
                "sql = \"\"\"\r\n",
                "WITH base AS\r\n",
                "(\r\n",
                "SELECT DISTINCT TOP 1000 ORDINAL_POSITION, COLUMN_NAME\r\n",
                "  FROM \"\"\" + src_database + \"\"\".INFORMATION_SCHEMA.\"COLUMNS\"\r\n",
                " WHERE COLUMN_NAME IN (select trim(value) from table(split_to_table('\"\"\" + type_2_columns + \"\"\"', ',')))\r\n",
                "   AND TABLE_SCHEMA = '\"\"\" + src_schema + \"\"\"'\r\n",
                "   AND TABLE_NAME = '\"\"\" + src_table + \"\"\"'\r\n",
                " ORDER BY ORDINAL_POSITION\r\n",
                ")\r\n",
                ", base2 AS\r\n",
                "(\r\n",
                "SELECT TRIM(LISTAGG('\\n NVL(CAST(r.' || column_name || ' AS VARCHAR),''-99999'') != NVL(CAST(s.' || column_name || ' AS VARCHAR),''-99999'')' || ' OR '), 'OR ') AS sql\r\n",
                "  FROM base\r\n",
                ")\r\n",
                "SELECT CASE WHEN TRIM(sql) = '' THEN ' 1=2 ' ELSE sql END AS ret_sql\r\n",
                "  FROM base2\r\n",
                "\"\"\"\r\n",
                "print(sql)\r\n",
                "\r\n",
                "cur.execute(sql)\r\n",
                "one_row = cur.fetchone()\r\n",
                "type_2_change_check = one_row[0]\r\n",
                "\r\n",
                "print(type_2_change_check)"
            ],
            "outputs": [],
            "metadata": {}
        },
        {
            "cell_type": "markdown",
            "source": [
                "## Staging columns"
            ],
            "metadata": {}
        },
        {
            "cell_type": "code",
            "execution_count": null,
            "source": [
                "sql = \"\"\"WITH base AS\r\n",
                "(\r\n",
                "SELECT DISTINCT TOP 1000 ORDINAL_POSITION, COLUMN_NAME\r\n",
                "  FROM \"\"\" + src_database + \"\"\".INFORMATION_SCHEMA.\"COLUMNS\"\r\n",
                " WHERE TABLE_SCHEMA = '\"\"\" + src_schema + \"\"\"'\r\n",
                "   AND TABLE_NAME = '\"\"\" + src_table + \"\"\"'\r\n",
                " ORDER BY ORDINAL_POSITION\r\n",
                ")\r\n",
                "SELECT TRIM(LISTAGG('s.' || COLUMN_NAME || '' || ', '), ', ')\r\n",
                "     , TRIM(LISTAGG( COLUMN_NAME || '' || ', '), ', ')\r\n",
                "     , TRIM(LISTAGG('src.' || COLUMN_NAME || '' || ', '), ', ')\r\n",
                "  FROM base;\r\n",
                "\"\"\"\r\n",
                "print(sql)\r\n",
                "cur.execute(sql)\r\n",
                "one_row = cur.fetchone()\r\n",
                "\r\n",
                "staging_columns = one_row[0]\r\n",
                "merge_insert_list = one_row[1]\r\n",
                "merge_output_list = one_row[2]\r\n",
                "\r\n",
                "print('staging_columns:' , staging_columns)\r\n",
                "print('merge_insert_list:' , merge_insert_list)\r\n",
                "print('merge_output_list:' , merge_output_list)\r\n"
            ],
            "outputs": [],
            "metadata": {}
        },
        {
            "cell_type": "markdown",
            "source": [
                "## Merge update set"
            ],
            "metadata": {}
        },
        {
            "cell_type": "code",
            "execution_count": null,
            "source": [
                "sql = \"\"\"\r\n",
                "WITH base AS\r\n",
                "(\r\n",
                "SELECT DISTINCT TOP 1000 ORDINAL_POSITION, COLUMN_NAME\r\n",
                "  FROM \"\"\" + src_database + \"\"\".INFORMATION_SCHEMA.\"COLUMNS\"\r\n",
                " WHERE COLUMN_NAME NOT IN (select trim(value) from table(split_to_table('\"\"\" + type_0_columns + \"\"\"', ',')))\r\n",
                "   AND COLUMN_NAME NOT IN (select trim(value) from table(split_to_table('\"\"\" + natural_key_columns + \"\"\"', ',')))  \r\n",
                "   AND TABLE_SCHEMA = '\"\"\" + src_schema + \"\"\"'\r\n",
                "   AND TABLE_NAME = '\"\"\" + src_table + \"\"\"'\r\n",
                " ORDER BY ORDINAL_POSITION\r\n",
                ")\r\n",
                "SELECT TRIM(LISTAGG('\\n ' || column_name || ' = CASE ChangeType WHEN ''Type 1'' THEN SRC.' || column_name || ' ELSE DST.' || column_name || ' END' || ' , '))\r\n",
                "FROM base\r\n",
                "\"\"\"\r\n",
                "print(sql)\r\n",
                "cur.execute(sql)\r\n",
                "one_row = cur.fetchone()\r\n",
                "\r\n",
                "merge_update_set = one_row[0]\r\n",
                "print('merge_update_set:' , merge_update_set)\r\n"
            ],
            "outputs": [],
            "metadata": {}
        }
    ]
}