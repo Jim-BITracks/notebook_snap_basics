{
    "metadata": {
        "kernelspec": {
            "name": "SQL",
            "display_name": "SQL",
            "language": "sql"
        },
        "language_info": {
            "name": "sql",
            "version": ""
        }
    },
    "nbformat_minor": 2,
    "nbformat": 4,
    "cells": [
        {
            "cell_type": "markdown",
            "source": [
                "# Database Log Clean-up\r\n",
                "\r\n",
                "> Note: This project is included in the eltSnap database with using the standard installation. It is provided here so you can see the \"notebook origin\" of the project\r\n",
                "\r\n",
                "This Notebook deletes Log rows which are older than the thresholds set in table: [dbo].[application_config] for the following databases\r\n",
                "- eltsnap_v2\r\n",
                "- elt_framework\r\n",
                "\r\n",
                "This notebook can be run _interactively_ if desired by running code cells individually, and first setting the proper _connection_ context (_eltsnap_v2_ and then _elt_framework_)"
            ],
            "metadata": {
                "azdata_cell_guid": "f8c02e7a-8717-4502-8509-da7e30d23dcb"
            }
        },
        {
            "cell_type": "markdown",
            "source": [
                "## Log Clean-up for database: *eltsnap_v2*\r\n",
                "\r\n",
                "> Must first connect to the **eltsnap_v2** database"
            ],
            "metadata": {
                "azdata_cell_guid": "a5a23d9c-5346-4d12-99c5-bd8939be17f9"
            }
        },
        {
            "cell_type": "code",
            "source": [
                "-- for eltsnap_v2\r\n",
                "EXEC [dbo].[Log Delete];\r\n",
                "SELECT 0 as status_code;"
            ],
            "metadata": {
                "azdata_cell_guid": "bddebad1-5fc7-440b-803f-edd7981f8685",
                "notebooksnap": {
                    "pattern": "Execute SQL",
                    "cell_name": "eltsnap log delete",
                    "connection": "eltsnap_v2"
                }
            },
            "outputs": [],
            "execution_count": null
        },
        {
            "cell_type": "markdown",
            "source": [
                "## Log Clean-up for database: *elt_framework*\r\n",
                "\r\n",
                "> Must first connect to the **elt_framework** database"
            ],
            "metadata": {
                "azdata_cell_guid": "d9a7118b-0e65-4fb9-a9ea-3dd3d6704221"
            }
        },
        {
            "cell_type": "code",
            "source": [
                "-- for elt_framework\r\n",
                "EXEC [dbo].[Log Delete];\r\n",
                "SELECT 0 as status_code;"
            ],
            "metadata": {
                "azdata_cell_guid": "5b4d621e-3d0d-4cf5-802e-be47084e95e5",
                "notebooksnap": {
                    "pattern": "Execute SQL",
                    "cell_name": "elt framework log delete",
                    "connection": "ELT_Framework"
                }
            },
            "outputs": [],
            "execution_count": null
        }
    ]
}