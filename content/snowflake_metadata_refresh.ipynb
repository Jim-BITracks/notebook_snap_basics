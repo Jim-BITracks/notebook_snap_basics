{
    "metadata": {
        "kernelspec": {
            "name": "python3",
            "display_name": "Python 3",
            "language": "python"
        },
        "language_info": {
            "name": "python",
            "version": "3.9.6",
            "mimetype": "text/x-python",
            "codemirror_mode": {
                "name": "ipython",
                "version": 3
            },
            "pygments_lexer": "ipython3",
            "nbconvert_exporter": "python",
            "file_extension": ".py"
        },
        "extensions": {
            "azuredatastudio": {
                "version": 1,
                "views": []
            }
        }
    },
    "nbformat_minor": 2,
    "nbformat": 4,
    "cells": [
        {
            "cell_type": "markdown",
            "source": [
                "# Snowflake Metadata Refresh"
            ],
            "metadata": {
                "azdata_cell_guid": "2d0fd733-e104-40b2-b21f-85cdac9f46ca"
            }
        },
        {
            "cell_type": "code",
            "source": [
                "import snowflake.connector\r\n",
                "import os\r\n",
                "import pandas as pd\r\n",
                "\r\n",
                "pd.set_option('max_columns', 40)\r\n",
                "\r\n",
                "# Connect to Snowflake\r\n",
                "ctx = snowflake.connector.connect(\r\n",
                "    user = 'JMILLER',\r\n",
                "    password = os.environ['BISNOWPASS'],\r\n",
                "    account = 'eh69371.east-us-2.azure',\r\n",
                "    role = 'SYSADMIN',\r\n",
                "    warehouse = 'COMPUTE_WH',\r\n",
                "    database = 'UTIL_DB',\r\n",
                "    schema = 'METADATA'\r\n",
                "    )\r\n",
                "cur = ctx.cursor()\r\n",
                "\r\n",
                "# Return Client\r\n",
                "cur.execute(\"select CURRENT_CLIENT()\")\r\n",
                "one_row = cur.fetchone()\r\n",
                "print(one_row[0])\r\n",
                "\r\n",
                "SRC_SUPER_SET_ID = '5'\r\n",
                "TGT_SUPER_SET_ID = '122'\r\n",
                "APPIAN_USER_ID = 'jim-appian'\r\n",
                "print('Variables:')\r\n",
                "\r\n",
                "print('SRC_SUPER_SET_ID: ' + SRC_SUPER_SET_ID)\r\n",
                "print('TGT_SUPER_SET_ID: ' + TGT_SUPER_SET_ID )\r\n",
                "print('APPIAN_USER_ID: ' + APPIAN_USER_ID )"
            ],
            "metadata": {
                "azdata_cell_guid": "bdca4781-9494-4f61-940d-9c004032a582"
            },
            "outputs": [
                {
                    "name": "stdout",
                    "text": "PythonConnector 2.6.0\nVariables:\nSRC_SUPER_SET_ID: 5\nTGT_SUPER_SET_ID: 122\nAPPIAN_USER_ID: jim-appian\n",
                    "output_type": "stream"
                }
            ],
            "execution_count": 1
        }
    ]
}