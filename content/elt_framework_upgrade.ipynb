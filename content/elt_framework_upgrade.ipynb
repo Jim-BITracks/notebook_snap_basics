{
    "metadata": {
        "kernelspec": {
            "name": "SQL",
            "display_name": "SQL",
            "language": "sql"
        },
        "language_info": {
            "name": "sql",
            "version": ""
        }
    },
    "nbformat_minor": 2,
    "nbformat": 4,
    "cells": [
        {
            "cell_type": "markdown",
            "source": [
                "# elt framework upgrade"
            ],
            "metadata": {
                "azdata_cell_guid": "110f4fb9-34bc-4832-afa3-46949ac661e0"
            }
        },
        {
            "cell_type": "markdown",
            "source": [
                "## dbo.ELT_error_log dataflow"
            ],
            "metadata": {
                "azdata_cell_guid": "895c558e-ed37-4be1-acb5-1eaf6b160307"
            }
        },
        {
            "cell_type": "code",
            "source": [
                "SELECT * FROM dbo.ELT_error_log"
            ],
            "metadata": {
                "azdata_cell_guid": "d78fc210-5697-477e-b146-14ed1a02c0e0",
                "notebooksnap": {
                    "pattern": "Dataflow",
                    "cell_name": "dbo.ELT_error_log",
                    "src_connection": "src elt_framework upgrade",
                    "dst_connection": "dest elt_framework upgrade",
                    "dst_schema": "dbo",
                    "dst_table": "ELT_error_log",
                    "truncate_dst": "Y",
                    "identity_insert": "N",
                    "batch_size": "0"
                }
            },
            "outputs": [],
            "execution_count": null
        }
    ]
}