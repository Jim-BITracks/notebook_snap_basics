{
    "metadata": {
        "kernelspec": {
            "name": "powershell",
            "display_name": "PowerShell",
            "language": "powershell"
        },
        "language_info": {
            "name": "powershell",
            "codemirror_mode": "shell",
            "mimetype": "text/x-sh",
            "file_extension": ".ps1"
        }
    },
    "nbformat_minor": 2,
    "nbformat": 4,
    "cells": [
        {
            "cell_type": "markdown",
            "source": [
                "# PowerShell Utilities (Cmdlets)\r\n",
                "\r\n",
                "This Notebook contains miscellaneous Cmdlets (a one-line script) which can be incorporated into other notebookSnap projects"
            ],
            "metadata": {
                "azdata_cell_guid": "44841f01-e6e1-4161-af48-7ee86eb0deb3"
            }
        },
        {
            "cell_type": "markdown",
            "source": [
                "## Copy All Files in a Folder to another Location"
            ],
            "metadata": {
                "azdata_cell_guid": "f8173227-18c7-422e-a82b-cd88a999f8a1"
            }
        },
        {
            "cell_type": "code",
            "source": [
                "Copy-Item -Path <#${db_backup_folder_src}#>'D:\\db backup\\*'<##> -Destination <#${db_backup_folder_dst}#>'\\\\PC8\\PC7 Backup'<##>"
            ],
            "metadata": {
                "azdata_cell_guid": "6c1ff060-bc28-42c6-a0d9-d44b392c3da6",
                "tags": [],
                "notebooksnap": {
                    "cell_name": "Copy All Files in a Folder to another Location",
                    "executable": "PWSH",
                    "working_directory": "${powershell_script_path}",
                    "pattern": "Execute Process"
                }
            },
            "outputs": [
                {
                    "output_type": "stream",
                    "name": "stdout",
                    "text": ""
                }
            ],
            "execution_count": 2
        }
    ]
}