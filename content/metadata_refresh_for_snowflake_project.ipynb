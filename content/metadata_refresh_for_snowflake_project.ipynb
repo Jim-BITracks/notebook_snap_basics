{
    "metadata": {
        "kernelspec": {
            "name": "SQL",
            "display_name": "SQL",
            "language": "sql"
        },
        "language_info": {
            "name": "sql",
            "version": ""
        }
    },
    "nbformat_minor": 2,
    "nbformat": 4,
    "cells": [
        {
            "cell_type": "markdown",
            "source": [
                "# Metadata Refresh for Snowflake\r\n",
                ""
            ],
            "metadata": {
                "azdata_cell_guid": "d737a79e-73c7-4f13-bc41-6272e392ca90"
            }
        },
        {
            "cell_type": "markdown",
            "source": [
                "## Insert Server Name (if needed)\n",
                "\n",
                "> The 'Metadata Server Name' is a **Friendly** name. It does not need to be the same as the _true_ Server name (which is determined by the 'Connection' selected at runtime)"
            ],
            "metadata": {
                "azdata_cell_guid": "b24664e4-5d03-4ee1-a780-e513fa858f94"
            }
        },
        {
            "cell_type": "code",
            "source": [
                "DECLARE @server_name NVARCHAR(128) = /*${snowflake_Metadata_Server_Name}*/'snowflake_dev'/**/\r\n",
                "\r\n",
                "IF NOT EXISTS (SELECT 1 FROM [meta].[dim_server] WHERE [server_name] = @server_name)\r\n",
                "\tBEGIN\r\n",
                "\t\tINSERT INTO [meta].[dim_server]\r\n",
                "\t\t\t\t   ([server_name]\r\n",
                "\t\t\t\t   ,[server_type]\r\n",
                "\t\t\t\t   )\r\n",
                "\t\t\t VALUES\r\n",
                "\t\t\t\t   ( @server_name\r\n",
                "\t\t\t\t   , 'snowflake')\r\n",
                "\tEND;\r\n",
                "\r\n",
                "SELECT @@ROWCOUNT AS [row_count];\r\n",
                ""
            ],
            "metadata": {
                "azdata_cell_guid": "b01313b1-1cfa-4ce1-a578-86908ebfe422",
                "notebooksnap": {
                    "cell_name": "Insert Metadata Server Name (snowflake)",
                    "connection": "eltsnap_v2",
                    "pattern": "Execute SQL"
                },
                "tags": []
            },
            "outputs": [
                {
                    "output_type": "display_data",
                    "data": {
                        "text/html": "(1 row affected)"
                    },
                    "metadata": {}
                },
                {
                    "output_type": "display_data",
                    "data": {
                        "text/html": "Total execution time: 00:00:00.060"
                    },
                    "metadata": {}
                },
                {
                    "output_type": "execute_result",
                    "execution_count": 1,
                    "data": {
                        "application/vnd.dataresource+json": {
                            "schema": {
                                "fields": [
                                    {
                                        "name": "row_count"
                                    }
                                ]
                            },
                            "data": [
                                {
                                    "0": "0"
                                }
                            ]
                        },
                        "text/html": "<table><tr><th>row_count</th></tr><tr><td>0</td></tr></table>"
                    },
                    "metadata": {
                        "resultSet": {
                            "id": 0,
                            "batchId": 0,
                            "rowCount": 1,
                            "complete": false,
                            "columnInfo": [
                                {
                                    "isBytes": false,
                                    "isChars": false,
                                    "isSqlVariant": false,
                                    "isUdt": false,
                                    "isXml": false,
                                    "isJson": false,
                                    "sqlDbType": 8,
                                    "isHierarchyId": false,
                                    "isSqlXmlType": false,
                                    "isUnknownType": false,
                                    "isUpdatable": false,
                                    "allowDBNull": false,
                                    "baseCatalogName": null,
                                    "baseColumnName": null,
                                    "baseSchemaName": null,
                                    "baseServerName": null,
                                    "baseTableName": null,
                                    "columnName": "row_count",
                                    "columnOrdinal": 0,
                                    "columnSize": 4,
                                    "isAliased": null,
                                    "isAutoIncrement": false,
                                    "isExpression": null,
                                    "isHidden": null,
                                    "isIdentity": false,
                                    "isKey": null,
                                    "isLong": false,
                                    "isReadOnly": true,
                                    "isUnique": false,
                                    "numericPrecision": 10,
                                    "numericScale": 255,
                                    "udtAssemblyQualifiedName": null,
                                    "dataType": "System.Int32, System.Private.CoreLib, Version=4.0.0.0, Culture=neutral, PublicKeyToken=7cec85d7bea7798e",
                                    "dataTypeName": "int"
                                }
                            ],
                            "specialAction": null
                        }
                    }
                }
            ],
            "execution_count": 1
        },
        {
            "cell_type": "markdown",
            "source": [
                "## Truncate staging tables\n",
                "\n",
                "> Reusing 'Truncate staging tables' step from [Metadata Refresh for SQL Server (Project)](.\\metadata_refresh_for_sql_server_project.ipynb)"
            ],
            "metadata": {
                "azdata_cell_guid": "18fc488a-c787-4627-b52d-7174e4640864"
            }
        },
        {
            "cell_type": "markdown",
            "source": [
                "## Retrieve all Databases \r\n",
                "> Test the [refresh_database_names_snowflake](.\\content\\refresh_database_names_snowflake.sql)"
            ],
            "metadata": {
                "azdata_cell_guid": "d4a7b2f4-657c-4463-919b-2d4043232074"
            }
        },
        {
            "cell_type": "markdown",
            "source": [
                "## Note about building project to run dataflow before testing merge statement"
            ],
            "metadata": {
                "azdata_cell_guid": "bb4d4c67-46c9-4911-bc03-dfcae156a9d1"
            }
        },
        {
            "cell_type": "markdown",
            "source": [
                "## Merge stg to meta schema - dim\\_database (snowflake)"
            ],
            "metadata": {
                "azdata_cell_guid": "c4347635-2533-4296-8c7e-1fcc845c47db"
            }
        },
        {
            "cell_type": "code",
            "source": [
                "DELETE [meta].[dim_database]\r\n",
                "  FROM [meta].[dim_database] AS e\r\n",
                "  LEFT JOIN [stg].[dim_database] AS s\r\n",
                "    ON s.[server_name] = e.[server_name]\r\n",
                "   AND s.[database_name] = e.[database_name]\r\n",
                " WHERE e.[server_name] = '${snowflake_Metadata_Server_Name}'\r\n",
                "   AND s.[database_name] IS NULL\r\n",
                "\r\n",
                "INSERT [meta].[dim_database]\r\n",
                "SELECT s.[server_name]\r\n",
                "\t , s.[database_name]\r\n",
                "\t , s.[database_create_date]\r\n",
                "\t , s.[change_tracking_enabled]\r\n",
                "     , 'N'\r\n",
                "     , 'N'\r\n",
                "  FROM [stg].[dim_database] AS s\r\n",
                "  LEFT JOIN [meta].[dim_database] AS e\r\n",
                "    ON e.[server_name] = s.[server_name]\r\n",
                "   AND e.[database_name] = s.[database_name]\r\n",
                " WHERE s.[server_name] = '${snowflake_Metadata_Server_Name}'\r\n",
                "   AND e.[database_name] IS NULL;\r\n",
                "\r\n",
                "SELECT @@ROWCOUNT AS [row_count];"
            ],
            "metadata": {
                "azdata_cell_guid": "ff9e06f8-d60a-4963-9b50-9a5bfbe5ea4e",
                "notebooksnap": {
                    "cell_name": "Merge stg to meta schema - dim_database",
                    "connection": "eltsnap_v2",
                    "pattern": "Execute SQL"
                }
            },
            "outputs": [],
            "execution_count": null
        },
        {
            "cell_type": "markdown",
            "source": [
                "## src to stg - SQL Server tables"
            ],
            "metadata": {
                "azdata_cell_guid": "29c5f992-405f-4377-b7f5-d893444255ae"
            }
        },
        {
            "cell_type": "code",
            "source": [
                "SELECT '${snowflake_Metadata_Server_Name}'::VARCHAR(128) AS server_name\r\n",
                ", TABLE_CATALOG::VARCHAR(128) AS database_name\r\n",
                ", TABLE_SCHEMA::VARCHAR(128) AS table_schema\r\n",
                ", TABLE_NAME::VARCHAR(128) AS table_name\r\n",
                ", TABLE_TYPE::VARCHAR(32) AS table_type\r\n",
                ", 'N'::VARCHAR(1) AS has_identity\r\n",
                ", 'N'::VARCHAR(1) AS has_primary_key\r\n",
                ", 'SQL'::VARCHAR(16) AS row_data_source\r\n",
                " FROM ${DEV_RTI_CURATED_Database}.INFORMATION_SCHEMA.TABLES \r\n",
                " WHERE TABLE_SCHEMA != 'INFORMATION_SCHEMA';"
            ],
            "metadata": {
                "azdata_cell_guid": "c8526e4a-bf2a-4386-a4cb-2bc0d225cebe",
                "notebooksnap": {
                    "cell_name": "src to stg - SQL Server tables",
                    "src_connection": "sql_server",
                    "dst_connection": "eltsnap_v2",
                    "dst_schema": "stg",
                    "dst_table": "dim_table",
                    "truncate_dst": "0",
                    "identity_insert": "0",
                    "batch_size": "0",
                    "pattern": "Dataflow"
                }
            },
            "outputs": [],
            "execution_count": null
        },
        {
            "cell_type": "markdown",
            "source": [
                "## src to stg - SQL Server columns"
            ],
            "metadata": {
                "azdata_cell_guid": "8121c437-7e48-45fd-aad2-0e24bb0044ab"
            }
        },
        {
            "cell_type": "code",
            "source": [
                "DECLARE @Metadata_Server_Name SYSNAME = /*${Metadata_Server_Name}*/'dev'/**/;\r\n",
                "\r\n",
                "WITH [pk_columns] AS\r\n",
                "(\r\n",
                "SELECT tc.[TABLE_CATALOG] AS [database_name]\r\n",
                "\t , tc.[TABLE_SCHEMA] AS [table_schema]\r\n",
                "\t , tc.[TABLE_NAME] AS [table_name]\r\n",
                "\t , cc.[COLUMN_NAME] AS [column_name]\r\n",
                "  FROM INFORMATION_SCHEMA.TABLE_CONSTRAINTS tc\r\n",
                "  JOIN INFORMATION_SCHEMA.CONSTRAINT_COLUMN_USAGE cc \r\n",
                "\t\tON tc.CONSTRAINT_NAME = cc.Constraint_name\r\n",
                "    WHERE tc.CONSTRAINT_TYPE = 'Primary Key'\r\n",
                ")\r\n",
                "SELECT DISTINCT @Metadata_Server_Name AS [server_name]\r\n",
                "\t , c.[TABLE_CATALOG] AS [database_name] \r\n",
                "\t , c.[TABLE_SCHEMA] AS [table_schema] \r\n",
                "\t , c.[TABLE_NAME] AS [table_name] \r\n",
                "\t , c.[COLUMN_NAME] AS [column_name] \r\n",
                "\t , c.[ORDINAL_POSITION] AS [ordinal_position] \r\n",
                "\t , CAST(c.[IS_NULLABLE] AS NVARCHAR(3)) AS [is_nullable] \r\n",
                "\t , c.[DATA_TYPE] AS [data_type] \r\n",
                "\t , c.[CHARACTER_MAXIMUM_LENGTH] AS [char_max_length] \r\n",
                "\t , CASE WHEN p.[table_name] IS NULL\r\n",
                "\t\t    THEN N'N'\r\n",
                "\t\t\tELSE N'Y'\r\n",
                "\t\tEND AS [primary_key]\r\n",
                "\t , N'SQL' AS [row_data_source]\r\n",
                "FROM INFORMATION_SCHEMA.COLUMNS c \r\n",
                "  LEFT JOIN [pk_columns] p\r\n",
                "    ON p.[database_name] = c.[TABLE_CATALOG]\r\n",
                "   AND p.[table_schema] = c.[TABLE_SCHEMA]\r\n",
                "   AND p.[table_name] = c.[TABLE_NAME]\r\n",
                "   AND p.[column_name] = c.[COLUMN_NAME];"
            ],
            "metadata": {
                "azdata_cell_guid": "1b8d212f-66bc-45dd-bddf-e7d8e7fbb425",
                "notebooksnap": {
                    "cell_name": "src to stg - SQL Server columns",
                    "src_connection": "sql_server",
                    "dst_connection": "eltsnap_v2",
                    "dst_schema": "stg",
                    "dst_table": "dim_column",
                    "truncate_dst": "0",
                    "identity_insert": "0",
                    "batch_size": "0",
                    "pattern": "Dataflow"
                }
            },
            "outputs": [],
            "execution_count": null
        },
        {
            "cell_type": "markdown",
            "source": [
                "## Merge - stg to meta - dim_table"
            ],
            "metadata": {
                "azdata_cell_guid": "f4d416d7-7a47-4bae-8de3-f7446965b88e"
            }
        },
        {
            "cell_type": "code",
            "source": [
                "MERGE [meta].[dim_table] AS DST\r\n",
                "USING [stg].[dim_table] AS SRC\r\n",
                "   ON src.[server_name] = dst.[server_name]\r\n",
                "   AND src.[database_name] = dst.[database_name]\r\n",
                "   AND src.[table_schema] = dst.[table_schema]\r\n",
                "   AND src.[table_name] = dst.[table_name]\r\n",
                "\r\n",
                "WHEN MATCHED AND (    DST.[table_type] != SRC.[table_type] \r\n",
                "                   OR DST.[has_identity] != SRC.[has_identity] \r\n",
                "\t           OR DST.[has_primary_key] != SRC.[has_primary_key] ) THEN\r\n",
                "\t\tUPDATE SET [table_type] =  SRC.[table_type] \r\n",
                "                 , [has_identity] =  SRC.[has_identity] \r\n",
                "                 , [has_primary_key] = SRC.[has_primary_key] \r\n",
                "\r\n",
                "WHEN NOT MATCHED THEN \r\n",
                "INSERT ( [server_name]\r\n",
                "      ,[database_name]\r\n",
                "      ,[table_schema]\r\n",
                "      ,[table_name]\r\n",
                "      ,[table_type]\r\n",
                "      ,[has_identity]\r\n",
                "      ,[has_primary_key]\r\n",
                "      ,[enable_change_tracking]\r\n",
                "\t   )\r\n",
                "VALUES (\r\n",
                "\t   [server_name]\r\n",
                "      ,[database_name]\r\n",
                "      ,[table_schema]\r\n",
                "      ,[table_name]\r\n",
                "      ,[table_type]\r\n",
                "      ,[has_identity]\r\n",
                "      ,[has_primary_key]\r\n",
                "      ,'N'\t\r\n",
                "\t   )\r\n",
                "WHEN NOT MATCHED BY SOURCE \r\n",
                " AND DST.[server_name] = /*${Metadata_Server_Name}*/'dev'/**/ \r\n",
                " AND DST.[database_name] = /*${sql_server_Database}*/'eltsnap_v2'/**/ THEN\r\n",
                "\t DELETE;\r\n",
                "\r\n",
                "SELECT @@ROWCOUNT AS [row_count];"
            ],
            "metadata": {
                "azdata_cell_guid": "e278da37-0e2e-4c86-8a83-60a1de7378c4",
                "notebooksnap": {
                    "cell_name": "Merge stg to meta schema - dim_table",
                    "connection": "eltsnap_v2",
                    "pattern": "Execute SQL"
                }
            },
            "outputs": [],
            "execution_count": null
        },
        {
            "cell_type": "markdown",
            "source": [
                "## Merge - stg to meta - dim_column"
            ],
            "metadata": {
                "azdata_cell_guid": "84719d92-5a3f-4344-8368-5c87e9509a6e"
            }
        },
        {
            "cell_type": "code",
            "source": [
                "MERGE [meta].[dim_column] AS DST\r\n",
                "USING [stg].[dim_column] AS SRC\r\n",
                "   ON src.[server_name] = dst.[server_name]\r\n",
                "   AND src.[database_name] = dst.[database_name]\r\n",
                "   AND src.[table_schema] = dst.[table_schema]\r\n",
                "   AND src.[table_name] = dst.[table_name]\r\n",
                "   AND src.[column_name] = dst.[column_name]\r\n",
                "\r\n",
                "WHEN MATCHED AND (    DST.[ordinal_position] != SRC.[ordinal_position] \r\n",
                "                   OR DST.[is_nullable] != SRC.[is_nullable] \r\n",
                "\t\t   OR DST.[data_type] != SRC.[data_type]\r\n",
                "                   OR DST.[char_max_length] != SRC.[char_max_length] \r\n",
                "\t\t   OR DST.[primary_key] != SRC.[primary_key] \r\n",
                "               ) THEN\r\n",
                "UPDATE SET [ordinal_position] = SRC.[ordinal_position] \r\n",
                "         , [is_nullable] = SRC.[is_nullable] \r\n",
                "         , [data_type] = SRC.[data_type] \r\n",
                "         , [char_max_length] = SRC.[char_max_length]\r\n",
                "\t\t   , [primary_key] = SRC.[primary_key]\r\n",
                "\r\n",
                "WHEN NOT MATCHED THEN \r\n",
                "INSERT (  [server_name]\r\n",
                "\t    , [database_name]\r\n",
                "        , [table_schema]\r\n",
                "        , [table_name]\r\n",
                "        , [column_name]\r\n",
                "        , [ordinal_position]\r\n",
                "        , [is_nullable]\r\n",
                "        , [data_type]\r\n",
                "        , [char_max_length]\r\n",
                "\t\t, [primary_key]\r\n",
                "\t   )\r\n",
                "VALUES (\r\n",
                "\t\t  [server_name]\r\n",
                "\t    , [database_name]\r\n",
                "        , [table_schema]\r\n",
                "        , [table_name]\r\n",
                "        , [column_name]\r\n",
                "        , [ordinal_position]\r\n",
                "        , [is_nullable]\r\n",
                "        , [data_type]\r\n",
                "        , [char_max_length]\r\n",
                "\t\t, [primary_key]\r\n",
                "\t   )\r\n",
                "WHEN NOT MATCHED BY SOURCE\r\n",
                " AND DST.[server_name] = /*${Metadata_Server_Name}*/'dev'/**/ \r\n",
                " AND DST.[database_name] = /*${sql_server_Database}*/'eltsnap_v2'/**/ THEN\r\n",
                "\t DELETE;\r\n",
                "\r\n",
                "SELECT @@ROWCOUNT AS [row_count];"
            ],
            "metadata": {
                "azdata_cell_guid": "855a6f47-b86e-405f-b4e5-b64822659709",
                "notebooksnap": {
                    "cell_name": "Merge stg to meta schema - dim_column",
                    "connection": "eltsnap_v2",
                    "pattern": "Execute SQL"
                }
            },
            "outputs": [],
            "execution_count": null
        },
        {
            "cell_type": "markdown",
            "source": [
                "## Merge stg to dbo schema - dim_table"
            ],
            "metadata": {
                "azdata_cell_guid": "92d9a9f0-b238-4aef-aaf1-16edd4c90e52"
            }
        },
        {
            "cell_type": "code",
            "source": [
                "EXEC [elt].[build_and_execute_merge_for_dimension] 'stg', 'dim_table', 'dbo', 'dim_table', 'Standard', 'server_name,database_name,table_schema,table_name','table_type';"
            ],
            "metadata": {
                "azdata_cell_guid": "9beb6695-0a43-4889-8b65-2b197fef467d",
                "notebooksnap": {
                    "cell_name": "Merge stg to dbo schema - dim_table",
                    "connection": "eltsnap_v2",
                    "pattern": "Execute SQL"
                }
            },
            "outputs": [],
            "execution_count": null
        },
        {
            "cell_type": "markdown",
            "source": [
                "## Merge stg to dbo schema - dim_column"
            ],
            "metadata": {
                "azdata_cell_guid": "3b5aba0b-317b-44f3-a5d7-1afc0e735d26"
            }
        },
        {
            "cell_type": "code",
            "source": [
                "EXEC [elt].[build_and_execute_merge_for_dimension] 'stg', 'dim_column', 'dbo', 'dim_column', 'Standard', 'server_name,database_name,table_schema,table_name,column_name','is_nullable,data_type,char_max_length';"
            ],
            "metadata": {
                "azdata_cell_guid": "eb5d827a-4bf5-4d08-9864-fba5f7b29cbb",
                "notebooksnap": {
                    "cell_name": "Merge stg to dbo schema - dim_column",
                    "connection": "eltsnap_v2",
                    "pattern": "Execute SQL"
                }
            },
            "outputs": [],
            "execution_count": null
        },
        {
            "cell_type": "markdown",
            "source": [
                "## dim delete - dbo - dim_table"
            ],
            "metadata": {
                "azdata_cell_guid": "d60220a1-bfd0-497c-a6f2-0a83f2656f2d"
            }
        },
        {
            "cell_type": "code",
            "source": [
                "WITH [deleted_rows] AS\r\n",
                "(\r\n",
                "SELECT [server_name]\r\n",
                "\t , [database_name]\r\n",
                "\t , [table_schema]\r\n",
                "\t , [table_name]\r\n",
                "  FROM [dbo].[dim_table]\r\n",
                "EXCEPT \r\n",
                "SELECT [server_name]\r\n",
                "\t , [database_name]\r\n",
                "\t , [table_schema]\r\n",
                "\t , [table_name]\r\n",
                "  FROM [meta].[dim_table]\r\n",
                ")\r\n",
                "UPDATE [dbo].[dim_table]\r\n",
                "   SET [row_expiration_date] = CAST(GETDATE() AS DATE)\r\n",
                "     , [row_update_date] = CAST(GETDATE() AS DATE)\r\n",
                "  FROM [dbo].[dim_table] t\r\n",
                "  JOIN [deleted_rows] d\r\n",
                "    ON d.[server_name]   = t.[server_name]\r\n",
                "   AND d.[database_name] = t.[database_name]\r\n",
                "   AND d.[table_schema]  = t.[table_schema]\r\n",
                "   AND d.[table_name]    = t.[table_name]\r\n",
                " WHERE t.[row_expiration_date] = '9999-12-31';\r\n",
                "\r\n",
                "SELECT @@ROWCOUNT AS [row_count];"
            ],
            "metadata": {
                "azdata_cell_guid": "d10c2280-02bb-435f-9b23-25349233d2fe",
                "notebooksnap": {
                    "cell_name": "dim delete - dbo - dim_table",
                    "connection": "eltsnap_v2",
                    "pattern": "Execute SQL"
                }
            },
            "outputs": [],
            "execution_count": null
        },
        {
            "cell_type": "markdown",
            "source": [
                "## dim delete - dbo - dim_column"
            ],
            "metadata": {
                "azdata_cell_guid": "e90b722d-2892-4074-a34f-e217e799ff8c"
            }
        },
        {
            "cell_type": "code",
            "source": [
                "WITH [deleted_rows] AS\r\n",
                "(\r\n",
                "SELECT [server_name]\r\n",
                "\t , [database_name]\r\n",
                "\t , [table_schema]\r\n",
                "\t , [table_name]\r\n",
                "\t , [column_name]\r\n",
                "  FROM [dbo].[dim_column]\r\n",
                "EXCEPT \r\n",
                "SELECT [server_name]\r\n",
                "\t , [database_name]\r\n",
                "\t , [table_schema]\r\n",
                "\t , [table_name]\r\n",
                "\t , [column_name]\r\n",
                "  FROM [meta].[dim_column]\r\n",
                ")\r\n",
                "UPDATE [dbo].[dim_column]\r\n",
                "   SET [row_expiration_date] = CAST(GETDATE() AS DATE)\r\n",
                "     , [row_update_date] = CAST(GETDATE() AS DATE)\r\n",
                "  FROM [dbo].[dim_column] c\r\n",
                "  JOIN [deleted_rows] d\r\n",
                "    ON d.[server_name]   = c.[server_name]\r\n",
                "   AND d.[database_name] = c.[database_name]\r\n",
                "   AND d.[table_schema]  = c.[table_schema]\r\n",
                "   AND d.[table_name]    = c.[table_name]\r\n",
                "   AND d.[column_name]   = c.[column_name]\r\n",
                " WHERE c.[row_expiration_date] = '9999-12-31';\r\n",
                "\r\n",
                "SELECT @@ROWCOUNT AS [row_count];"
            ],
            "metadata": {
                "azdata_cell_guid": "bf261a7a-f07f-43b5-b699-f5a758f4a464",
                "notebooksnap": {
                    "cell_name": "dim delete - dbo - dim_column",
                    "connection": "eltsnap_v2",
                    "pattern": "Execute SQL"
                }
            },
            "outputs": [],
            "execution_count": null
        }
    ]
}