{
    "metadata": {
        "kernelspec": {
            "name": "SQL",
            "display_name": "SQL",
            "language": "sql"
        },
        "language_info": {
            "name": "sql",
            "version": ""
        }
    },
    "nbformat_minor": 2,
    "nbformat": 4,
    "cells": [
        {
            "cell_type": "markdown",
            "source": [
                "# Metadata Refresh for Snowflake\r\n",
                ""
            ],
            "metadata": {
                "azdata_cell_guid": "d737a79e-73c7-4f13-bc41-6272e392ca90"
            }
        },
        {
            "cell_type": "markdown",
            "source": [
                "## Insert Server Name (if needed)\n",
                "\n",
                "> The 'Metadata Server Name' is a **Friendly** name. It does not need to be the same as the _true_ Server name (which is determined by the 'Connection' selected at runtime)"
            ],
            "metadata": {
                "azdata_cell_guid": "b24664e4-5d03-4ee1-a780-e513fa858f94"
            }
        },
        {
            "cell_type": "code",
            "source": [
                "DECLARE @server_name NVARCHAR(128) = /*${snowflake_Metadata_Server_Name}*/'snowflake_dev'/**/\r\n",
                "\r\n",
                "IF NOT EXISTS (SELECT 1 FROM [meta].[dim_server] WHERE [server_name] = @server_name)\r\n",
                "\tBEGIN\r\n",
                "\t\tINSERT INTO [meta].[dim_server]\r\n",
                "\t\t\t\t   ([server_name]\r\n",
                "\t\t\t\t   ,[server_type]\r\n",
                "\t\t\t\t   )\r\n",
                "\t\t\t VALUES\r\n",
                "\t\t\t\t   ( @server_name\r\n",
                "\t\t\t\t   , 'snowflake')\r\n",
                "\tEND;\r\n",
                "\r\n",
                "SELECT @@ROWCOUNT AS [row_count];\r\n",
                ""
            ],
            "metadata": {
                "azdata_cell_guid": "b01313b1-1cfa-4ce1-a578-86908ebfe422",
                "notebooksnap": {
                    "cell_name": "Insert Metadata Server Name (snowflake)",
                    "connection": "eltsnap_v2",
                    "pattern": "Execute SQL"
                },
                "tags": []
            },
            "outputs": [],
            "execution_count": null
        },
        {
            "cell_type": "markdown",
            "source": [
                "## Truncate staging tables\n",
                "\n",
                "> Reusing 'Truncate staging tables' step from 'Metadata Refresh for SQL Server (Project)'"
            ],
            "metadata": {
                "azdata_cell_guid": "18fc488a-c787-4627-b52d-7174e4640864"
            }
        },
        {
            "cell_type": "markdown",
            "source": [
                "## Retrieve all Databases \r\n",
                "> Using code from refresh_database_names_snowflake.sql file (content\\refresh_database_names_snowflake.sql)"
            ],
            "metadata": {
                "azdata_cell_guid": "d4a7b2f4-657c-4463-919b-2d4043232074"
            }
        },
        {
            "cell_type": "markdown",
            "source": [
                "## Merge stg to meta schema - dim\\_database (snowflake)"
            ],
            "metadata": {
                "azdata_cell_guid": "c4347635-2533-4296-8c7e-1fcc845c47db"
            }
        },
        {
            "cell_type": "code",
            "source": [
                "DELETE [meta].[dim_database]\r\n",
                "  FROM [meta].[dim_database] AS e\r\n",
                "  LEFT JOIN [stg].[dim_database] AS s\r\n",
                "    ON s.[server_name] = e.[server_name]\r\n",
                "   AND s.[database_name] = e.[database_name]\r\n",
                " WHERE e.[server_name] = '${snowflake_Metadata_Server_Name}'\r\n",
                "   AND s.[database_name] IS NULL\r\n",
                "\r\n",
                "INSERT [meta].[dim_database]\r\n",
                "SELECT s.[server_name]\r\n",
                "\t , s.[database_name]\r\n",
                "\t , s.[database_create_date]\r\n",
                "\t , s.[change_tracking_enabled]\r\n",
                "     , 'N'\r\n",
                "     , 'N'\r\n",
                "  FROM [stg].[dim_database] AS s\r\n",
                "  LEFT JOIN [meta].[dim_database] AS e\r\n",
                "    ON e.[server_name] = s.[server_name]\r\n",
                "   AND e.[database_name] = s.[database_name]\r\n",
                " WHERE s.[server_name] = '${snowflake_Metadata_Server_Name}'\r\n",
                "   AND e.[database_name] IS NULL;\r\n",
                "\r\n",
                "SELECT @@ROWCOUNT AS [row_count];"
            ],
            "metadata": {
                "azdata_cell_guid": "ff9e06f8-d60a-4963-9b50-9a5bfbe5ea4e",
                "notebooksnap": {
                    "cell_name": "Merge stg to meta schema (snowflake) - dim_database",
                    "connection": "eltsnap_v2",
                    "pattern": "Execute SQL"
                }
            },
            "outputs": [],
            "execution_count": null
        },
        {
            "cell_type": "markdown",
            "source": [
                "## src to stg - SQL Server tables\r\n",
                "\r\n",
                "> Using code from src_to_stg_snowflake_tables.sql file (content\\src_to_stg_snowflake_tables.sql)"
            ],
            "metadata": {
                "azdata_cell_guid": "29c5f992-405f-4377-b7f5-d893444255ae"
            }
        },
        {
            "cell_type": "markdown",
            "source": [
                "## src to stg - SQL Server columns\r\n",
                "\r\n",
                "> Using code from src_to_stg_snowflake_columns.sql file (content\\src_to_stg_snowflake_columns.sql)"
            ],
            "metadata": {
                "azdata_cell_guid": "8121c437-7e48-45fd-aad2-0e24bb0044ab"
            }
        },
        {
            "cell_type": "markdown",
            "source": [
                "## Merge - stg to meta - dim_table"
            ],
            "metadata": {
                "azdata_cell_guid": "f4d416d7-7a47-4bae-8de3-f7446965b88e"
            }
        },
        {
            "cell_type": "code",
            "source": [
                "MERGE [meta].[dim_table] AS DST\r\n",
                "USING [stg].[dim_table] AS SRC\r\n",
                "   ON src.[server_name] = dst.[server_name]\r\n",
                "   AND src.[database_name] = dst.[database_name]\r\n",
                "   AND src.[table_schema] = dst.[table_schema]\r\n",
                "   AND src.[table_name] = dst.[table_name]\r\n",
                "\r\n",
                "WHEN MATCHED AND (    DST.[table_type] != SRC.[table_type] \r\n",
                "                   OR DST.[has_identity] != SRC.[has_identity] \r\n",
                "\t           OR DST.[has_primary_key] != SRC.[has_primary_key] ) THEN\r\n",
                "\t\tUPDATE SET [table_type] =  SRC.[table_type] \r\n",
                "                 , [has_identity] =  SRC.[has_identity] \r\n",
                "                 , [has_primary_key] = SRC.[has_primary_key] \r\n",
                "\r\n",
                "WHEN NOT MATCHED THEN \r\n",
                "INSERT ( [server_name]\r\n",
                "      ,[database_name]\r\n",
                "      ,[table_schema]\r\n",
                "      ,[table_name]\r\n",
                "      ,[table_type]\r\n",
                "      ,[has_identity]\r\n",
                "      ,[has_primary_key]\r\n",
                "      ,[enable_change_tracking]\r\n",
                "\t   )\r\n",
                "VALUES (\r\n",
                "\t   [server_name]\r\n",
                "      ,[database_name]\r\n",
                "      ,[table_schema]\r\n",
                "      ,[table_name]\r\n",
                "      ,[table_type]\r\n",
                "      ,[has_identity]\r\n",
                "      ,[has_primary_key]\r\n",
                "      ,'N'\t\r\n",
                "\t   )\r\n",
                "WHEN NOT MATCHED BY SOURCE \r\n",
                " AND DST.[server_name] = '${snowflake_Metadata_Server_Name}' \r\n",
                " AND DST.[database_name] = /*${sql_server_Database}*/'eltsnap_v2'/**/ THEN\r\n",
                "\t DELETE;\r\n",
                "\r\n",
                "SELECT @@ROWCOUNT AS [row_count];"
            ],
            "metadata": {
                "azdata_cell_guid": "e278da37-0e2e-4c86-8a83-60a1de7378c4",
                "notebooksnap": {
                    "cell_name": "Merge stg to meta schema - dim_table (snowflake)",
                    "connection": "eltsnap_v2",
                    "pattern": "Execute SQL"
                }
            },
            "outputs": [],
            "execution_count": null
        },
        {
            "cell_type": "markdown",
            "source": [
                "## Merge - stg to meta - dim_column"
            ],
            "metadata": {
                "azdata_cell_guid": "84719d92-5a3f-4344-8368-5c87e9509a6e"
            }
        },
        {
            "cell_type": "code",
            "source": [
                "MERGE [meta].[dim_column] AS DST\r\n",
                "USING [stg].[dim_column] AS SRC\r\n",
                "   ON src.[server_name] = dst.[server_name]\r\n",
                "   AND src.[database_name] = dst.[database_name]\r\n",
                "   AND src.[table_schema] = dst.[table_schema]\r\n",
                "   AND src.[table_name] = dst.[table_name]\r\n",
                "   AND src.[column_name] = dst.[column_name]\r\n",
                "\r\n",
                "WHEN MATCHED AND (    DST.[ordinal_position] != SRC.[ordinal_position] \r\n",
                "                   OR DST.[is_nullable] != SRC.[is_nullable] \r\n",
                "\t\t   OR DST.[data_type] != SRC.[data_type]\r\n",
                "                   OR DST.[char_max_length] != SRC.[char_max_length] \r\n",
                "\t\t   OR DST.[primary_key] != SRC.[primary_key] \r\n",
                "               ) THEN\r\n",
                "UPDATE SET [ordinal_position] = SRC.[ordinal_position] \r\n",
                "         , [is_nullable] = SRC.[is_nullable] \r\n",
                "         , [data_type] = SRC.[data_type] \r\n",
                "         , [char_max_length] = SRC.[char_max_length]\r\n",
                "\t\t   , [primary_key] = SRC.[primary_key]\r\n",
                "\r\n",
                "WHEN NOT MATCHED THEN \r\n",
                "INSERT (  [server_name]\r\n",
                "\t    , [database_name]\r\n",
                "        , [table_schema]\r\n",
                "        , [table_name]\r\n",
                "        , [column_name]\r\n",
                "        , [ordinal_position]\r\n",
                "        , [is_nullable]\r\n",
                "        , [data_type]\r\n",
                "        , [char_max_length]\r\n",
                "\t\t, [primary_key]\r\n",
                "\t   )\r\n",
                "VALUES (\r\n",
                "\t\t  [server_name]\r\n",
                "\t    , [database_name]\r\n",
                "        , [table_schema]\r\n",
                "        , [table_name]\r\n",
                "        , [column_name]\r\n",
                "        , [ordinal_position]\r\n",
                "        , [is_nullable]\r\n",
                "        , [data_type]\r\n",
                "        , [char_max_length]\r\n",
                "\t\t, [primary_key]\r\n",
                "\t   )\r\n",
                "WHEN NOT MATCHED BY SOURCE\r\n",
                " AND DST.[server_name] = '${snowflake_Metadata_Server_Name}' \r\n",
                " AND DST.[database_name] = /*${sql_server_Database}*/'eltsnap_v2'/**/ THEN\r\n",
                "\t DELETE;\r\n",
                "\r\n",
                "SELECT @@ROWCOUNT AS [row_count];"
            ],
            "metadata": {
                "azdata_cell_guid": "855a6f47-b86e-405f-b4e5-b64822659709",
                "notebooksnap": {
                    "cell_name": "Merge stg to meta schema - dim_column (snowflake)",
                    "connection": "eltsnap_v2",
                    "pattern": "Execute SQL"
                }
            },
            "outputs": [],
            "execution_count": null
        },
        {
            "cell_type": "markdown",
            "source": [
                "## Merge stg to dbo schema - dim_table\r\n",
                "\r\n",
                "> Reusing 'Merge stg to dbo schema - dim_table' step from 'Metadata Refresh for SQL Server (Project)'"
            ],
            "metadata": {
                "azdata_cell_guid": "92d9a9f0-b238-4aef-aaf1-16edd4c90e52"
            }
        },
        {
            "cell_type": "markdown",
            "source": [
                "## Merge stg to dbo schema - dim_column\r\n",
                "\r\n",
                "> Reusing 'Merge stg to dbo schema - dim_column' step from 'Metadata Refresh for SQL Server (Project)'"
            ],
            "metadata": {
                "azdata_cell_guid": "3b5aba0b-317b-44f3-a5d7-1afc0e735d26"
            }
        },
        {
            "cell_type": "markdown",
            "source": [
                "## dim delete - dbo - dim_table\r\n",
                "\r\n",
                "> Reusing 'dim delete - dbo - dim_table' step from 'Metadata Refresh for SQL Server (Project)'"
            ],
            "metadata": {
                "azdata_cell_guid": "d60220a1-bfd0-497c-a6f2-0a83f2656f2d"
            }
        },
        {
            "cell_type": "markdown",
            "source": [
                "## dim delete - dbo - dim_column\r\n",
                "\r\n",
                "> Reusing 'dim delete - dbo - dim_column' step from 'Metadata Refresh for SQL Server (Project)'"
            ],
            "metadata": {
                "azdata_cell_guid": "e90b722d-2892-4074-a34f-e217e799ff8c"
            }
        }
    ]
}