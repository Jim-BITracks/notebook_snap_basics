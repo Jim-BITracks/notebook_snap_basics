{
    "metadata": {
        "kernelspec": {
            "name": "SQL",
            "display_name": "SQL",
            "language": "sql"
        },
        "language_info": {
            "name": "sql",
            "version": ""
        }
    },
    "nbformat_minor": 2,
    "nbformat": 4,
    "cells": [
        {
            "cell_type": "markdown",
            "source": [
                "# Build and Execute Merge for Dimension for Snowflake (Project Setup)\n",
                "\n",
                "This notebook contains the SQL Set-up scripts for the eltSnap project \"Build and Execute Merge for Dimension for Snowflake\"\n",
                "\n",
                "These script needs to be run **after** running the notebook called **Ingest ADS Notebook Files (Project)**"
            ],
            "metadata": {
                "azdata_cell_guid": "79fec498-f45d-45ee-bfdb-1bc73a11e4c4"
            }
        },
        {
            "cell_type": "markdown",
            "source": [
                "## This project requires a free Snowflake ODBC driver \r\n",
                "\r\n",
                "> The Snowflake ODBC driver can be downloaded [here](https://docs.snowflake.com/en/user-guide/odbc.html)"
            ],
            "metadata": {
                "azdata_cell_guid": "c88c1b47-aeed-4bc1-9fe3-f74cb9200677"
            }
        },
        {
            "cell_type": "markdown",
            "source": [
                "## Create a DSN using the ODBC Data Source application\n",
                "\n",
                "### 1\\. Navigate to the 'System DSN' tab and click 'Add' to create a new DSN\n",
                "\n",
                "![System DSN](.\\odbc_app.png)\n",
                "\n",
                "### 2\\. Choose 'SnowflakeDSIIDriver' and click 'Finish'\n",
                "\n",
                "![Add Data Source](.\\add_odbc_data_source.png)\n",
                "\n",
                "### 3\\. Configure the connection settings\n",
                "\n",
                "Use the following connection settings\n",
                "\n",
                "| Property | Description |\n",
                "| --- | --- |\n",
                "| Data Source | Friendly name of the data source |\n",
                "| User | User name to access the Snowflake database |\n",
                "| Password | Password to access the Snowflake database |\n",
                "| Server | Domain name of your Snowflake account |\n",
                "| Database | Name of the Snowflake database |\n",
                "| Schema | Name of the Snowflake schema |\n",
                "| Warehouse | Name of the Snowflake warehouse |\n",
                "| Role | The Snowflake role assigned to the user |\n",
                "| Tracing (0-6) | Sets the amount of detail shown in the log file |\n",
                "```\n",
                "Tracing levels\n",
                "- 0. Disable Tracing\n",
                "- 1. Fatal error tracing\n",
                "- 2. Error tracing\n",
                "- 3. Warning tracing\n",
                "- 4. Info tracing\n",
                "- 5. Debug tracing\n",
                "- 6. Detailed tracing\n",
                "```\n",
                "The following image shows the dialog box where you can input the connection settings\n",
                "\n",
                "![Configuration Dialog](.\\odbc_config.png)\n",
                "\n",
                "> For more information a Snowflake ODBC user guide can be found [here](https://docs.snowflake.com/en/user-guide/odbc-parameters.html)\n",
                "\n",
                "### 4\\. Add password to Registry Editor\n",
                "\n",
                "The password in the ODBC configuration dialog will **not persist**. Adding the password using the Registry Editor (Choose: New String Value, with the name 'PWD') will remedy this issue:\n",
                "\n",
                "![Configuration Dialog](.\\regedit_password.png)"
            ],
            "metadata": {
                "azdata_cell_guid": "0a0d94ce-536c-46d2-b6a5-8c8ba37f04d6"
            }
        },
        {
            "cell_type": "markdown",
            "source": [
                "## Add a Connection for the Snowflake database (Source)\n",
                "\n",
                "Update and verify the Parameter Values in the EXEC statement below to correspond to your server/database specifications.\n",
                "\n",
                "> Note: Initial Parameter Values can be substituted at runtime"
            ],
            "metadata": {
                "azdata_cell_guid": "553ecc46-ce65-4944-819e-be9995c84dad"
            }
        },
        {
            "cell_type": "code",
            "source": [
                "EXEC [elt].[Save Connection by Name] \r\n",
                "     @connection_name = 'snowflake-demo'\r\n",
                "   , @server_name = 'snowflake-demo'\r\n",
                "   , @database_name = 'CAR_CRASH'\r\n",
                "   , @provider = 'odbc'\r\n",
                "   , @project_name = 'Build and Execute Merge for Dimension (Snowflake)'\r\n",
                "   , @custom_connect_string = 'DSN=snowflake-demo'"
            ],
            "metadata": {
                "azdata_cell_guid": "809e7389-ccc1-4ce0-a90a-f57ad7c5c9a9"
            },
            "outputs": [],
            "execution_count": null
        },
        {
            "cell_type": "markdown",
            "source": [
                "## Create Staging Schema Parameter for the Snowflake database (Source)\r\n",
                "\r\n",
                "Verify the Parameter Values in the EXEC statement below according to your server specifications. You may need to _replace_ 'STG' with your schema name.\r\n",
                "\r\n",
                "> Be sure to create the same schema name in your Snowflake database"
            ],
            "metadata": {
                "azdata_cell_guid": "35d946fc-6985-4f63-a967-06f83f8ba1fa"
            }
        },
        {
            "cell_type": "code",
            "source": [
                "IF NOT EXISTS (SELECT 1 FROM [elt].[parameter] WHERE [parameter_name] = 'snowflake_staging_schema')\r\n",
                "BEGIN\r\n",
                "    INSERT INTO [elt].[parameter]\r\n",
                "                ( [parameter_name]\r\n",
                "                , [parameter_value]\r\n",
                "                , [parameter_type] )\r\n",
                "            VALUES\r\n",
                "                ( 'snowflake_staging_schema'\r\n",
                "                , 'STG'\r\n",
                "                , 'String' )\r\n",
                "END"
            ],
            "metadata": {
                "azdata_cell_guid": "7f3dbba3-f282-42d1-a398-8d9a813aea35"
            },
            "outputs": [],
            "execution_count": null
        },
        {
            "cell_type": "markdown",
            "source": [
                "## Build and Execute Merge for Dimension (Snowflake) - Project Import\n",
                "\n",
                "The following script is used to populate the table: [ads].[project_cells] with the desired sequence numbers and file resources, along with the command used to Import this project"
            ],
            "metadata": {
                "azdata_cell_guid": "baa80723-a33c-4798-9439-90bc1737ce3c"
            }
        },
        {
            "cell_type": "code",
            "source": [
                "DELETE FROM [ads].[project_cells] WHERE [project_name] = 'Build and Execute Merge for Dimension (Snowflake)'\r\n",
                "\r\n",
                "INSERT [ads].[project_cells] ([project_name], [full_name], [cell_name], [sequence_number], [parallel_executions]) VALUES (N'Build and Execute Merge for Dimension (Snowflake)',\tN'notebook_snap_basics\\content\\added_dim_column_names_snowflake_create.sql',\tN'Create Added Dim Column Names Table (snowflake)', 100, NULL)\r\n",
                "INSERT [ads].[project_cells] ([project_name], [full_name], [cell_name], [sequence_number], [parallel_executions]) VALUES (N'Build and Execute Merge for Dimension (Snowflake)',\tN'notebook_snap_basics\\content\\added_dim_column_names_snowflake_insert.sql',\tN'Insert into Added Dim Column Names Table (snowflake)', 110, NULL)\r\n",
                "INSERT [ads].[project_cells] ([project_name], [full_name], [cell_name], [sequence_number], [parallel_executions]) VALUES (N'Build and Execute Merge for Dimension (Snowflake)',\tN'notebook_snap_basics\\content\\build_and_execute_merge_for_dimension_snowflake.sql',    N'Create Dimension Merge Procedure (snowflake)', 120,\tNULL)\r\n",
                "INSERT [ads].[project_cells] ([project_name], [full_name], [cell_name], [sequence_number], [parallel_executions]) VALUES (N'Build and Execute Merge for Dimension (Snowflake)',\tN'notebook_snap_basics\\content\\build_and_execute_merge_for_dimension_dest_fix_snowflake.sql',\tN'Create Dest Dimension Self-fix Procedure (snowflake)', 130, NULL)"
            ],
            "metadata": {
                "azdata_cell_guid": "aa8d878a-fa34-4934-ac4a-fa3ddf1d6a18"
            },
            "outputs": [],
            "execution_count": null
        },
        {
            "cell_type": "markdown",
            "source": [
                "## Check Impact of Importing Project "
            ],
            "metadata": {
                "azdata_cell_guid": "7673756f-656c-4aca-ac07-327e694f526b"
            }
        },
        {
            "cell_type": "code",
            "source": [
                "EXEC [ads].[Impact Check from ADS] 'Build and Execute Merge for Dimension (Snowflake)', NULL;"
            ],
            "metadata": {
                "azdata_cell_guid": "ee2a88aa-c216-411c-ad12-a8de92e2e4a5"
            },
            "outputs": [],
            "execution_count": null
        },
        {
            "cell_type": "markdown",
            "source": [
                "## Import project from ADS\r\n",
                "\r\n",
                "> Before running _Import Project_ step, be sure to first _Ingest_ the notebooks. See: [Ingest ADS Notebook Files (Interactive)](ingest_ads_notebook_files_interactive.ipynb)"
            ],
            "metadata": {
                "azdata_cell_guid": "a6bd66df-fef9-4d86-9f3a-3fe519d8ce8e"
            }
        },
        {
            "cell_type": "code",
            "source": [
                "EXEC [ads].[Import Project from ADS] 'Build and Execute Merge for Dimension (Snowflake)';"
            ],
            "metadata": {
                "azdata_cell_guid": "ef2b1bfa-e72f-4968-8781-e916b3d9e4f1"
            },
            "outputs": [],
            "execution_count": null
        },
        {
            "cell_type": "markdown",
            "source": [
                "## Next Step...\r\n",
                "\r\n",
                "The associated notebook: [Build Sample Merge for Snowflake Dimension (Project Setup)](build_sample_merge_for_dimension_snowflake_project_setup.ipynb) can be used to Deploy a 'Sample Merge Statement' _Project_ into eltSnap to run against your _Snowflake_ database."
            ],
            "metadata": {
                "azdata_cell_guid": "54479e2a-1abd-4cc8-909b-8092c1a14d50"
            }
        }
    ]
}